{
 "cells": [
  {
   "cell_type": "markdown",
   "metadata": {
    "id": "f46lxLSsBp0f"
   },
   "source": [
    "# Домашнее задание 5. Градиентный спуск. (10 баллов + 2.5 бонус)"
   ]
  },
  {
   "cell_type": "markdown",
   "metadata": {
    "id": "PhdyseeXBp0k"
   },
   "source": [
    "В этом домашнем задании вы напишете градиентный спуск для линейной регрессии, а так же посмотрите, как он ведёт себя с разными параметрами и разными функциями потерь."
   ]
  },
  {
   "cell_type": "markdown",
   "metadata": {
    "id": "do1I2ygaBp0k"
   },
   "source": [
    "Правила:\n",
    "\n",
    "* Домашнее задание оценивается в 10 баллов.\n",
    "\n",
    "* Можно использовать без доказательства любые результаты, встречавшиеся на лекциях или семинарах по курсу, если получение этих результатов не является вопросом задания.\n",
    "\n",
    "* Можно использовать любые свободные источники с *обязательным* указанием ссылки на них.\n",
    "\n",
    "* Плагиат не допускается. При обнаружении случаев списывания, 0 за работу выставляется всем участникам нарушения, даже если можно установить, кто у кого списал.\n",
    "\n",
    "* Старайтесь сделать код как можно более оптимальным. В частности, будет штрафоваться использование циклов в тех случаях, когда операцию можно совершить при помощи инструментов библиотек, о которых рассказывалось в курсе.  "
   ]
  },
  {
   "cell_type": "code",
   "execution_count": 2,
   "metadata": {
    "id": "z8Nfs9riBp0k"
   },
   "outputs": [],
   "source": [
    "from typing import List, Iterable\n",
    "import numpy as np\n",
    "import matplotlib.pyplot as plt"
   ]
  },
  {
   "cell_type": "markdown",
   "metadata": {
    "id": "u5OOYVQOBp0l"
   },
   "source": [
    "## Часть 1. Градиентный спуск (5 баллов)"
   ]
  },
  {
   "cell_type": "markdown",
   "metadata": {
    "id": "7j2vGNTyBp0l"
   },
   "source": [
    "Для начала давайте вспомним самый простой функционал ошибки, который мы применяем в задаче регрессии — Mean Squared Error:\n",
    "\n",
    "$$\n",
    "Q(w, X, y) = \\frac{1}{\\ell} \\sum\\limits_{i=1}^\\ell (\\langle x_i, w \\rangle - y_i)^2\n",
    "$$\n",
    "\n",
    "где $x_i$ — это $i$-ый объект датасета, $y_i$ — правильный ответ для $i$-го объекта, а $w$ — веса нашей линейной модели.\n",
    "\n",
    "Как мы помним, для линейной модели, его можно записать в матричном виде вот так:\n",
    "\n",
    "$$\n",
    "Q(w, X, y) = \\frac{1}{\\ell} || Xw - y ||^2\n",
    "$$\n",
    "\n",
    "где $X$ — это матрица объекты-признаки, а $y$ — вектор правильных ответов\n",
    "\n",
    "Для того чтобы воспользоваться методом градиентного спуска, нам нужно посчитать градиент нашего функционала. Для MSE он будет выглядеть так:\n",
    "\n",
    "$$\n",
    "\\nabla_w Q(w, X, y) = \\frac{2}{\\ell} X^T(Xw-y)\n",
    "$$"
   ]
  },
  {
   "cell_type": "markdown",
   "metadata": {
    "id": "05tP14CdBp0l"
   },
   "source": [
    "Ниже приведён базовый класс `BaseLoss`, который мы будем использовать для реализации всех наших лоссов. Менять его не нужно. У него есть два абстрактных метода:\n",
    "1. Метод `calc_loss`, который будет принимать на вход объекты `x`, правильные ответы `y` и веса `w` и вычислять значения лосса\n",
    "2. Метод `calc_grad`, который будет принимать на вход объекты `x`, правильные ответы `y` и веса `w` и вычислять значения градиента (вектор)"
   ]
  },
  {
   "cell_type": "code",
   "execution_count": 3,
   "metadata": {
    "id": "JWmOOrj6Bp0m"
   },
   "outputs": [],
   "source": [
    "import abc\n",
    "\n",
    "class BaseLoss(abc.ABC):\n",
    "    \"\"\"Базовый класс лосса\"\"\"\n",
    "    @abc.abstractmethod\n",
    "    def calc_loss(self, X: np.ndarray, y: np.ndarray, w: np.ndarray) -> float:\n",
    "        \"\"\"\n",
    "        Функция для вычислений значения лосса\n",
    "        :param X: np.ndarray размера (n_objects, n_features) с объектами датасета\n",
    "        :param y: np.ndarray размера (n_objects,) с правильными ответами\n",
    "        :param w: np.ndarray размера (n_features,) с весами линейной регрессии\n",
    "        :return: число -- значения функции потерь\n",
    "        \"\"\"\n",
    "        raise NotImplementedError\n",
    "\n",
    "    @abc.abstractmethod\n",
    "    def calc_grad(self, X: np.ndarray, y: np.ndarray, w: np.ndarray) -> np.ndarray:\n",
    "        \"\"\"\n",
    "        Функция для вычислений градиента лосса по весам w\n",
    "        :param X: np.ndarray размера (n_objects, n_features) с объектами датасета\n",
    "        :param y: np.ndarray размера (n_objects,) с правильными ответами\n",
    "        :param w: np.ndarray размера (n_features,) с весами линейной регрессии\n",
    "        :return: np.ndarray размера (n_features,) градиент функции потерь по весам w\n",
    "        \"\"\"\n",
    "        raise NotImplementedError"
   ]
  },
  {
   "cell_type": "markdown",
   "metadata": {
    "id": "ob65L_82Bp0m"
   },
   "source": [
    "Теперь давайте напишем реализацию этого абстрактоного класса: Mean Squared Error лосс."
   ]
  },
  {
   "cell_type": "markdown",
   "metadata": {
    "id": "ezASiSCgBp0m"
   },
   "source": [
    "**Задание 1.1 (5/8 балла):** Реализуйте класс `MSELoss`\n",
    "\n",
    "Он должен вычислять лосс и градиент по формулам наверху"
   ]
  },
  {
   "cell_type": "code",
   "execution_count": 4,
   "metadata": {
    "id": "gpvu5XryBp0m"
   },
   "outputs": [],
   "source": [
    "class MSELoss(BaseLoss):\n",
    "    def calc_loss(self, X: np.ndarray, y: np.ndarray, w: np.ndarray) -> float:\n",
    "        \"\"\"\n",
    "        Функция для вычислений значения лосса\n",
    "        :param X: np.ndarray размера (n_objects, n_features) с объектами датасета\n",
    "        :param y: np.ndarray размера (n_objects,) с правильными ответами\n",
    "        :param w: np.ndarray размера (n_features,) с весами линейной регрессии\n",
    "        :return: число -- значения функции потерь\n",
    "        \"\"\"\n",
    "        return np.square(X.dot(w) - y).mean()\n",
    "        # -- YOUR CODE HERE --\n",
    "        # Вычислите значение функции потерь при помощи X, y и w и верните его\n",
    "        \n",
    "    def calc_grad(self, X: np.ndarray, y: np.ndarray, w: np.ndarray) -> np.ndarray:\n",
    "        \"\"\"\n",
    "        Функция для вычислений градиента лосса по весам w\n",
    "        :param X: np.ndarray размера (n_objects, n_features) с объектами датасета\n",
    "        :param y: np.ndarray размера (n_objects,) с правильными ответами\n",
    "        :param w: np.ndarray размера (n_features,) с весами линейной регрессии\n",
    "        :return: np.ndarray размера (n_features,) градиент функции потерь по весам w\n",
    "        \"\"\"\n",
    "        # -- YOUR CODE HERE --\n",
    "        # Вычислите значение вектора градиента при помощи X, y и w и верните его\n",
    "        return 2 * np.dot(X.T, np.dot(X, w) - y) / X.shape[0]"
   ]
  },
  {
   "cell_type": "markdown",
   "metadata": {
    "id": "188svk-jBp0n"
   },
   "source": [
    "Теперь мы можем создать объект `MSELoss` и при помощи него вычислять значение нашей функции потерь и градиенты:"
   ]
  },
  {
   "cell_type": "code",
   "execution_count": 5,
   "metadata": {
    "colab": {
     "base_uri": "https://localhost:8080/"
    },
    "id": "yoQZnHVRBp0n",
    "outputId": "30ba3465-033e-47dc-f3a6-3a625b8f9bd3"
   },
   "outputs": [
    {
     "name": "stdout",
     "output_type": "stream",
     "text": [
      "27410283.5\n",
      "[1163180. 1172281. 1181382. 1190483. 1199584. 1208685. 1217786. 1226887.\n",
      " 1235988. 1245089.]\n",
      "Всё верно!\n"
     ]
    }
   ],
   "source": [
    "# Создадим объект лосса\n",
    "loss = MSELoss()\n",
    "\n",
    "# Создадим какой-то датасет\n",
    "X = np.arange(200).reshape(20, 10)\n",
    "y = np.arange(20)\n",
    "\n",
    "# Создадим какой-то вектор весов\n",
    "w = np.arange(10)\n",
    "\n",
    "# Выведем значение лосса и градиента на этом датасете с этим вектором весов\n",
    "print(loss.calc_loss(X, y, w))\n",
    "print(loss.calc_grad(X, y, w))\n",
    "\n",
    "# Проверка, что методы реализованы правильно\n",
    "assert loss.calc_loss(X, y, w) == 27410283.5, \"Метод calc_loss реализован неверно\"\n",
    "assert np.allclose(loss.calc_grad(X, y, w), np.array([1163180., 1172281., 1181382., 1190483., \n",
    "                                                      1199584., 1208685., 1217786., 1226887., \n",
    "                                                      1235988., 1245089.])), \"Метод calc_grad реализован неверно\"\n",
    "print(\"Всё верно!\")"
   ]
  },
  {
   "cell_type": "markdown",
   "metadata": {
    "id": "wqRkUQpABp0n"
   },
   "source": [
    "Теперь когда у нас есть всё для вычисления градиента, давайте напишем наш градиентный спуск. Напомним, что формула для одной итерации градиентного спуска выглядит следующим образом:\n",
    "\n",
    "$$\n",
    "w^t = w^{t-1} - \\eta \\nabla_{w} Q(w^{t-1}, X, y)\n",
    "$$\n",
    "\n",
    "Где $w^t$ — значение вектора весов на $t$-ой итерации, а $\\eta$ — параметр learning rate, отвечающий за размер шага."
   ]
  },
  {
   "cell_type": "markdown",
   "metadata": {
    "id": "i9gOWGzqBp0n"
   },
   "source": [
    "**Задание 1.2 (5/8 балла):** Реализуйте функцию `gradient_descent`\n",
    "\n",
    "Функция должна принимать на вход начальное значение весов линейной модели `w_init`, матрицу объектов-признаков `X`, \n",
    "вектор правильных ответов `y`, объект функции потерь `loss`, размер шага `lr` и количество итераций `n_iterations`.\n",
    "\n",
    "Функция должна реализовывать цикл, в котором происходит шаг градиентного спуска (градиенты берутся из `loss` посредством вызова метода `calc_grad`) по формуле выше и возвращать \n",
    "траекторию спуска (список из новых значений весов на каждом шаге)"
   ]
  },
  {
   "cell_type": "code",
   "execution_count": 6,
   "metadata": {
    "id": "Wxu_8RHkBp0o"
   },
   "outputs": [],
   "source": [
    "def gradient_descent(w_init: np.ndarray, X: np.ndarray, y: np.ndarray, \n",
    "                        loss: BaseLoss, lr: float, n_iterations: int = 100000) -> List[np.ndarray]:\n",
    "    \"\"\"\n",
    "    Функция градиентного спуска\n",
    "    :param w_init: np.ndarray размера (n_feratures,) -- начальное значение вектора весов\n",
    "    :param X: np.ndarray размера (n_objects, n_features) -- матрица объекты-признаки\n",
    "    :param y: np.ndarray размера (n_objects,) -- вектор правильных ответов\n",
    "    :param loss: Объект подкласса BaseLoss, который умеет считать градиенты при помощи loss.calc_grad(X, y, w)\n",
    "    :param lr: float -- параметр величины шага, на который нужно домножать градиент\n",
    "    :param n_iterations: int -- сколько итераций делать\n",
    "    :return: Список из n_iterations объектов np.ndarray размера (n_features,) -- история весов на каждом шаге\n",
    "    \"\"\"\n",
    "    w = w_init.copy()\n",
    "    w_list = [w.copy()]\n",
    "    for i in range(n_iterations):\n",
    "      w = w - lr * loss.calc_grad(X, y, w)\n",
    "      w_list.append(w.copy())\n",
    "    w_list = np.array(w_list)\n",
    "    return w_list"
   ]
  },
  {
   "cell_type": "markdown",
   "metadata": {
    "id": "fM-gLeXPBp0o"
   },
   "source": [
    "Теперь создадим синтетический датасет и функцию, которая будет рисовать траекторию градиентного спуска по истории:"
   ]
  },
  {
   "cell_type": "code",
   "execution_count": 7,
   "metadata": {
    "colab": {
     "base_uri": "https://localhost:8080/"
    },
    "id": "GgaCBMiDBp0o",
    "outputId": "fa647d16-2a7f-44fe-e83d-8b9879d8cf07"
   },
   "outputs": [
    {
     "name": "stdout",
     "output_type": "stream",
     "text": [
      "(300, 2)\n",
      "(300,)\n"
     ]
    }
   ],
   "source": [
    "# Создаём датасет из двух переменных и реального вектора зависимости w_true\n",
    "\n",
    "np.random.seed(1337)\n",
    "\n",
    "n_features = 2\n",
    "n_objects = 300\n",
    "batch_size = 10\n",
    "num_steps = 43\n",
    "\n",
    "w_true = np.random.normal(size=(n_features, ))\n",
    "\n",
    "X = np.random.uniform(-5, 5, (n_objects, n_features))\n",
    "X *= (np.arange(n_features) * 2 + 1)[np.newaxis, :]  \n",
    "y = X.dot(w_true) + np.random.normal(0, 1, (n_objects))\n",
    "w_init = np.random.uniform(-2, 2, (n_features))\n",
    "\n",
    "print(X.shape)\n",
    "print(y.shape)"
   ]
  },
  {
   "cell_type": "code",
   "execution_count": 8,
   "metadata": {
    "colab": {
     "base_uri": "https://localhost:8080/"
    },
    "id": "YCsiY4PBBp0o",
    "outputId": "f2ec387e-4e53-4647-c78b-f3a8c79a76ab"
   },
   "outputs": [
    {
     "name": "stdout",
     "output_type": "stream",
     "text": [
      "425.58917680450253\n",
      "0.8670644395649493\n"
     ]
    }
   ],
   "source": [
    "loss = MSELoss()\n",
    "w_list = gradient_descent(w_init, X, y, loss, 0.01, 100)\n",
    "print(loss.calc_loss(X, y, w_list[0]))\n",
    "print(loss.calc_loss(X, y, w_list[-1]))"
   ]
  },
  {
   "cell_type": "code",
   "execution_count": 9,
   "metadata": {
    "id": "kZm3EqMwBp0p"
   },
   "outputs": [],
   "source": [
    "def plot_gd(w_list: Iterable, X: np.ndarray, y: np.ndarray, loss: BaseLoss):\n",
    "    \"\"\"\n",
    "    Функция для отрисовки траектории градиентного спуска\n",
    "    :param w_list: Список из объектов np.ndarray размера (n_features,) -- история весов на каждом шаге\n",
    "    :param X: np.ndarray размера (n_objects, n_features) -- матрица объекты-признаки\n",
    "    :param y: np.ndarray размера (n_objects,) -- вектор правильных ответов\n",
    "    :param loss: Объект подкласса BaseLoss, который умеет считать лосс при помощи loss.calc_loss(X, y, w)\n",
    "    \"\"\"\n",
    "    w_list = np.array(w_list)\n",
    "    meshgrid_space = np.linspace(-2, 2, 100)\n",
    "    A, B = np.meshgrid(meshgrid_space, meshgrid_space)\n",
    "\n",
    "    levels = np.empty_like(A)\n",
    "    for i in range(A.shape[0]):\n",
    "        for j in range(A.shape[1]):\n",
    "            w_tmp = np.array([A[i, j], B[i, j]])\n",
    "            levels[i, j] = loss.calc_loss(X, y, w_tmp)\n",
    "\n",
    "    plt.figure(figsize=(15, 6))\n",
    "    plt.title(\"GD trajectory\")\n",
    "    plt.xlabel(r'$w_1$')\n",
    "    plt.ylabel(r'$w_2$')\n",
    "    plt.xlim(w_list[:, 0].min() - 0.1, \n",
    "             w_list[:, 0].max() + 0.1)\n",
    "    plt.ylim(w_list[:, 1].min() - 0.1,\n",
    "             w_list[:, 1].max() + 0.1)\n",
    "    plt.gca().set_aspect('equal')\n",
    "\n",
    "    # visualize the level set\n",
    "    CS = plt.contour(A, B, levels, levels=np.logspace(0, 1, num=20), cmap=plt.cm.rainbow_r)\n",
    "    CB = plt.colorbar(CS, shrink=0.8, extend='both')\n",
    "\n",
    "    # visualize trajectory\n",
    "    plt.scatter(w_list[:, 0], w_list[:, 1])\n",
    "    plt.plot(w_list[:, 0], w_list[:, 1])\n",
    "\n",
    "    plt.show()"
   ]
  },
  {
   "cell_type": "markdown",
   "metadata": {
    "id": "JqufHS3PBp0p"
   },
   "source": [
    "**Задание 1.3 (5/8 балла):** При помощи функций `gradient_descent` и  `plot_gd` нарисуйте траекторию градиентного спуска для разных значений длины шага (параметра `lr`). Используйте не менее четырёх разных значений для `lr`. \n",
    "\n",
    "Сделайте и опишите свои выводы о том, как параметр `lr` влияет на поведение градиентного спуска\n",
    "\n",
    "Подсказки:\n",
    "* Функция `gradient_descent` возвращает историю весов, которую нужно подать в функцию `plot_gd`\n",
    "* Хорошие значения для `lr` могут лежать в промежутке от 0.0001 до 0.1"
   ]
  },
  {
   "cell_type": "code",
   "execution_count": 10,
   "metadata": {
    "colab": {
     "base_uri": "https://localhost:8080/",
     "height": 1000
    },
    "id": "hPtpweFLBp0q",
    "outputId": "f4c7621d-7159-456c-9f8d-d3c14759c7c1"
   },
   "outputs": [
    {
     "data": {
      "image/png": "[encoded data removed]",
      "text/plain": [
       "<Figure size 1080x432 with 2 Axes>"
      ]
     },
     "metadata": {
      "needs_background": "light"
     },
     "output_type": "display_data"
    },
    {
     "data": {
      "image/png": "[encoded data removed]",
      "text/plain": [
       "<Figure size 1080x432 with 2 Axes>"
      ]
     },
     "metadata": {
      "needs_background": "light"
     },
     "output_type": "display_data"
    },
    {
     "data": {
      "image/png": "[encoded data removed]",
      "text/plain": [
       "<Figure size 1080x432 with 2 Axes>"
      ]
     },
     "metadata": {
      "needs_background": "light"
     },
     "output_type": "display_data"
    },
    {
     "data": {
      "image/png": "[encoded data removed]",
      "text/plain": [
       "<Figure size 1080x432 with 2 Axes>"
      ]
     },
     "metadata": {
      "needs_background": "light"
     },
     "output_type": "display_data"
    }
   ],
   "source": [
    "lr = [0.01, 0.009, 0.005, 0.0009]\n",
    "for i in lr:\n",
    "  a = gradient_descent(w_init, X, y, loss, lr = i)\n",
    "  plot_gd(a, X, y, loss)"
   ]
  },
  {
   "cell_type": "markdown",
   "metadata": {
    "id": "OrdODkjdMe5h"
   },
   "source": [
    "Чем меньше длина шага, тем \"аккуратнее\" шагает модель и траектория более сглаженная.\n"
   ]
  },
  {
   "cell_type": "markdown",
   "metadata": {
    "id": "JdxxpTlSBp0q"
   },
   "source": [
    "Теперь реализуем стохастический градиентный спуск"
   ]
  },
  {
   "cell_type": "markdown",
   "metadata": {
    "id": "bNXcI8AqBp0q"
   },
   "source": [
    "**Задание 1.4 (5/8 балла):** Реализуйте функцию `stochastic_gradient_descent`\n",
    "\n",
    "Функция должна принимать все те же параметры, что и функция `gradient_descent`, но ещё параметр `batch_size`, отвечающий за размер батча. \n",
    "\n",
    "Функция должна как и раньше реализовывать цикл, в котором происходит шаг градиентного спуска, но на каждом шаге считать градиент не по всей выборке `X`, а только по случайно выбранной части.\n",
    "\n",
    "Подсказка: для выбора случайной части можно использовать [`np.random.choice`](https://numpy.org/doc/stable/reference/random/generated/numpy.random.choice.html) с правильным параметром `size`, чтобы выбрать случайные индексы, а потом проиндексировать получившимся массивом массив `X`:\n",
    "```\n",
    "batch_indices = np.random.choice(X.shape[0], size=batch_size, replace=False)\n",
    "batch = X[batch_indices]\n",
    "```"
   ]
  },
  {
   "cell_type": "code",
   "execution_count": 11,
   "metadata": {
    "id": "RNlOVmKLBp0q"
   },
   "outputs": [],
   "source": [
    "def stochastic_gradient_descent(w_init: np.ndarray, X: np.ndarray, y: np.ndarray, \n",
    "                        loss: BaseLoss, lr: float, batch_size: int, n_iterations: int = 1000) -> List[np.ndarray]:\n",
    "    \"\"\"\n",
    "    Функция градиентного спуска\n",
    "    :param w_init: np.ndarray размера (n_feratures,) -- начальное значение вектора весов\n",
    "    :param X: np.ndarray размера (n_objects, n_features) -- матрица объекты-признаки\n",
    "    :param y: np.ndarray размера (n_objects,) -- вектор правильных ответов\n",
    "    :param loss: Объект подкласса BaseLoss, который умеет считать градиенты при помощи loss.calc_grad(X, y, w)\n",
    "    :param lr: float -- параметр величины шага, на который нужно домножать градиент\n",
    "    :param batch_size: int -- размер подвыборки, которую нужно семплировать на каждом шаге\n",
    "    :param n_iterations: int -- сколько итераций делать\n",
    "    :return: Список из n_iterations объектов np.ndarray размера (n_features,) -- история весов на каждом шаге\n",
    "    \"\"\"\n",
    "    w = w_init.copy()\n",
    "    w_list = [w.copy()]\n",
    "    for i in range(n_iterations):\n",
    "      sample = np.random.choice(X.shape[0], size=batch_size, replace=False)\n",
    "      w -= lr * loss.calc_grad(X[sample], y[sample], w)\n",
    "      w_list.append(w.copy())\n",
    "    return w_list"
   ]
  },
  {
   "cell_type": "markdown",
   "metadata": {
    "id": "OhnQEuAFBp0r"
   },
   "source": [
    "**Задание 1.5 (5/8 балла):** При помощи функций `stochastic_gradient_descent` и  `plot_gd` нарисуйте траекторию градиентного спуска для разных значений длины шага (параметра `lr`) и размера подвыборки (параметра `batch_size`). Используйте не менее четырёх разных значений для `lr` и `batch_size`. \n",
    "\n",
    "Сделайте и опишите свои выводы о том, как параметры  `lr` и `batch_size` влияют на поведение стохастического градиентного спуска. Как отличается поведение стохастического градиентного спуска от обычного?\n",
    "\n",
    "Обратите внимание, что в нашем датасете всего 300 объектов, так что `batch_size` больше этого числа не будет иметь смысла."
   ]
  },
  {
   "cell_type": "code",
   "execution_count": 12,
   "metadata": {
    "colab": {
     "base_uri": "https://localhost:8080/",
     "height": 1000
    },
    "id": "9RGETKL4PKqL",
    "outputId": "3a93b93f-f363-433d-856e-76b2ba50b390"
   },
   "outputs": [
    {
     "data": {
      "image/png": "[encoded data removed]",
      "text/plain": [
       "<Figure size 1080x432 with 2 Axes>"
      ]
     },
     "metadata": {
      "needs_background": "light"
     },
     "output_type": "display_data"
    },
    {
     "data": {
      "image/png": "[encoded data removed]",
      "text/plain": [
       "<Figure size 1080x432 with 2 Axes>"
      ]
     },
     "metadata": {
      "needs_background": "light"
     },
     "output_type": "display_data"
    },
    {
     "data": {
      "image/png": "[encoded data removed]",
      "text/plain": [
       "<Figure size 1080x432 with 2 Axes>"
      ]
     },
     "metadata": {
      "needs_background": "light"
     },
     "output_type": "display_data"
    },
    {
     "data": {
      "image/png": "[encoded data removed]",
      "text/plain": [
       "<Figure size 1080x432 with 2 Axes>"
      ]
     },
     "metadata": {
      "needs_background": "light"
     },
     "output_type": "display_data"
    }
   ],
   "source": [
    "for i, j in zip([0.01, 0.009, 0.005, 0.0009], [50, 100, 150, 250]):\n",
    "  np.random.seed(42)\n",
    "  plot_gd(stochastic_gradient_descent(w_init, X, y, loss, lr = i, batch_size = j), X, y, loss)"
   ]
  },
  {
   "cell_type": "code",
   "execution_count": 13,
   "metadata": {
    "colab": {
     "base_uri": "https://localhost:8080/",
     "height": 1000
    },
    "id": "EOnF0jTkHoBc",
    "outputId": "375b38fc-4a8b-4fc1-ef7c-c4cf35a0a8bd"
   },
   "outputs": [
    {
     "data": {
      "image/png": "[encoded data removed]",
      "text/plain": [
       "<Figure size 1080x432 with 2 Axes>"
      ]
     },
     "metadata": {
      "needs_background": "light"
     },
     "output_type": "display_data"
    },
    {
     "data": {
      "image/png": "[encoded data removed]",
      "text/plain": [
       "<Figure size 1080x432 with 2 Axes>"
      ]
     },
     "metadata": {
      "needs_background": "light"
     },
     "output_type": "display_data"
    },
    {
     "data": {
      "image/png": "[encoded data removed]",
      "text/plain": [
       "<Figure size 1080x432 with 2 Axes>"
      ]
     },
     "metadata": {
      "needs_background": "light"
     },
     "output_type": "display_data"
    },
    {
     "data": {
      "image/png": "[encoded data removed]",
      "text/plain": [
       "<Figure size 1080x432 with 2 Axes>"
      ]
     },
     "metadata": {
      "needs_background": "light"
     },
     "output_type": "display_data"
    }
   ],
   "source": [
    "for i in [0.01, 0.009, 0.005, 0.0009]:\n",
    "  np.random.seed(42)\n",
    "  plot_gd(stochastic_gradient_descent(w_init, X, y, loss, lr = i, batch_size = 10), X, y, loss)"
   ]
  },
  {
   "cell_type": "code",
   "execution_count": 14,
   "metadata": {
    "colab": {
     "base_uri": "https://localhost:8080/",
     "height": 1000
    },
    "id": "KMAk2nedIDsQ",
    "outputId": "48646273-2c3b-4b5c-be8c-a07b5202c301"
   },
   "outputs": [
    {
     "data": {
      "image/png": "[encoded data removed]",
      "text/plain": [
       "<Figure size 1080x432 with 2 Axes>"
      ]
     },
     "metadata": {
      "needs_background": "light"
     },
     "output_type": "display_data"
    },
    {
     "data": {
      "image/png": "[encoded data removed]",
      "text/plain": [
       "<Figure size 1080x432 with 2 Axes>"
      ]
     },
     "metadata": {
      "needs_background": "light"
     },
     "output_type": "display_data"
    },
    {
     "data": {
      "image/png": "[encoded data removed]",
      "text/plain": [
       "<Figure size 1080x432 with 2 Axes>"
      ]
     },
     "metadata": {
      "needs_background": "light"
     },
     "output_type": "display_data"
    },
    {
     "data": {
      "image/png": "[encoded data removed]",
      "text/plain": [
       "<Figure size 1080x432 with 2 Axes>"
      ]
     },
     "metadata": {
      "needs_background": "light"
     },
     "output_type": "display_data"
    }
   ],
   "source": [
    "for j in [50, 100, 150, 250]:\n",
    "  np.random.seed(42)\n",
    "  plot_gd(stochastic_gradient_descent(w_init, X, y, loss, batch_size = j, lr = 0.01), X, y, loss)"
   ]
  },
  {
   "cell_type": "markdown",
   "metadata": {
    "id": "aH9nHd1fITzt"
   },
   "source": [
    "Вывод: чем меньше шаг и больше размер подвыборки batch_size, тем меньше \"штормит\" модель. По сравнению с обычным градиентом, с одной стороны, мы упрощаем задачу рассчета градиентного спуска сужением размера выборки (ускоряемся), с другой стороны, сталкиваемся с проблемой поиска минимума, потому что ближе к минимуму возникают сильные колебания.\n"
   ]
  },
  {
   "cell_type": "markdown",
   "metadata": {
    "id": "3ZWZE2VDBp0r"
   },
   "source": [
    "Вы могли заметить, что поведение градиентного спуска, особенно стохастической версии, очень сильно зависит от размера шага. \n",
    "\n",
    "Как правило, в начале спуска мы хотим делать большие шаги, чтобы поскорее подойти поближе к минимуму, а позже мы уже хотим делать шаги маленькие, чтобы более точнее этого минимума достичь и не \"перепрыгнуть\" его. \n",
    "\n",
    "Чтобы достичь такого поведения мы можем постепенно уменьшать длину шага с увеличением номера итерации. Сделать это можно, например, вычисляя на каждой итерации длину шага по следующей формуле:\n",
    "\n",
    "$$\n",
    "    \\eta_t\n",
    "    =\n",
    "    \\lambda\n",
    "    \\left(\n",
    "        \\frac{s_0}{s_0 + t}\n",
    "    \\right)^p\n",
    "$$\n",
    "\n",
    "где $\\eta_t$ — длина шага на итерации $t$, $\\lambda$ — начальная длина шага (параметр `lr` у нас), $s_0$ и $p$ — настраиваемые параметры."
   ]
  },
  {
   "cell_type": "markdown",
   "metadata": {
    "id": "9Hqj3zJ4Bp0r"
   },
   "source": [
    "**Задание 1.6 (5/8 балла):** Реализуйте функцию `stochastic_gradient_descent` на этот раз с затухающим шагом по формуле выше. Параметр $s_0$ возьмите равным 1. Параметр $p$ возьмите из нового аргумента функции `p`."
   ]
  },
  {
   "cell_type": "code",
   "execution_count": 15,
   "metadata": {
    "id": "7uL65tOmBp0r"
   },
   "outputs": [],
   "source": [
    "def stochastic_gradient_descent(w_init: np.ndarray, X: np.ndarray, y: np.ndarray, \n",
    "                        loss: BaseLoss, lr: float, batch_size: int, p: float, n_iterations: int = 1000) -> List[np.ndarray]:\n",
    "    \"\"\"\n",
    "    Функция градиентного спуска\n",
    "    :param w_init: np.ndarray размера (n_feratures,) -- начальное значение вектора весов\n",
    "    :param X: np.ndarray размера (n_objects, n_features) -- матрица объекты-признаки\n",
    "    :param y: np.ndarray размера (n_objects,) -- вектор правильных ответов\n",
    "    :param loss: Объект подкласса BaseLoss, который умеет считать градиенты при помощи loss.calc_grad(X, y, w)\n",
    "    :param lr: float -- параметр величины шага, на который нужно домножать градиент\n",
    "    :param batch_size: int -- размер подвыборки, которую нужно семплировать на каждом шаге\n",
    "    :param p: float -- значение степени в формуле затухания длины шага\n",
    "    :param n_iterations: int -- сколько итераций делать\n",
    "    :return: Список из n_iterations объектов np.ndarray размера (n_features,) -- история весов на каждом шаге\n",
    "    \"\"\"\n",
    "    w = w_init.copy()\n",
    "    w_list = [w.copy()]\n",
    "    for i in range(n_iterations):\n",
    "      sample = np.random.choice(X.shape[0], size=batch_size, replace=False)\n",
    "      w -= lr * ((1 / (1 + i)) ** p) * loss.calc_grad(X[sample], y[sample], w)\n",
    "      w_list.append(w.copy())\n",
    "    return w_list"
   ]
  },
  {
   "cell_type": "markdown",
   "metadata": {
    "id": "IwgaqqB5Bp0r"
   },
   "source": [
    "**Задание 1.7 (5/8 балла):** При помощи новой функции `stochastic_gradient_descent` и функции `plot_gd` нарисуйте траекторию градиентного спуска для разных значений параметра `p`. Используйте не менее четырёх разных значений для `p`. Хорошими могут быть значения, лежащие в промежутке от 0.1 до 1.\n",
    "Параметр `lr` возьмите равным 0.01, а параметр `batch_size` равным 10.\n",
    "\n",
    "Сделайте и опишите свои выводы о том, как параметр `p` влияет на поведение стохастического градиентного спуска"
   ]
  },
  {
   "cell_type": "code",
   "execution_count": 16,
   "metadata": {
    "colab": {
     "base_uri": "https://localhost:8080/",
     "height": 1000
    },
    "id": "SJp0WHXOMcp1",
    "outputId": "6757dd24-b924-4a5f-e21e-f0023e8e3ae0"
   },
   "outputs": [
    {
     "data": {
      "image/png": "[encoded data removed]",
      "text/plain": [
       "<Figure size 1080x432 with 2 Axes>"
      ]
     },
     "metadata": {
      "needs_background": "light"
     },
     "output_type": "display_data"
    },
    {
     "data": {
      "image/png": "[encoded data removed]",
      "text/plain": [
       "<Figure size 1080x432 with 2 Axes>"
      ]
     },
     "metadata": {
      "needs_background": "light"
     },
     "output_type": "display_data"
    },
    {
     "data": {
      "image/png": "[encoded data removed]",
      "text/plain": [
       "<Figure size 1080x432 with 2 Axes>"
      ]
     },
     "metadata": {
      "needs_background": "light"
     },
     "output_type": "display_data"
    },
    {
     "data": {
      "image/png": "[encoded data removed]",
      "text/plain": [
       "<Figure size 1080x432 with 2 Axes>"
      ]
     },
     "metadata": {
      "needs_background": "light"
     },
     "output_type": "display_data"
    }
   ],
   "source": [
    "for i in [0.1, 0.2, 0.3, 0.4]:\n",
    "  np.random.seed(42)\n",
    "  plot_gd(stochastic_gradient_descent(w_init, X, y, loss, 0.01, 10, p = i), X, y, loss)"
   ]
  },
  {
   "cell_type": "markdown",
   "metadata": {
    "id": "RlMlMrXvHzy3"
   },
   "source": [
    "Чем больше значение p, тем меньше длина шага с увеличением числа итераций => шаги более \"аккуратные\", траектория более сглаженная и плавная (меньше шанс перепрыгнуть минимум)."
   ]
  },
  {
   "cell_type": "markdown",
   "metadata": {
    "id": "x0YKLC4mBp0s"
   },
   "source": [
    "**Задание 1.8 (5/8 балла):** Сравните сходимость обычного градиентного спуска и стохастичекой версии:\n",
    "Нарисуйте график зависимости значения лосса (его можно посчитать при помощи метода `calc_loss`, используя $x$ и $y$ из датасета и $w$ с соответствующей итерации) от номера итерации для траекторий, полученных при помощи обычного и стохастического градиентного спуска с одинаковыми параметрами. Параметр `batch_size` возьмите равным 10.\n",
    "\n",
    "Видно ли на данном графике преимущество SGD? Почему?"
   ]
  },
  {
   "cell_type": "code",
   "execution_count": 17,
   "metadata": {
    "id": "NuR6KwdBY0Z4"
   },
   "outputs": [],
   "source": [
    "def stochastic_gradient_descent(w_init: np.ndarray, X: np.ndarray, y: np.ndarray, \n",
    "                        loss: BaseLoss, lr: float, batch_size: int, n_iterations: int = 1000) -> List[np.ndarray]:\n",
    "    \"\"\"\n",
    "    Функция градиентного спуска\n",
    "    :param w_init: np.ndarray размера (n_feratures,) -- начальное значение вектора весов\n",
    "    :param X: np.ndarray размера (n_objects, n_features) -- матрица объекты-признаки\n",
    "    :param y: np.ndarray размера (n_objects,) -- вектор правильных ответов\n",
    "    :param loss: Объект подкласса BaseLoss, который умеет считать градиенты при помощи loss.calc_grad(X, y, w)\n",
    "    :param lr: float -- параметр величины шага, на который нужно домножать градиент\n",
    "    :param batch_size: int -- размер подвыборки, которую нужно семплировать на каждом шаге\n",
    "    :param n_iterations: int -- сколько итераций делать\n",
    "    :return: Список из n_iterations объектов np.ndarray размера (n_features,) -- история весов на каждом шаге\n",
    "    \"\"\"\n",
    "    w = w_init.copy()\n",
    "    w_list = [w.copy()]\n",
    "    for i in range(n_iterations):\n",
    "      sample = np.random.choice(X.shape[0], size=batch_size, replace=False)\n",
    "      w -= lr * loss.calc_grad(X[sample], y[sample], w)\n",
    "      w_list.append(w.copy())\n",
    "    return w_list"
   ]
  },
  {
   "cell_type": "code",
   "execution_count": 18,
   "metadata": {
    "id": "Low7Zh_dGGax"
   },
   "outputs": [],
   "source": [
    "np.random.seed(42)\n",
    "w_list = gradient_descent(w_init, X, y, loss, 0.01, 1000)\n",
    "w_list_1 = a = stochastic_gradient_descent(w_init, X, y, loss, lr = 0.01, batch_size = 10, n_iterations=1000)\n",
    "w_gd = w_list.copy()\n",
    "w_sgd = w_list_1.copy()\n",
    "residuals_gd = []\n",
    "residuals_sgd = []\n",
    "\n",
    "\n",
    "for i in range(1001):\n",
    "    residuals_gd.append(loss.calc_loss(X, y, w_gd[i]))\n",
    "    residuals_sgd.append(loss.calc_loss(X, y, w_sgd[i]))"
   ]
  },
  {
   "cell_type": "code",
   "execution_count": 19,
   "metadata": {
    "colab": {
     "base_uri": "https://localhost:8080/",
     "height": 425
    },
    "id": "9GLZQrtEIiXQ",
    "outputId": "3f22cf19-d7b2-4038-8338-7f6cd1d236cc"
   },
   "outputs": [
    {
     "data": {
      "image/png": "[encoded data removed]",
      "text/plain": [
       "<Figure size 936x432 with 1 Axes>"
      ]
     },
     "metadata": {
      "needs_background": "light"
     },
     "output_type": "display_data"
    }
   ],
   "source": [
    "plt.figure(figsize=(13, 6))\n",
    "plt.plot(range(1001), residuals_gd, label='Full GD')\n",
    "plt.plot(range(1001), residuals_sgd, label='SGD')\n",
    "\n",
    "plt.title('Значение функции потерь в зависимости от номера итерации')\n",
    "plt.xlim((-0.5, 100))\n",
    "plt.legend()\n",
    "plt.xlabel('Номер итерации')\n",
    "plt.ylabel(r'Q($w$)')\n",
    "plt.grid()\n",
    "plt.show()"
   ]
  },
  {
   "cell_type": "markdown",
   "metadata": {
    "id": "ma0iCw50L_jp"
   },
   "source": [
    "Стохастический градиентный спуск действительно ведет себя нестабильно, особенно при первых итерациях, выдавая на некоторых участках скачки значений ошибки, также SGD убывает чуть медленнее, чем GD, при достижении минимальных значений."
   ]
  },
  {
   "cell_type": "markdown",
   "metadata": {
    "id": "m7jS7bJUBp0s"
   },
   "source": [
    "## Часть 2. Линейная регрессия (5 баллов)"
   ]
  },
  {
   "cell_type": "markdown",
   "metadata": {
    "id": "HRrNZdJ7Bp0s"
   },
   "source": [
    "Теперь давайте напишем наш класс для линейной регрессии. Он будет использовать интерфейс, знакомый нам из библиотеки `sklearn`.\n",
    "\n",
    "В методе `fit` мы будем подбирать веса `w` при помощи градиентного спуска нашим методом `gradient_descent`\n",
    "\n",
    "В методе `predict` мы будем применять нашу регрессию к датасету, "
   ]
  },
  {
   "cell_type": "markdown",
   "metadata": {
    "id": "FyKvDkPOBp0s"
   },
   "source": [
    "**Задание 2.1 (5/8 балла):** Допишите код в методах `fit` и `predict` класса `LinearRegression`\n",
    "\n",
    "В методе `fit` вам нужно как-то инициализировать веса `w`, применить `gradient_descent` и сохранить последнюю `w` из траектории.\n",
    "\n",
    "В методе `predict` вам нужно применить линейную регрессию и вернуть вектор ответов.\n",
    "\n",
    "Обратите внимание, что объект лосса передаётся в момент инициализации и хранится в `self.loss`. Его нужно использовать в `fit` для `gradient_descent`."
   ]
  },
  {
   "cell_type": "code",
   "execution_count": 20,
   "metadata": {
    "id": "KdTk79QTBp0t"
   },
   "outputs": [],
   "source": [
    "class LinearRegression:\n",
    "    def __init__(self, loss: BaseLoss, lr: float = 0.1) -> None:\n",
    "        self.loss = loss\n",
    "        self.lr = lr\n",
    "    \n",
    "    def fit(self, X: np.ndarray, y: np.ndarray) -> 'LinearRegression':\n",
    "        X = np.asarray(X)\n",
    "        y = np.asarray(y)\n",
    "        # Добавляем столбец из единиц для константного признака\n",
    "        X = np.hstack([X, np.ones([X.shape[0], 1])])\n",
    "        \n",
    "        weights = np.arange(X.shape[1])\n",
    "        self.w = gradient_descent(weights, X, y, self.loss, 0.01, 100)\n",
    "\n",
    "        return self\n",
    "    \n",
    "    def predict(self, X: np.ndarray) -> np.ndarray:\n",
    "        # Проверяем, что регрессия обучена, то есть, что был вызван fit и в нём был установлен атрибут self.w\n",
    "        assert hasattr(self, \"w\"), \"Linear regression must be fitted first\"\n",
    "        # Добавляем столбец из единиц для константного признака\n",
    "        X = np.hstack([X, np.ones([X.shape[0], 1])])\n",
    "        self.y_predict = np.dot(X, self.w[-1])\n",
    "        return self.y_predict\n",
    "\n",
    "        # -- YOUR CODE HERE --"
   ]
  },
  {
   "cell_type": "markdown",
   "metadata": {
    "id": "CV2RGHwgBp0t"
   },
   "source": [
    "Теперь у нас есть наш класс линейной регрессии. Более того, мы можем управлять тем, какую функцию потерь мы оптимизируем, просто передавая разные классы в параметр `loss` при инициализации. \n",
    "\n",
    "Пока у нас нет никаких классов кроме `MSELoss`, но скоро они появятся.\n",
    "\n",
    "Для `MSELoss` мы бы создавали наш объект линейной регрессии, например, так:"
   ]
  },
  {
   "cell_type": "code",
   "execution_count": 21,
   "metadata": {
    "id": "Cyfkw-L1Bp0t"
   },
   "outputs": [],
   "source": [
    "linear_regression = LinearRegression(MSELoss())"
   ]
  },
  {
   "cell_type": "markdown",
   "metadata": {
    "id": "kIG_P49YBp0t"
   },
   "source": [
    "Применим нашу регрессию на реальном датасете. Загрузим датасет с машинами, который был у вас на семинарах:"
   ]
  },
  {
   "cell_type": "code",
   "execution_count": 37,
   "metadata": {
    "id": "nJn0SUlnBp0t"
   },
   "outputs": [],
   "source": [
    "import pandas as pd\n",
    "\n",
    "X_raw = pd.read_csv(\n",
    "    \"http://archive.ics.uci.edu/ml/machine-learning-databases/autos/imports-85.data\", \n",
    "    header=None, \n",
    "    na_values=[\"?\"]\n",
    ")\n",
    "X_raw.head()\n",
    "X_raw = X_raw[~X_raw[25].isna()]"
   ]
  },
  {
   "cell_type": "code",
   "execution_count": 38,
   "metadata": {
    "colab": {
     "base_uri": "https://localhost:8080/",
     "height": 433
    },
    "id": "_KcER5JtBp0u",
    "outputId": "985a1424-6eab-44fc-8fae-292dca6bc153"
   },
   "outputs": [
    {
     "data": {
      "text/html": [
       "\n",
       "  <div id=\"df-33b0f6f2-8265-4a65-ae99-c2a9c29d2805\">\n",
       "    <div class=\"colab-df-container\">\n",
       "      <div>\n",
       "<style scoped>\n",
       "    .dataframe tbody tr th:only-of-type {\n",
       "        vertical-align: middle;\n",
       "    }\n",
       "\n",
       "    .dataframe tbody tr th {\n",
       "        vertical-align: top;\n",
       "    }\n",
       "\n",
       "    .dataframe thead th {\n",
       "        text-align: right;\n",
       "    }\n",
       "</style>\n",
       "<table border=\"1\" class=\"dataframe\">\n",
       "  <thead>\n",
       "    <tr style=\"text-align: right;\">\n",
       "      <th></th>\n",
       "      <th>0</th>\n",
       "      <th>1</th>\n",
       "      <th>2</th>\n",
       "      <th>3</th>\n",
       "      <th>4</th>\n",
       "      <th>5</th>\n",
       "      <th>6</th>\n",
       "      <th>7</th>\n",
       "      <th>8</th>\n",
       "      <th>9</th>\n",
       "      <th>...</th>\n",
       "      <th>15</th>\n",
       "      <th>16</th>\n",
       "      <th>17</th>\n",
       "      <th>18</th>\n",
       "      <th>19</th>\n",
       "      <th>20</th>\n",
       "      <th>21</th>\n",
       "      <th>22</th>\n",
       "      <th>23</th>\n",
       "      <th>24</th>\n",
       "    </tr>\n",
       "  </thead>\n",
       "  <tbody>\n",
       "    <tr>\n",
       "      <th>0</th>\n",
       "      <td>3</td>\n",
       "      <td>NaN</td>\n",
       "      <td>alfa-romero</td>\n",
       "      <td>gas</td>\n",
       "      <td>std</td>\n",
       "      <td>two</td>\n",
       "      <td>convertible</td>\n",
       "      <td>rwd</td>\n",
       "      <td>front</td>\n",
       "      <td>88.6</td>\n",
       "      <td>...</td>\n",
       "      <td>four</td>\n",
       "      <td>130</td>\n",
       "      <td>mpfi</td>\n",
       "      <td>3.47</td>\n",
       "      <td>2.68</td>\n",
       "      <td>9.0</td>\n",
       "      <td>111.0</td>\n",
       "      <td>5000.0</td>\n",
       "      <td>21</td>\n",
       "      <td>27</td>\n",
       "    </tr>\n",
       "    <tr>\n",
       "      <th>1</th>\n",
       "      <td>3</td>\n",
       "      <td>NaN</td>\n",
       "      <td>alfa-romero</td>\n",
       "      <td>gas</td>\n",
       "      <td>std</td>\n",
       "      <td>two</td>\n",
       "      <td>convertible</td>\n",
       "      <td>rwd</td>\n",
       "      <td>front</td>\n",
       "      <td>88.6</td>\n",
       "      <td>...</td>\n",
       "      <td>four</td>\n",
       "      <td>130</td>\n",
       "      <td>mpfi</td>\n",
       "      <td>3.47</td>\n",
       "      <td>2.68</td>\n",
       "      <td>9.0</td>\n",
       "      <td>111.0</td>\n",
       "      <td>5000.0</td>\n",
       "      <td>21</td>\n",
       "      <td>27</td>\n",
       "    </tr>\n",
       "    <tr>\n",
       "      <th>2</th>\n",
       "      <td>1</td>\n",
       "      <td>NaN</td>\n",
       "      <td>alfa-romero</td>\n",
       "      <td>gas</td>\n",
       "      <td>std</td>\n",
       "      <td>two</td>\n",
       "      <td>hatchback</td>\n",
       "      <td>rwd</td>\n",
       "      <td>front</td>\n",
       "      <td>94.5</td>\n",
       "      <td>...</td>\n",
       "      <td>six</td>\n",
       "      <td>152</td>\n",
       "      <td>mpfi</td>\n",
       "      <td>2.68</td>\n",
       "      <td>3.47</td>\n",
       "      <td>9.0</td>\n",
       "      <td>154.0</td>\n",
       "      <td>5000.0</td>\n",
       "      <td>19</td>\n",
       "      <td>26</td>\n",
       "    </tr>\n",
       "    <tr>\n",
       "      <th>3</th>\n",
       "      <td>2</td>\n",
       "      <td>164.0</td>\n",
       "      <td>audi</td>\n",
       "      <td>gas</td>\n",
       "      <td>std</td>\n",
       "      <td>four</td>\n",
       "      <td>sedan</td>\n",
       "      <td>fwd</td>\n",
       "      <td>front</td>\n",
       "      <td>99.8</td>\n",
       "      <td>...</td>\n",
       "      <td>four</td>\n",
       "      <td>109</td>\n",
       "      <td>mpfi</td>\n",
       "      <td>3.19</td>\n",
       "      <td>3.40</td>\n",
       "      <td>10.0</td>\n",
       "      <td>102.0</td>\n",
       "      <td>5500.0</td>\n",
       "      <td>24</td>\n",
       "      <td>30</td>\n",
       "    </tr>\n",
       "    <tr>\n",
       "      <th>4</th>\n",
       "      <td>2</td>\n",
       "      <td>164.0</td>\n",
       "      <td>audi</td>\n",
       "      <td>gas</td>\n",
       "      <td>std</td>\n",
       "      <td>four</td>\n",
       "      <td>sedan</td>\n",
       "      <td>4wd</td>\n",
       "      <td>front</td>\n",
       "      <td>99.4</td>\n",
       "      <td>...</td>\n",
       "      <td>five</td>\n",
       "      <td>136</td>\n",
       "      <td>mpfi</td>\n",
       "      <td>3.19</td>\n",
       "      <td>3.40</td>\n",
       "      <td>8.0</td>\n",
       "      <td>115.0</td>\n",
       "      <td>5500.0</td>\n",
       "      <td>18</td>\n",
       "      <td>22</td>\n",
       "    </tr>\n",
       "    <tr>\n",
       "      <th>...</th>\n",
       "      <td>...</td>\n",
       "      <td>...</td>\n",
       "      <td>...</td>\n",
       "      <td>...</td>\n",
       "      <td>...</td>\n",
       "      <td>...</td>\n",
       "      <td>...</td>\n",
       "      <td>...</td>\n",
       "      <td>...</td>\n",
       "      <td>...</td>\n",
       "      <td>...</td>\n",
       "      <td>...</td>\n",
       "      <td>...</td>\n",
       "      <td>...</td>\n",
       "      <td>...</td>\n",
       "      <td>...</td>\n",
       "      <td>...</td>\n",
       "      <td>...</td>\n",
       "      <td>...</td>\n",
       "      <td>...</td>\n",
       "      <td>...</td>\n",
       "    </tr>\n",
       "    <tr>\n",
       "      <th>200</th>\n",
       "      <td>-1</td>\n",
       "      <td>95.0</td>\n",
       "      <td>volvo</td>\n",
       "      <td>gas</td>\n",
       "      <td>std</td>\n",
       "      <td>four</td>\n",
       "      <td>sedan</td>\n",
       "      <td>rwd</td>\n",
       "      <td>front</td>\n",
       "      <td>109.1</td>\n",
       "      <td>...</td>\n",
       "      <td>four</td>\n",
       "      <td>141</td>\n",
       "      <td>mpfi</td>\n",
       "      <td>3.78</td>\n",
       "      <td>3.15</td>\n",
       "      <td>9.5</td>\n",
       "      <td>114.0</td>\n",
       "      <td>5400.0</td>\n",
       "      <td>23</td>\n",
       "      <td>28</td>\n",
       "    </tr>\n",
       "    <tr>\n",
       "      <th>201</th>\n",
       "      <td>-1</td>\n",
       "      <td>95.0</td>\n",
       "      <td>volvo</td>\n",
       "      <td>gas</td>\n",
       "      <td>turbo</td>\n",
       "      <td>four</td>\n",
       "      <td>sedan</td>\n",
       "      <td>rwd</td>\n",
       "      <td>front</td>\n",
       "      <td>109.1</td>\n",
       "      <td>...</td>\n",
       "      <td>four</td>\n",
       "      <td>141</td>\n",
       "      <td>mpfi</td>\n",
       "      <td>3.78</td>\n",
       "      <td>3.15</td>\n",
       "      <td>8.7</td>\n",
       "      <td>160.0</td>\n",
       "      <td>5300.0</td>\n",
       "      <td>19</td>\n",
       "      <td>25</td>\n",
       "    </tr>\n",
       "    <tr>\n",
       "      <th>202</th>\n",
       "      <td>-1</td>\n",
       "      <td>95.0</td>\n",
       "      <td>volvo</td>\n",
       "      <td>gas</td>\n",
       "      <td>std</td>\n",
       "      <td>four</td>\n",
       "      <td>sedan</td>\n",
       "      <td>rwd</td>\n",
       "      <td>front</td>\n",
       "      <td>109.1</td>\n",
       "      <td>...</td>\n",
       "      <td>six</td>\n",
       "      <td>173</td>\n",
       "      <td>mpfi</td>\n",
       "      <td>3.58</td>\n",
       "      <td>2.87</td>\n",
       "      <td>8.8</td>\n",
       "      <td>134.0</td>\n",
       "      <td>5500.0</td>\n",
       "      <td>18</td>\n",
       "      <td>23</td>\n",
       "    </tr>\n",
       "    <tr>\n",
       "      <th>203</th>\n",
       "      <td>-1</td>\n",
       "      <td>95.0</td>\n",
       "      <td>volvo</td>\n",
       "      <td>diesel</td>\n",
       "      <td>turbo</td>\n",
       "      <td>four</td>\n",
       "      <td>sedan</td>\n",
       "      <td>rwd</td>\n",
       "      <td>front</td>\n",
       "      <td>109.1</td>\n",
       "      <td>...</td>\n",
       "      <td>six</td>\n",
       "      <td>145</td>\n",
       "      <td>idi</td>\n",
       "      <td>3.01</td>\n",
       "      <td>3.40</td>\n",
       "      <td>23.0</td>\n",
       "      <td>106.0</td>\n",
       "      <td>4800.0</td>\n",
       "      <td>26</td>\n",
       "      <td>27</td>\n",
       "    </tr>\n",
       "    <tr>\n",
       "      <th>204</th>\n",
       "      <td>-1</td>\n",
       "      <td>95.0</td>\n",
       "      <td>volvo</td>\n",
       "      <td>gas</td>\n",
       "      <td>turbo</td>\n",
       "      <td>four</td>\n",
       "      <td>sedan</td>\n",
       "      <td>rwd</td>\n",
       "      <td>front</td>\n",
       "      <td>109.1</td>\n",
       "      <td>...</td>\n",
       "      <td>four</td>\n",
       "      <td>141</td>\n",
       "      <td>mpfi</td>\n",
       "      <td>3.78</td>\n",
       "      <td>3.15</td>\n",
       "      <td>9.5</td>\n",
       "      <td>114.0</td>\n",
       "      <td>5400.0</td>\n",
       "      <td>19</td>\n",
       "      <td>25</td>\n",
       "    </tr>\n",
       "  </tbody>\n",
       "</table>\n",
       "<p>201 rows × 25 columns</p>\n",
       "</div>\n",
       "      <button class=\"colab-df-convert\" onclick=\"convertToInteractive('df-33b0f6f2-8265-4a65-ae99-c2a9c29d2805')\"\n",
       "              title=\"Convert this dataframe to an interactive table.\"\n",
       "              style=\"display:none;\">\n",
       "        \n",
       "  <svg xmlns=\"http://www.w3.org/2000/svg\" height=\"24px\"viewBox=\"0 0 24 24\"\n",
       "       width=\"24px\">\n",
       "    <path d=\"M0 0h24v24H0V0z\" fill=\"none\"/>\n",
       "    <path d=\"M18.56 5.44l.94 2.06.94-2.06 2.06-.94-2.06-.94-.94-2.06-.94 2.06-2.06.94zm-11 1L8.5 8.5l.94-2.06 2.06-.94-2.06-.94L8.5 2.5l-.94 2.06-2.06.94zm10 10l.94 2.06.94-2.06 2.06-.94-2.06-.94-.94-2.06-.94 2.06-2.06.94z\"/><path d=\"M17.41 7.96l-1.37-1.37c-.4-.4-.92-.59-1.43-.59-.52 0-1.04.2-1.43.59L10.3 9.45l-7.72 7.72c-.78.78-.78 2.05 0 2.83L4 21.41c.39.39.9.59 1.41.59.51 0 1.02-.2 1.41-.59l7.78-7.78 2.81-2.81c.8-.78.8-2.07 0-2.86zM5.41 20L4 18.59l7.72-7.72 1.47 1.35L5.41 20z\"/>\n",
       "  </svg>\n",
       "      </button>\n",
       "      \n",
       "  <style>\n",
       "    .colab-df-container {\n",
       "      display:flex;\n",
       "      flex-wrap:wrap;\n",
       "      gap: 12px;\n",
       "    }\n",
       "\n",
       "    .colab-df-convert {\n",
       "      background-color: #E8F0FE;\n",
       "      border: none;\n",
       "      border-radius: 50%;\n",
       "      cursor: pointer;\n",
       "      display: none;\n",
       "      fill: #1967D2;\n",
       "      height: 32px;\n",
       "      padding: 0 0 0 0;\n",
       "      width: 32px;\n",
       "    }\n",
       "\n",
       "    .colab-df-convert:hover {\n",
       "      background-color: #E2EBFA;\n",
       "      box-shadow: 0px 1px 2px rgba(60, 64, 67, 0.3), 0px 1px 3px 1px rgba(60, 64, 67, 0.15);\n",
       "      fill: #174EA6;\n",
       "    }\n",
       "\n",
       "    [theme=dark] .colab-df-convert {\n",
       "      background-color: #3B4455;\n",
       "      fill: #D2E3FC;\n",
       "    }\n",
       "\n",
       "    [theme=dark] .colab-df-convert:hover {\n",
       "      background-color: #434B5C;\n",
       "      box-shadow: 0px 1px 3px 1px rgba(0, 0, 0, 0.15);\n",
       "      filter: drop-shadow(0px 1px 2px rgba(0, 0, 0, 0.3));\n",
       "      fill: #FFFFFF;\n",
       "    }\n",
       "  </style>\n",
       "\n",
       "      <script>\n",
       "        const buttonEl =\n",
       "          document.querySelector('#df-33b0f6f2-8265-4a65-ae99-c2a9c29d2805 button.colab-df-convert');\n",
       "        buttonEl.style.display =\n",
       "          google.colab.kernel.accessAllowed ? 'block' : 'none';\n",
       "\n",
       "        async function convertToInteractive(key) {\n",
       "          const element = document.querySelector('#df-33b0f6f2-8265-4a65-ae99-c2a9c29d2805');\n",
       "          const dataTable =\n",
       "            await google.colab.kernel.invokeFunction('convertToInteractive',\n",
       "                                                     [key], {});\n",
       "          if (!dataTable) return;\n",
       "\n",
       "          const docLinkHtml = 'Like what you see? Visit the ' +\n",
       "            '<a target=\"_blank\" href=https://colab.research.google.com/notebooks/data_table.ipynb>data table notebook</a>'\n",
       "            + ' to learn more about interactive tables.';\n",
       "          element.innerHTML = '';\n",
       "          dataTable['output_type'] = 'display_data';\n",
       "          await google.colab.output.renderOutput(dataTable, element);\n",
       "          const docLink = document.createElement('div');\n",
       "          docLink.innerHTML = docLinkHtml;\n",
       "          element.appendChild(docLink);\n",
       "        }\n",
       "      </script>\n",
       "    </div>\n",
       "  </div>\n",
       "  "
      ],
      "text/plain": [
       "     0      1            2       3      4     5            6    7      8   \\\n",
       "0     3    NaN  alfa-romero     gas    std   two  convertible  rwd  front   \n",
       "1     3    NaN  alfa-romero     gas    std   two  convertible  rwd  front   \n",
       "2     1    NaN  alfa-romero     gas    std   two    hatchback  rwd  front   \n",
       "3     2  164.0         audi     gas    std  four        sedan  fwd  front   \n",
       "4     2  164.0         audi     gas    std  four        sedan  4wd  front   \n",
       "..   ..    ...          ...     ...    ...   ...          ...  ...    ...   \n",
       "200  -1   95.0        volvo     gas    std  four        sedan  rwd  front   \n",
       "201  -1   95.0        volvo     gas  turbo  four        sedan  rwd  front   \n",
       "202  -1   95.0        volvo     gas    std  four        sedan  rwd  front   \n",
       "203  -1   95.0        volvo  diesel  turbo  four        sedan  rwd  front   \n",
       "204  -1   95.0        volvo     gas  turbo  four        sedan  rwd  front   \n",
       "\n",
       "        9   ...    15   16    17    18    19    20     21      22  23  24  \n",
       "0     88.6  ...  four  130  mpfi  3.47  2.68   9.0  111.0  5000.0  21  27  \n",
       "1     88.6  ...  four  130  mpfi  3.47  2.68   9.0  111.0  5000.0  21  27  \n",
       "2     94.5  ...   six  152  mpfi  2.68  3.47   9.0  154.0  5000.0  19  26  \n",
       "3     99.8  ...  four  109  mpfi  3.19  3.40  10.0  102.0  5500.0  24  30  \n",
       "4     99.4  ...  five  136  mpfi  3.19  3.40   8.0  115.0  5500.0  18  22  \n",
       "..     ...  ...   ...  ...   ...   ...   ...   ...    ...     ...  ..  ..  \n",
       "200  109.1  ...  four  141  mpfi  3.78  3.15   9.5  114.0  5400.0  23  28  \n",
       "201  109.1  ...  four  141  mpfi  3.78  3.15   8.7  160.0  5300.0  19  25  \n",
       "202  109.1  ...   six  173  mpfi  3.58  2.87   8.8  134.0  5500.0  18  23  \n",
       "203  109.1  ...   six  145   idi  3.01  3.40  23.0  106.0  4800.0  26  27  \n",
       "204  109.1  ...  four  141  mpfi  3.78  3.15   9.5  114.0  5400.0  19  25  \n",
       "\n",
       "[201 rows x 25 columns]"
      ]
     },
     "execution_count": 38,
     "metadata": {},
     "output_type": "execute_result"
    }
   ],
   "source": [
    "y = X_raw[25]\n",
    "X_raw = X_raw.drop(25, axis=1)\n",
    "X_raw"
   ]
  },
  {
   "cell_type": "markdown",
   "metadata": {
    "id": "AVS4T-IUBp0u"
   },
   "source": [
    "**Задание 2.2 (5/8 балла):** Как обычно обработайте датасет всеми нужными методами, чтобы на нём можно было обучать линейную регрессию:\n",
    "\n",
    "* Разделите датасет на обучающую и тестовую выборку\n",
    "* Заполните пропуски\n",
    "* Нормализуйте числовые признаки\n",
    "* Закодируйте категориальные переменные"
   ]
  },
  {
   "cell_type": "code",
   "execution_count": 39,
   "metadata": {
    "id": "COp1ybClBp0u"
   },
   "outputs": [],
   "source": [
    "from sklearn.model_selection import train_test_split\n",
    "np.random.seed(15)\n",
    "\n",
    "X_train, X_test, y_train, y_test = train_test_split(X_raw, y, test_size=0.3)"
   ]
  },
  {
   "cell_type": "code",
   "execution_count": 40,
   "metadata": {
    "colab": {
     "base_uri": "https://localhost:8080/"
    },
    "id": "mVNppC5WT_gS",
    "outputId": "aad30c48-9bb2-411d-87aa-db452f106f1e"
   },
   "outputs": [
    {
     "data": {
      "text/plain": [
       "False"
      ]
     },
     "execution_count": 40,
     "metadata": {},
     "output_type": "execute_result"
    }
   ],
   "source": [
    "np.isnan(y).any()"
   ]
  },
  {
   "cell_type": "code",
   "execution_count": 41,
   "metadata": {
    "colab": {
     "base_uri": "https://localhost:8080/"
    },
    "id": "p-zWVorsUXSO",
    "outputId": "8dcb1239-2dd1-466a-824c-6708140e4d1e"
   },
   "outputs": [
    {
     "data": {
      "text/plain": [
       "True"
      ]
     },
     "execution_count": 41,
     "metadata": {},
     "output_type": "execute_result"
    }
   ],
   "source": [
    "X_train.isnull().values.any()"
   ]
  },
  {
   "cell_type": "code",
   "execution_count": 42,
   "metadata": {
    "colab": {
     "base_uri": "https://localhost:8080/"
    },
    "id": "z2PGf64c6Gn4",
    "outputId": "55f4091e-833d-4a7e-f9f4-bb94aed2ce65"
   },
   "outputs": [
    {
     "data": {
      "text/plain": [
       "True"
      ]
     },
     "execution_count": 42,
     "metadata": {},
     "output_type": "execute_result"
    }
   ],
   "source": [
    "X_test.isnull().values.any()"
   ]
  },
  {
   "cell_type": "code",
   "execution_count": 43,
   "metadata": {
    "id": "IlxlEelQVbiD"
   },
   "outputs": [],
   "source": [
    "from sklearn.impute import SimpleImputer"
   ]
  },
  {
   "cell_type": "code",
   "execution_count": 44,
   "metadata": {
    "id": "1NBaDcfAVi74"
   },
   "outputs": [],
   "source": [
    "cat_features_mask = (X_train.dtypes == \"object\").values\n",
    "cat_features_mask_2 = (X_test.dtypes == \"object\").values"
   ]
  },
  {
   "cell_type": "code",
   "execution_count": 45,
   "metadata": {
    "id": "Afbu8uB4Vkgt"
   },
   "outputs": [],
   "source": [
    "X_train_nobj = X_train[X_train.columns[~cat_features_mask]]\n",
    "X_test_nobj = X_test[X_test.columns[~cat_features_mask_2]]\n",
    "mis_replacer = SimpleImputer(strategy=\"mean\")\n",
    "X_train_left = pd.DataFrame(data=mis_replacer.fit_transform(X_train_nobj), columns=X_train_nobj.columns)\n",
    "X_test_left = pd.DataFrame(data=mis_replacer.transform(X_test_nobj), columns=X_test_nobj.columns)"
   ]
  },
  {
   "cell_type": "code",
   "execution_count": 46,
   "metadata": {
    "id": "qIuSwTEjCZxu"
   },
   "outputs": [],
   "source": [
    "X_train_obj = X_train[X_train.columns[cat_features_mask]]\n",
    "X_test_obj = X_test[X_test.columns[cat_features_mask_2]]\n",
    "mis_replacer = SimpleImputer(strategy=\"most_frequent\")\n",
    "X_train_right = pd.DataFrame(data=mis_replacer.fit_transform(X_train_obj), columns=X_train_obj.columns)\n",
    "X_test_right = pd.DataFrame(data=mis_replacer.transform(X_test_obj), columns=X_test_obj.columns)"
   ]
  },
  {
   "cell_type": "code",
   "execution_count": 47,
   "metadata": {
    "id": "HhGet705X7AA"
   },
   "outputs": [],
   "source": [
    "from sklearn.preprocessing import StandardScaler    \n",
    "\n",
    "sc = StandardScaler()\n",
    "X_train_scaled = pd.DataFrame(data=sc.fit_transform(X_train_left), columns=X_train_left.columns)\n",
    "X_test_scaled = pd.DataFrame(data=sc.transform(X_test_left), columns=X_test_left.columns)"
   ]
  },
  {
   "cell_type": "code",
   "execution_count": 48,
   "metadata": {
    "colab": {
     "base_uri": "https://localhost:8080/",
     "height": 477
    },
    "id": "h02kbHAIV1nx",
    "outputId": "47e26083-ad71-4c46-c243-7bccec13e6b9"
   },
   "outputs": [
    {
     "data": {
      "text/html": [
       "\n",
       "  <div id=\"df-abce5ca8-38b3-49aa-b4b6-a11ae07f918e\">\n",
       "    <div class=\"colab-df-container\">\n",
       "      <div>\n",
       "<style scoped>\n",
       "    .dataframe tbody tr th:only-of-type {\n",
       "        vertical-align: middle;\n",
       "    }\n",
       "\n",
       "    .dataframe tbody tr th {\n",
       "        vertical-align: top;\n",
       "    }\n",
       "\n",
       "    .dataframe thead th {\n",
       "        text-align: right;\n",
       "    }\n",
       "</style>\n",
       "<table border=\"1\" class=\"dataframe\">\n",
       "  <thead>\n",
       "    <tr style=\"text-align: right;\">\n",
       "      <th></th>\n",
       "      <th>0</th>\n",
       "      <th>1</th>\n",
       "      <th>9</th>\n",
       "      <th>10</th>\n",
       "      <th>11</th>\n",
       "      <th>12</th>\n",
       "      <th>13</th>\n",
       "      <th>16</th>\n",
       "      <th>18</th>\n",
       "      <th>19</th>\n",
       "      <th>...</th>\n",
       "      <th>2</th>\n",
       "      <th>3</th>\n",
       "      <th>4</th>\n",
       "      <th>5</th>\n",
       "      <th>6</th>\n",
       "      <th>7</th>\n",
       "      <th>8</th>\n",
       "      <th>14</th>\n",
       "      <th>15</th>\n",
       "      <th>17</th>\n",
       "    </tr>\n",
       "  </thead>\n",
       "  <tbody>\n",
       "    <tr>\n",
       "      <th>0</th>\n",
       "      <td>0.034054</td>\n",
       "      <td>-0.230617</td>\n",
       "      <td>-0.835916</td>\n",
       "      <td>-1.441072</td>\n",
       "      <td>-1.023979</td>\n",
       "      <td>-1.186384</td>\n",
       "      <td>-1.358006</td>\n",
       "      <td>-0.924552</td>\n",
       "      <td>-1.423252</td>\n",
       "      <td>-0.100803</td>\n",
       "      <td>...</td>\n",
       "      <td>dodge</td>\n",
       "      <td>gas</td>\n",
       "      <td>std</td>\n",
       "      <td>two</td>\n",
       "      <td>hatchback</td>\n",
       "      <td>fwd</td>\n",
       "      <td>front</td>\n",
       "      <td>ohc</td>\n",
       "      <td>four</td>\n",
       "      <td>2bbl</td>\n",
       "    </tr>\n",
       "    <tr>\n",
       "      <th>1</th>\n",
       "      <td>-1.555112</td>\n",
       "      <td>-1.904956</td>\n",
       "      <td>0.567842</td>\n",
       "      <td>0.054160</td>\n",
       "      <td>0.234357</td>\n",
       "      <td>0.558388</td>\n",
       "      <td>-0.505259</td>\n",
       "      <td>-0.188459</td>\n",
       "      <td>-0.124876</td>\n",
       "      <td>0.825842</td>\n",
       "      <td>...</td>\n",
       "      <td>toyota</td>\n",
       "      <td>gas</td>\n",
       "      <td>std</td>\n",
       "      <td>four</td>\n",
       "      <td>sedan</td>\n",
       "      <td>fwd</td>\n",
       "      <td>front</td>\n",
       "      <td>ohc</td>\n",
       "      <td>four</td>\n",
       "      <td>mpfi</td>\n",
       "    </tr>\n",
       "    <tr>\n",
       "      <th>2</th>\n",
       "      <td>-0.760529</td>\n",
       "      <td>-0.736077</td>\n",
       "      <td>-0.271186</td>\n",
       "      <td>-0.239984</td>\n",
       "      <td>-0.278299</td>\n",
       "      <td>-0.462942</td>\n",
       "      <td>-0.848253</td>\n",
       "      <td>-0.510500</td>\n",
       "      <td>1.058937</td>\n",
       "      <td>-1.864418</td>\n",
       "      <td>...</td>\n",
       "      <td>subaru</td>\n",
       "      <td>gas</td>\n",
       "      <td>std</td>\n",
       "      <td>four</td>\n",
       "      <td>sedan</td>\n",
       "      <td>fwd</td>\n",
       "      <td>front</td>\n",
       "      <td>ohcf</td>\n",
       "      <td>four</td>\n",
       "      <td>2bbl</td>\n",
       "    </tr>\n",
       "    <tr>\n",
       "      <th>3</th>\n",
       "      <td>0.828636</td>\n",
       "      <td>-0.988808</td>\n",
       "      <td>-0.255051</td>\n",
       "      <td>-0.264496</td>\n",
       "      <td>-0.231694</td>\n",
       "      <td>0.898831</td>\n",
       "      <td>-0.721288</td>\n",
       "      <td>-0.487497</td>\n",
       "      <td>-0.583126</td>\n",
       "      <td>0.407357</td>\n",
       "      <td>...</td>\n",
       "      <td>volkswagen</td>\n",
       "      <td>gas</td>\n",
       "      <td>std</td>\n",
       "      <td>four</td>\n",
       "      <td>sedan</td>\n",
       "      <td>fwd</td>\n",
       "      <td>front</td>\n",
       "      <td>ohc</td>\n",
       "      <td>four</td>\n",
       "      <td>mpfi</td>\n",
       "    </tr>\n",
       "    <tr>\n",
       "      <th>4</th>\n",
       "      <td>-0.760529</td>\n",
       "      <td>1.980775</td>\n",
       "      <td>0.374220</td>\n",
       "      <td>0.152208</td>\n",
       "      <td>-0.557929</td>\n",
       "      <td>0.303055</td>\n",
       "      <td>0.222418</td>\n",
       "      <td>0.777662</td>\n",
       "      <td>-0.124876</td>\n",
       "      <td>-0.220370</td>\n",
       "      <td>...</td>\n",
       "      <td>bmw</td>\n",
       "      <td>gas</td>\n",
       "      <td>std</td>\n",
       "      <td>two</td>\n",
       "      <td>sedan</td>\n",
       "      <td>rwd</td>\n",
       "      <td>front</td>\n",
       "      <td>ohc</td>\n",
       "      <td>six</td>\n",
       "      <td>mpfi</td>\n",
       "    </tr>\n",
       "    <tr>\n",
       "      <th>...</th>\n",
       "      <td>...</td>\n",
       "      <td>...</td>\n",
       "      <td>...</td>\n",
       "      <td>...</td>\n",
       "      <td>...</td>\n",
       "      <td>...</td>\n",
       "      <td>...</td>\n",
       "      <td>...</td>\n",
       "      <td>...</td>\n",
       "      <td>...</td>\n",
       "      <td>...</td>\n",
       "      <td>...</td>\n",
       "      <td>...</td>\n",
       "      <td>...</td>\n",
       "      <td>...</td>\n",
       "      <td>...</td>\n",
       "      <td>...</td>\n",
       "      <td>...</td>\n",
       "      <td>...</td>\n",
       "      <td>...</td>\n",
       "      <td>...</td>\n",
       "    </tr>\n",
       "    <tr>\n",
       "      <th>135</th>\n",
       "      <td>1.623219</td>\n",
       "      <td>0.780305</td>\n",
       "      <td>0.035382</td>\n",
       "      <td>0.952933</td>\n",
       "      <td>0.234357</td>\n",
       "      <td>1.069053</td>\n",
       "      <td>0.123878</td>\n",
       "      <td>-0.211462</td>\n",
       "      <td>0.753437</td>\n",
       "      <td>-0.579071</td>\n",
       "      <td>...</td>\n",
       "      <td>saab</td>\n",
       "      <td>gas</td>\n",
       "      <td>std</td>\n",
       "      <td>two</td>\n",
       "      <td>hatchback</td>\n",
       "      <td>fwd</td>\n",
       "      <td>front</td>\n",
       "      <td>ohc</td>\n",
       "      <td>four</td>\n",
       "      <td>mpfi</td>\n",
       "    </tr>\n",
       "    <tr>\n",
       "      <th>136</th>\n",
       "      <td>0.034054</td>\n",
       "      <td>0.906670</td>\n",
       "      <td>-0.835916</td>\n",
       "      <td>-0.624005</td>\n",
       "      <td>-1.023979</td>\n",
       "      <td>-1.186384</td>\n",
       "      <td>-0.761083</td>\n",
       "      <td>-0.740529</td>\n",
       "      <td>-1.423252</td>\n",
       "      <td>-0.100803</td>\n",
       "      <td>...</td>\n",
       "      <td>plymouth</td>\n",
       "      <td>gas</td>\n",
       "      <td>std</td>\n",
       "      <td>four</td>\n",
       "      <td>sedan</td>\n",
       "      <td>fwd</td>\n",
       "      <td>front</td>\n",
       "      <td>ohc</td>\n",
       "      <td>four</td>\n",
       "      <td>2bbl</td>\n",
       "    </tr>\n",
       "    <tr>\n",
       "      <th>137</th>\n",
       "      <td>0.828636</td>\n",
       "      <td>-0.672895</td>\n",
       "      <td>0.035382</td>\n",
       "      <td>0.952933</td>\n",
       "      <td>0.234357</td>\n",
       "      <td>1.069053</td>\n",
       "      <td>0.482032</td>\n",
       "      <td>-0.211462</td>\n",
       "      <td>0.753437</td>\n",
       "      <td>-0.579071</td>\n",
       "      <td>...</td>\n",
       "      <td>saab</td>\n",
       "      <td>gas</td>\n",
       "      <td>turbo</td>\n",
       "      <td>four</td>\n",
       "      <td>sedan</td>\n",
       "      <td>fwd</td>\n",
       "      <td>front</td>\n",
       "      <td>dohc</td>\n",
       "      <td>four</td>\n",
       "      <td>mpfi</td>\n",
       "    </tr>\n",
       "    <tr>\n",
       "      <th>138</th>\n",
       "      <td>-0.760529</td>\n",
       "      <td>-0.736077</td>\n",
       "      <td>-0.303456</td>\n",
       "      <td>-0.239984</td>\n",
       "      <td>-0.278299</td>\n",
       "      <td>0.303055</td>\n",
       "      <td>-0.393455</td>\n",
       "      <td>-0.510500</td>\n",
       "      <td>1.058937</td>\n",
       "      <td>-1.864418</td>\n",
       "      <td>...</td>\n",
       "      <td>subaru</td>\n",
       "      <td>gas</td>\n",
       "      <td>std</td>\n",
       "      <td>four</td>\n",
       "      <td>sedan</td>\n",
       "      <td>4wd</td>\n",
       "      <td>front</td>\n",
       "      <td>ohcf</td>\n",
       "      <td>four</td>\n",
       "      <td>2bbl</td>\n",
       "    </tr>\n",
       "    <tr>\n",
       "      <th>139</th>\n",
       "      <td>-1.555112</td>\n",
       "      <td>-0.957216</td>\n",
       "      <td>1.648897</td>\n",
       "      <td>1.132688</td>\n",
       "      <td>1.352877</td>\n",
       "      <td>0.813720</td>\n",
       "      <td>0.889456</td>\n",
       "      <td>0.248596</td>\n",
       "      <td>1.669938</td>\n",
       "      <td>-0.339937</td>\n",
       "      <td>...</td>\n",
       "      <td>volvo</td>\n",
       "      <td>gas</td>\n",
       "      <td>turbo</td>\n",
       "      <td>four</td>\n",
       "      <td>sedan</td>\n",
       "      <td>rwd</td>\n",
       "      <td>front</td>\n",
       "      <td>ohc</td>\n",
       "      <td>four</td>\n",
       "      <td>mpfi</td>\n",
       "    </tr>\n",
       "  </tbody>\n",
       "</table>\n",
       "<p>140 rows × 25 columns</p>\n",
       "</div>\n",
       "      <button class=\"colab-df-convert\" onclick=\"convertToInteractive('df-abce5ca8-38b3-49aa-b4b6-a11ae07f918e')\"\n",
       "              title=\"Convert this dataframe to an interactive table.\"\n",
       "              style=\"display:none;\">\n",
       "        \n",
       "  <svg xmlns=\"http://www.w3.org/2000/svg\" height=\"24px\"viewBox=\"0 0 24 24\"\n",
       "       width=\"24px\">\n",
       "    <path d=\"M0 0h24v24H0V0z\" fill=\"none\"/>\n",
       "    <path d=\"M18.56 5.44l.94 2.06.94-2.06 2.06-.94-2.06-.94-.94-2.06-.94 2.06-2.06.94zm-11 1L8.5 8.5l.94-2.06 2.06-.94-2.06-.94L8.5 2.5l-.94 2.06-2.06.94zm10 10l.94 2.06.94-2.06 2.06-.94-2.06-.94-.94-2.06-.94 2.06-2.06.94z\"/><path d=\"M17.41 7.96l-1.37-1.37c-.4-.4-.92-.59-1.43-.59-.52 0-1.04.2-1.43.59L10.3 9.45l-7.72 7.72c-.78.78-.78 2.05 0 2.83L4 21.41c.39.39.9.59 1.41.59.51 0 1.02-.2 1.41-.59l7.78-7.78 2.81-2.81c.8-.78.8-2.07 0-2.86zM5.41 20L4 18.59l7.72-7.72 1.47 1.35L5.41 20z\"/>\n",
       "  </svg>\n",
       "      </button>\n",
       "      \n",
       "  <style>\n",
       "    .colab-df-container {\n",
       "      display:flex;\n",
       "      flex-wrap:wrap;\n",
       "      gap: 12px;\n",
       "    }\n",
       "\n",
       "    .colab-df-convert {\n",
       "      background-color: #E8F0FE;\n",
       "      border: none;\n",
       "      border-radius: 50%;\n",
       "      cursor: pointer;\n",
       "      display: none;\n",
       "      fill: #1967D2;\n",
       "      height: 32px;\n",
       "      padding: 0 0 0 0;\n",
       "      width: 32px;\n",
       "    }\n",
       "\n",
       "    .colab-df-convert:hover {\n",
       "      background-color: #E2EBFA;\n",
       "      box-shadow: 0px 1px 2px rgba(60, 64, 67, 0.3), 0px 1px 3px 1px rgba(60, 64, 67, 0.15);\n",
       "      fill: #174EA6;\n",
       "    }\n",
       "\n",
       "    [theme=dark] .colab-df-convert {\n",
       "      background-color: #3B4455;\n",
       "      fill: #D2E3FC;\n",
       "    }\n",
       "\n",
       "    [theme=dark] .colab-df-convert:hover {\n",
       "      background-color: #434B5C;\n",
       "      box-shadow: 0px 1px 3px 1px rgba(0, 0, 0, 0.15);\n",
       "      filter: drop-shadow(0px 1px 2px rgba(0, 0, 0, 0.3));\n",
       "      fill: #FFFFFF;\n",
       "    }\n",
       "  </style>\n",
       "\n",
       "      <script>\n",
       "        const buttonEl =\n",
       "          document.querySelector('#df-abce5ca8-38b3-49aa-b4b6-a11ae07f918e button.colab-df-convert');\n",
       "        buttonEl.style.display =\n",
       "          google.colab.kernel.accessAllowed ? 'block' : 'none';\n",
       "\n",
       "        async function convertToInteractive(key) {\n",
       "          const element = document.querySelector('#df-abce5ca8-38b3-49aa-b4b6-a11ae07f918e');\n",
       "          const dataTable =\n",
       "            await google.colab.kernel.invokeFunction('convertToInteractive',\n",
       "                                                     [key], {});\n",
       "          if (!dataTable) return;\n",
       "\n",
       "          const docLinkHtml = 'Like what you see? Visit the ' +\n",
       "            '<a target=\"_blank\" href=https://colab.research.google.com/notebooks/data_table.ipynb>data table notebook</a>'\n",
       "            + ' to learn more about interactive tables.';\n",
       "          element.innerHTML = '';\n",
       "          dataTable['output_type'] = 'display_data';\n",
       "          await google.colab.output.renderOutput(dataTable, element);\n",
       "          const docLink = document.createElement('div');\n",
       "          docLink.innerHTML = docLinkHtml;\n",
       "          element.appendChild(docLink);\n",
       "        }\n",
       "      </script>\n",
       "    </div>\n",
       "  </div>\n",
       "  "
      ],
      "text/plain": [
       "           0         1         9         10        11        12        13  \\\n",
       "0    0.034054 -0.230617 -0.835916 -1.441072 -1.023979 -1.186384 -1.358006   \n",
       "1   -1.555112 -1.904956  0.567842  0.054160  0.234357  0.558388 -0.505259   \n",
       "2   -0.760529 -0.736077 -0.271186 -0.239984 -0.278299 -0.462942 -0.848253   \n",
       "3    0.828636 -0.988808 -0.255051 -0.264496 -0.231694  0.898831 -0.721288   \n",
       "4   -0.760529  1.980775  0.374220  0.152208 -0.557929  0.303055  0.222418   \n",
       "..        ...       ...       ...       ...       ...       ...       ...   \n",
       "135  1.623219  0.780305  0.035382  0.952933  0.234357  1.069053  0.123878   \n",
       "136  0.034054  0.906670 -0.835916 -0.624005 -1.023979 -1.186384 -0.761083   \n",
       "137  0.828636 -0.672895  0.035382  0.952933  0.234357  1.069053  0.482032   \n",
       "138 -0.760529 -0.736077 -0.303456 -0.239984 -0.278299  0.303055 -0.393455   \n",
       "139 -1.555112 -0.957216  1.648897  1.132688  1.352877  0.813720  0.889456   \n",
       "\n",
       "           16        18        19  ...          2    3      4     5   \\\n",
       "0   -0.924552 -1.423252 -0.100803  ...       dodge  gas    std   two   \n",
       "1   -0.188459 -0.124876  0.825842  ...      toyota  gas    std  four   \n",
       "2   -0.510500  1.058937 -1.864418  ...      subaru  gas    std  four   \n",
       "3   -0.487497 -0.583126  0.407357  ...  volkswagen  gas    std  four   \n",
       "4    0.777662 -0.124876 -0.220370  ...         bmw  gas    std   two   \n",
       "..        ...       ...       ...  ...         ...  ...    ...   ...   \n",
       "135 -0.211462  0.753437 -0.579071  ...        saab  gas    std   two   \n",
       "136 -0.740529 -1.423252 -0.100803  ...    plymouth  gas    std  four   \n",
       "137 -0.211462  0.753437 -0.579071  ...        saab  gas  turbo  four   \n",
       "138 -0.510500  1.058937 -1.864418  ...      subaru  gas    std  four   \n",
       "139  0.248596  1.669938 -0.339937  ...       volvo  gas  turbo  four   \n",
       "\n",
       "            6    7      8     14    15    17  \n",
       "0    hatchback  fwd  front   ohc  four  2bbl  \n",
       "1        sedan  fwd  front   ohc  four  mpfi  \n",
       "2        sedan  fwd  front  ohcf  four  2bbl  \n",
       "3        sedan  fwd  front   ohc  four  mpfi  \n",
       "4        sedan  rwd  front   ohc   six  mpfi  \n",
       "..         ...  ...    ...   ...   ...   ...  \n",
       "135  hatchback  fwd  front   ohc  four  mpfi  \n",
       "136      sedan  fwd  front   ohc  four  2bbl  \n",
       "137      sedan  fwd  front  dohc  four  mpfi  \n",
       "138      sedan  4wd  front  ohcf  four  2bbl  \n",
       "139      sedan  rwd  front   ohc  four  mpfi  \n",
       "\n",
       "[140 rows x 25 columns]"
      ]
     },
     "execution_count": 48,
     "metadata": {},
     "output_type": "execute_result"
    }
   ],
   "source": [
    "X_train_final = pd.concat([X_train_scaled, X_train_right], axis=1)\n",
    "X_train_final"
   ]
  },
  {
   "cell_type": "code",
   "execution_count": 49,
   "metadata": {
    "colab": {
     "base_uri": "https://localhost:8080/",
     "height": 477
    },
    "id": "40TsD0N94ARI",
    "outputId": "a6252347-7fa6-440e-e53b-b5fa431a88c6"
   },
   "outputs": [
    {
     "data": {
      "text/html": [
       "\n",
       "  <div id=\"df-b43f5186-221d-4c1c-976e-d6378d6dcac8\">\n",
       "    <div class=\"colab-df-container\">\n",
       "      <div>\n",
       "<style scoped>\n",
       "    .dataframe tbody tr th:only-of-type {\n",
       "        vertical-align: middle;\n",
       "    }\n",
       "\n",
       "    .dataframe tbody tr th {\n",
       "        vertical-align: top;\n",
       "    }\n",
       "\n",
       "    .dataframe thead th {\n",
       "        text-align: right;\n",
       "    }\n",
       "</style>\n",
       "<table border=\"1\" class=\"dataframe\">\n",
       "  <thead>\n",
       "    <tr style=\"text-align: right;\">\n",
       "      <th></th>\n",
       "      <th>0</th>\n",
       "      <th>1</th>\n",
       "      <th>9</th>\n",
       "      <th>10</th>\n",
       "      <th>11</th>\n",
       "      <th>12</th>\n",
       "      <th>13</th>\n",
       "      <th>16</th>\n",
       "      <th>18</th>\n",
       "      <th>19</th>\n",
       "      <th>...</th>\n",
       "      <th>2</th>\n",
       "      <th>3</th>\n",
       "      <th>4</th>\n",
       "      <th>5</th>\n",
       "      <th>6</th>\n",
       "      <th>7</th>\n",
       "      <th>8</th>\n",
       "      <th>14</th>\n",
       "      <th>15</th>\n",
       "      <th>17</th>\n",
       "    </tr>\n",
       "  </thead>\n",
       "  <tbody>\n",
       "    <tr>\n",
       "      <th>0</th>\n",
       "      <td>0.034054</td>\n",
       "      <td>-6.728947e-01</td>\n",
       "      <td>-0.932727</td>\n",
       "      <td>-1.294000</td>\n",
       "      <td>-0.837559</td>\n",
       "      <td>0.217944</td>\n",
       "      <td>-1.303051</td>\n",
       "      <td>-0.901549</td>\n",
       "      <td>-1.194127</td>\n",
       "      <td>-0.339937</td>\n",
       "      <td>...</td>\n",
       "      <td>mazda</td>\n",
       "      <td>gas</td>\n",
       "      <td>std</td>\n",
       "      <td>two</td>\n",
       "      <td>hatchback</td>\n",
       "      <td>fwd</td>\n",
       "      <td>front</td>\n",
       "      <td>ohc</td>\n",
       "      <td>four</td>\n",
       "      <td>2bbl</td>\n",
       "    </tr>\n",
       "    <tr>\n",
       "      <th>1</th>\n",
       "      <td>-1.555112</td>\n",
       "      <td>-1.620634e+00</td>\n",
       "      <td>0.874410</td>\n",
       "      <td>1.132688</td>\n",
       "      <td>0.560592</td>\n",
       "      <td>1.664828</td>\n",
       "      <td>0.836396</td>\n",
       "      <td>0.248596</td>\n",
       "      <td>1.669938</td>\n",
       "      <td>-0.339937</td>\n",
       "      <td>...</td>\n",
       "      <td>volvo</td>\n",
       "      <td>gas</td>\n",
       "      <td>std</td>\n",
       "      <td>four</td>\n",
       "      <td>wagon</td>\n",
       "      <td>rwd</td>\n",
       "      <td>front</td>\n",
       "      <td>ohc</td>\n",
       "      <td>four</td>\n",
       "      <td>mpfi</td>\n",
       "    </tr>\n",
       "    <tr>\n",
       "      <th>2</th>\n",
       "      <td>-0.760529</td>\n",
       "      <td>1.980775e+00</td>\n",
       "      <td>0.374220</td>\n",
       "      <td>0.152208</td>\n",
       "      <td>-0.557929</td>\n",
       "      <td>0.303055</td>\n",
       "      <td>0.326643</td>\n",
       "      <td>0.777662</td>\n",
       "      <td>-0.124876</td>\n",
       "      <td>-0.220370</td>\n",
       "      <td>...</td>\n",
       "      <td>bmw</td>\n",
       "      <td>gas</td>\n",
       "      <td>std</td>\n",
       "      <td>four</td>\n",
       "      <td>sedan</td>\n",
       "      <td>rwd</td>\n",
       "      <td>front</td>\n",
       "      <td>ohc</td>\n",
       "      <td>six</td>\n",
       "      <td>mpfi</td>\n",
       "    </tr>\n",
       "    <tr>\n",
       "      <th>3</th>\n",
       "      <td>-1.555112</td>\n",
       "      <td>-1.904956e+00</td>\n",
       "      <td>0.567842</td>\n",
       "      <td>0.054160</td>\n",
       "      <td>0.234357</td>\n",
       "      <td>0.558388</td>\n",
       "      <td>-0.338500</td>\n",
       "      <td>-0.188459</td>\n",
       "      <td>-0.124876</td>\n",
       "      <td>0.825842</td>\n",
       "      <td>...</td>\n",
       "      <td>toyota</td>\n",
       "      <td>gas</td>\n",
       "      <td>std</td>\n",
       "      <td>four</td>\n",
       "      <td>sedan</td>\n",
       "      <td>fwd</td>\n",
       "      <td>front</td>\n",
       "      <td>ohc</td>\n",
       "      <td>four</td>\n",
       "      <td>mpfi</td>\n",
       "    </tr>\n",
       "    <tr>\n",
       "      <th>4</th>\n",
       "      <td>0.828636</td>\n",
       "      <td>8.978788e-16</td>\n",
       "      <td>-0.448673</td>\n",
       "      <td>0.152208</td>\n",
       "      <td>0.280962</td>\n",
       "      <td>-1.314050</td>\n",
       "      <td>-0.251330</td>\n",
       "      <td>0.041570</td>\n",
       "      <td>0.447937</td>\n",
       "      <td>1.901946</td>\n",
       "      <td>...</td>\n",
       "      <td>renault</td>\n",
       "      <td>gas</td>\n",
       "      <td>std</td>\n",
       "      <td>two</td>\n",
       "      <td>hatchback</td>\n",
       "      <td>fwd</td>\n",
       "      <td>front</td>\n",
       "      <td>ohc</td>\n",
       "      <td>four</td>\n",
       "      <td>mpfi</td>\n",
       "    </tr>\n",
       "    <tr>\n",
       "      <th>...</th>\n",
       "      <td>...</td>\n",
       "      <td>...</td>\n",
       "      <td>...</td>\n",
       "      <td>...</td>\n",
       "      <td>...</td>\n",
       "      <td>...</td>\n",
       "      <td>...</td>\n",
       "      <td>...</td>\n",
       "      <td>...</td>\n",
       "      <td>...</td>\n",
       "      <td>...</td>\n",
       "      <td>...</td>\n",
       "      <td>...</td>\n",
       "      <td>...</td>\n",
       "      <td>...</td>\n",
       "      <td>...</td>\n",
       "      <td>...</td>\n",
       "      <td>...</td>\n",
       "      <td>...</td>\n",
       "      <td>...</td>\n",
       "      <td>...</td>\n",
       "    </tr>\n",
       "    <tr>\n",
       "      <th>56</th>\n",
       "      <td>0.034054</td>\n",
       "      <td>-7.676687e-01</td>\n",
       "      <td>-0.835916</td>\n",
       "      <td>-2.037531</td>\n",
       "      <td>-0.930769</td>\n",
       "      <td>-0.420387</td>\n",
       "      <td>-1.431911</td>\n",
       "      <td>-1.177584</td>\n",
       "      <td>-1.652377</td>\n",
       "      <td>-0.579071</td>\n",
       "      <td>...</td>\n",
       "      <td>honda</td>\n",
       "      <td>gas</td>\n",
       "      <td>std</td>\n",
       "      <td>two</td>\n",
       "      <td>hatchback</td>\n",
       "      <td>fwd</td>\n",
       "      <td>front</td>\n",
       "      <td>ohc</td>\n",
       "      <td>four</td>\n",
       "      <td>1bbl</td>\n",
       "    </tr>\n",
       "    <tr>\n",
       "      <th>57</th>\n",
       "      <td>0.828636</td>\n",
       "      <td>1.127810e+00</td>\n",
       "      <td>-0.835916</td>\n",
       "      <td>-1.441072</td>\n",
       "      <td>-0.744349</td>\n",
       "      <td>-1.186384</td>\n",
       "      <td>-1.229147</td>\n",
       "      <td>-0.878546</td>\n",
       "      <td>-1.423252</td>\n",
       "      <td>-0.100803</td>\n",
       "      <td>...</td>\n",
       "      <td>mitsubishi</td>\n",
       "      <td>gas</td>\n",
       "      <td>std</td>\n",
       "      <td>two</td>\n",
       "      <td>hatchback</td>\n",
       "      <td>fwd</td>\n",
       "      <td>front</td>\n",
       "      <td>ohc</td>\n",
       "      <td>four</td>\n",
       "      <td>2bbl</td>\n",
       "    </tr>\n",
       "    <tr>\n",
       "      <th>58</th>\n",
       "      <td>-1.555112</td>\n",
       "      <td>-1.115173e+00</td>\n",
       "      <td>0.906680</td>\n",
       "      <td>1.050981</td>\n",
       "      <td>0.234357</td>\n",
       "      <td>0.217944</td>\n",
       "      <td>1.020210</td>\n",
       "      <td>0.938682</td>\n",
       "      <td>-0.277626</td>\n",
       "      <td>0.257898</td>\n",
       "      <td>...</td>\n",
       "      <td>toyota</td>\n",
       "      <td>gas</td>\n",
       "      <td>std</td>\n",
       "      <td>four</td>\n",
       "      <td>sedan</td>\n",
       "      <td>rwd</td>\n",
       "      <td>front</td>\n",
       "      <td>dohc</td>\n",
       "      <td>six</td>\n",
       "      <td>mpfi</td>\n",
       "    </tr>\n",
       "    <tr>\n",
       "      <th>59</th>\n",
       "      <td>-0.760529</td>\n",
       "      <td>-1.273129e+00</td>\n",
       "      <td>-0.319591</td>\n",
       "      <td>-0.109253</td>\n",
       "      <td>-0.278299</td>\n",
       "      <td>0.558388</td>\n",
       "      <td>-0.327130</td>\n",
       "      <td>-0.510500</td>\n",
       "      <td>1.058937</td>\n",
       "      <td>-1.864418</td>\n",
       "      <td>...</td>\n",
       "      <td>subaru</td>\n",
       "      <td>gas</td>\n",
       "      <td>std</td>\n",
       "      <td>four</td>\n",
       "      <td>wagon</td>\n",
       "      <td>4wd</td>\n",
       "      <td>front</td>\n",
       "      <td>ohcf</td>\n",
       "      <td>four</td>\n",
       "      <td>2bbl</td>\n",
       "    </tr>\n",
       "    <tr>\n",
       "      <th>60</th>\n",
       "      <td>-0.760529</td>\n",
       "      <td>-6.097121e-01</td>\n",
       "      <td>-0.271186</td>\n",
       "      <td>-0.125595</td>\n",
       "      <td>-0.371509</td>\n",
       "      <td>0.473277</td>\n",
       "      <td>-0.550739</td>\n",
       "      <td>-0.234465</td>\n",
       "      <td>-0.048501</td>\n",
       "      <td>0.616600</td>\n",
       "      <td>...</td>\n",
       "      <td>nissan</td>\n",
       "      <td>gas</td>\n",
       "      <td>std</td>\n",
       "      <td>four</td>\n",
       "      <td>sedan</td>\n",
       "      <td>fwd</td>\n",
       "      <td>front</td>\n",
       "      <td>ohc</td>\n",
       "      <td>four</td>\n",
       "      <td>2bbl</td>\n",
       "    </tr>\n",
       "  </tbody>\n",
       "</table>\n",
       "<p>61 rows × 25 columns</p>\n",
       "</div>\n",
       "      <button class=\"colab-df-convert\" onclick=\"convertToInteractive('df-b43f5186-221d-4c1c-976e-d6378d6dcac8')\"\n",
       "              title=\"Convert this dataframe to an interactive table.\"\n",
       "              style=\"display:none;\">\n",
       "        \n",
       "  <svg xmlns=\"http://www.w3.org/2000/svg\" height=\"24px\"viewBox=\"0 0 24 24\"\n",
       "       width=\"24px\">\n",
       "    <path d=\"M0 0h24v24H0V0z\" fill=\"none\"/>\n",
       "    <path d=\"M18.56 5.44l.94 2.06.94-2.06 2.06-.94-2.06-.94-.94-2.06-.94 2.06-2.06.94zm-11 1L8.5 8.5l.94-2.06 2.06-.94-2.06-.94L8.5 2.5l-.94 2.06-2.06.94zm10 10l.94 2.06.94-2.06 2.06-.94-2.06-.94-.94-2.06-.94 2.06-2.06.94z\"/><path d=\"M17.41 7.96l-1.37-1.37c-.4-.4-.92-.59-1.43-.59-.52 0-1.04.2-1.43.59L10.3 9.45l-7.72 7.72c-.78.78-.78 2.05 0 2.83L4 21.41c.39.39.9.59 1.41.59.51 0 1.02-.2 1.41-.59l7.78-7.78 2.81-2.81c.8-.78.8-2.07 0-2.86zM5.41 20L4 18.59l7.72-7.72 1.47 1.35L5.41 20z\"/>\n",
       "  </svg>\n",
       "      </button>\n",
       "      \n",
       "  <style>\n",
       "    .colab-df-container {\n",
       "      display:flex;\n",
       "      flex-wrap:wrap;\n",
       "      gap: 12px;\n",
       "    }\n",
       "\n",
       "    .colab-df-convert {\n",
       "      background-color: #E8F0FE;\n",
       "      border: none;\n",
       "      border-radius: 50%;\n",
       "      cursor: pointer;\n",
       "      display: none;\n",
       "      fill: #1967D2;\n",
       "      height: 32px;\n",
       "      padding: 0 0 0 0;\n",
       "      width: 32px;\n",
       "    }\n",
       "\n",
       "    .colab-df-convert:hover {\n",
       "      background-color: #E2EBFA;\n",
       "      box-shadow: 0px 1px 2px rgba(60, 64, 67, 0.3), 0px 1px 3px 1px rgba(60, 64, 67, 0.15);\n",
       "      fill: #174EA6;\n",
       "    }\n",
       "\n",
       "    [theme=dark] .colab-df-convert {\n",
       "      background-color: #3B4455;\n",
       "      fill: #D2E3FC;\n",
       "    }\n",
       "\n",
       "    [theme=dark] .colab-df-convert:hover {\n",
       "      background-color: #434B5C;\n",
       "      box-shadow: 0px 1px 3px 1px rgba(0, 0, 0, 0.15);\n",
       "      filter: drop-shadow(0px 1px 2px rgba(0, 0, 0, 0.3));\n",
       "      fill: #FFFFFF;\n",
       "    }\n",
       "  </style>\n",
       "\n",
       "      <script>\n",
       "        const buttonEl =\n",
       "          document.querySelector('#df-b43f5186-221d-4c1c-976e-d6378d6dcac8 button.colab-df-convert');\n",
       "        buttonEl.style.display =\n",
       "          google.colab.kernel.accessAllowed ? 'block' : 'none';\n",
       "\n",
       "        async function convertToInteractive(key) {\n",
       "          const element = document.querySelector('#df-b43f5186-221d-4c1c-976e-d6378d6dcac8');\n",
       "          const dataTable =\n",
       "            await google.colab.kernel.invokeFunction('convertToInteractive',\n",
       "                                                     [key], {});\n",
       "          if (!dataTable) return;\n",
       "\n",
       "          const docLinkHtml = 'Like what you see? Visit the ' +\n",
       "            '<a target=\"_blank\" href=https://colab.research.google.com/notebooks/data_table.ipynb>data table notebook</a>'\n",
       "            + ' to learn more about interactive tables.';\n",
       "          element.innerHTML = '';\n",
       "          dataTable['output_type'] = 'display_data';\n",
       "          await google.colab.output.renderOutput(dataTable, element);\n",
       "          const docLink = document.createElement('div');\n",
       "          docLink.innerHTML = docLinkHtml;\n",
       "          element.appendChild(docLink);\n",
       "        }\n",
       "      </script>\n",
       "    </div>\n",
       "  </div>\n",
       "  "
      ],
      "text/plain": [
       "          0             1         9         10        11        12        13  \\\n",
       "0   0.034054 -6.728947e-01 -0.932727 -1.294000 -0.837559  0.217944 -1.303051   \n",
       "1  -1.555112 -1.620634e+00  0.874410  1.132688  0.560592  1.664828  0.836396   \n",
       "2  -0.760529  1.980775e+00  0.374220  0.152208 -0.557929  0.303055  0.326643   \n",
       "3  -1.555112 -1.904956e+00  0.567842  0.054160  0.234357  0.558388 -0.338500   \n",
       "4   0.828636  8.978788e-16 -0.448673  0.152208  0.280962 -1.314050 -0.251330   \n",
       "..       ...           ...       ...       ...       ...       ...       ...   \n",
       "56  0.034054 -7.676687e-01 -0.835916 -2.037531 -0.930769 -0.420387 -1.431911   \n",
       "57  0.828636  1.127810e+00 -0.835916 -1.441072 -0.744349 -1.186384 -1.229147   \n",
       "58 -1.555112 -1.115173e+00  0.906680  1.050981  0.234357  0.217944  1.020210   \n",
       "59 -0.760529 -1.273129e+00 -0.319591 -0.109253 -0.278299  0.558388 -0.327130   \n",
       "60 -0.760529 -6.097121e-01 -0.271186 -0.125595 -0.371509  0.473277 -0.550739   \n",
       "\n",
       "          16        18        19  ...          2    3    4     5          6   \\\n",
       "0  -0.901549 -1.194127 -0.339937  ...       mazda  gas  std   two  hatchback   \n",
       "1   0.248596  1.669938 -0.339937  ...       volvo  gas  std  four      wagon   \n",
       "2   0.777662 -0.124876 -0.220370  ...         bmw  gas  std  four      sedan   \n",
       "3  -0.188459 -0.124876  0.825842  ...      toyota  gas  std  four      sedan   \n",
       "4   0.041570  0.447937  1.901946  ...     renault  gas  std   two  hatchback   \n",
       "..       ...       ...       ...  ...         ...  ...  ...   ...        ...   \n",
       "56 -1.177584 -1.652377 -0.579071  ...       honda  gas  std   two  hatchback   \n",
       "57 -0.878546 -1.423252 -0.100803  ...  mitsubishi  gas  std   two  hatchback   \n",
       "58  0.938682 -0.277626  0.257898  ...      toyota  gas  std  four      sedan   \n",
       "59 -0.510500  1.058937 -1.864418  ...      subaru  gas  std  four      wagon   \n",
       "60 -0.234465 -0.048501  0.616600  ...      nissan  gas  std  four      sedan   \n",
       "\n",
       "     7      8     14    15    17  \n",
       "0   fwd  front   ohc  four  2bbl  \n",
       "1   rwd  front   ohc  four  mpfi  \n",
       "2   rwd  front   ohc   six  mpfi  \n",
       "3   fwd  front   ohc  four  mpfi  \n",
       "4   fwd  front   ohc  four  mpfi  \n",
       "..  ...    ...   ...   ...   ...  \n",
       "56  fwd  front   ohc  four  1bbl  \n",
       "57  fwd  front   ohc  four  2bbl  \n",
       "58  rwd  front  dohc   six  mpfi  \n",
       "59  4wd  front  ohcf  four  2bbl  \n",
       "60  fwd  front   ohc  four  2bbl  \n",
       "\n",
       "[61 rows x 25 columns]"
      ]
     },
     "execution_count": 49,
     "metadata": {},
     "output_type": "execute_result"
    }
   ],
   "source": [
    "X_test_final = pd.concat([X_test_scaled, X_test_right], axis=1)\n",
    "X_test_final"
   ]
  },
  {
   "cell_type": "code",
   "execution_count": 50,
   "metadata": {
    "colab": {
     "base_uri": "https://localhost:8080/"
    },
    "id": "f_iJcAhtV5cM",
    "outputId": "c2848aa1-58dd-4ca2-b784-8415f16b76e2"
   },
   "outputs": [
    {
     "data": {
      "text/plain": [
       "False"
      ]
     },
     "execution_count": 50,
     "metadata": {},
     "output_type": "execute_result"
    }
   ],
   "source": [
    "X_train_final.isnull().any().any()"
   ]
  },
  {
   "cell_type": "code",
   "execution_count": 51,
   "metadata": {
    "colab": {
     "base_uri": "https://localhost:8080/"
    },
    "id": "3_BdypSN4xZt",
    "outputId": "2d2b386e-4cff-4241-90a8-a5b710989458"
   },
   "outputs": [
    {
     "data": {
      "text/plain": [
       "False"
      ]
     },
     "execution_count": 51,
     "metadata": {},
     "output_type": "execute_result"
    }
   ],
   "source": [
    "X_test_final.isnull().any().any()"
   ]
  },
  {
   "cell_type": "code",
   "execution_count": 52,
   "metadata": {
    "colab": {
     "base_uri": "https://localhost:8080/",
     "height": 477
    },
    "id": "OSckhcikD3BR",
    "outputId": "39315920-ca7d-4112-e932-69299e4830e8"
   },
   "outputs": [
    {
     "data": {
      "text/html": [
       "\n",
       "  <div id=\"df-b8030fba-8200-48b9-ad94-dda9cffa1c23\">\n",
       "    <div class=\"colab-df-container\">\n",
       "      <div>\n",
       "<style scoped>\n",
       "    .dataframe tbody tr th:only-of-type {\n",
       "        vertical-align: middle;\n",
       "    }\n",
       "\n",
       "    .dataframe tbody tr th {\n",
       "        vertical-align: top;\n",
       "    }\n",
       "\n",
       "    .dataframe thead th {\n",
       "        text-align: right;\n",
       "    }\n",
       "</style>\n",
       "<table border=\"1\" class=\"dataframe\">\n",
       "  <thead>\n",
       "    <tr style=\"text-align: right;\">\n",
       "      <th></th>\n",
       "      <th>0</th>\n",
       "      <th>1</th>\n",
       "      <th>9</th>\n",
       "      <th>10</th>\n",
       "      <th>11</th>\n",
       "      <th>12</th>\n",
       "      <th>13</th>\n",
       "      <th>16</th>\n",
       "      <th>18</th>\n",
       "      <th>19</th>\n",
       "      <th>...</th>\n",
       "      <th>2</th>\n",
       "      <th>3</th>\n",
       "      <th>4</th>\n",
       "      <th>5</th>\n",
       "      <th>6</th>\n",
       "      <th>7</th>\n",
       "      <th>8</th>\n",
       "      <th>14</th>\n",
       "      <th>15</th>\n",
       "      <th>17</th>\n",
       "    </tr>\n",
       "  </thead>\n",
       "  <tbody>\n",
       "    <tr>\n",
       "      <th>0</th>\n",
       "      <td>0.034054</td>\n",
       "      <td>-0.230617</td>\n",
       "      <td>-0.835916</td>\n",
       "      <td>-1.441072</td>\n",
       "      <td>-1.023979</td>\n",
       "      <td>-1.186384</td>\n",
       "      <td>-1.358006</td>\n",
       "      <td>-0.924552</td>\n",
       "      <td>-1.423252</td>\n",
       "      <td>-0.100803</td>\n",
       "      <td>...</td>\n",
       "      <td>dodge</td>\n",
       "      <td>gas</td>\n",
       "      <td>std</td>\n",
       "      <td>two</td>\n",
       "      <td>hatchback</td>\n",
       "      <td>fwd</td>\n",
       "      <td>front</td>\n",
       "      <td>ohc</td>\n",
       "      <td>four</td>\n",
       "      <td>2bbl</td>\n",
       "    </tr>\n",
       "    <tr>\n",
       "      <th>1</th>\n",
       "      <td>-1.555112</td>\n",
       "      <td>-1.904956</td>\n",
       "      <td>0.567842</td>\n",
       "      <td>0.054160</td>\n",
       "      <td>0.234357</td>\n",
       "      <td>0.558388</td>\n",
       "      <td>-0.505259</td>\n",
       "      <td>-0.188459</td>\n",
       "      <td>-0.124876</td>\n",
       "      <td>0.825842</td>\n",
       "      <td>...</td>\n",
       "      <td>toyota</td>\n",
       "      <td>gas</td>\n",
       "      <td>std</td>\n",
       "      <td>four</td>\n",
       "      <td>sedan</td>\n",
       "      <td>fwd</td>\n",
       "      <td>front</td>\n",
       "      <td>ohc</td>\n",
       "      <td>four</td>\n",
       "      <td>mpfi</td>\n",
       "    </tr>\n",
       "    <tr>\n",
       "      <th>2</th>\n",
       "      <td>-0.760529</td>\n",
       "      <td>-0.736077</td>\n",
       "      <td>-0.271186</td>\n",
       "      <td>-0.239984</td>\n",
       "      <td>-0.278299</td>\n",
       "      <td>-0.462942</td>\n",
       "      <td>-0.848253</td>\n",
       "      <td>-0.510500</td>\n",
       "      <td>1.058937</td>\n",
       "      <td>-1.864418</td>\n",
       "      <td>...</td>\n",
       "      <td>subaru</td>\n",
       "      <td>gas</td>\n",
       "      <td>std</td>\n",
       "      <td>four</td>\n",
       "      <td>sedan</td>\n",
       "      <td>fwd</td>\n",
       "      <td>front</td>\n",
       "      <td>ohcf</td>\n",
       "      <td>four</td>\n",
       "      <td>2bbl</td>\n",
       "    </tr>\n",
       "    <tr>\n",
       "      <th>3</th>\n",
       "      <td>0.828636</td>\n",
       "      <td>-0.988808</td>\n",
       "      <td>-0.255051</td>\n",
       "      <td>-0.264496</td>\n",
       "      <td>-0.231694</td>\n",
       "      <td>0.898831</td>\n",
       "      <td>-0.721288</td>\n",
       "      <td>-0.487497</td>\n",
       "      <td>-0.583126</td>\n",
       "      <td>0.407357</td>\n",
       "      <td>...</td>\n",
       "      <td>volkswagen</td>\n",
       "      <td>gas</td>\n",
       "      <td>std</td>\n",
       "      <td>four</td>\n",
       "      <td>sedan</td>\n",
       "      <td>fwd</td>\n",
       "      <td>front</td>\n",
       "      <td>ohc</td>\n",
       "      <td>four</td>\n",
       "      <td>mpfi</td>\n",
       "    </tr>\n",
       "    <tr>\n",
       "      <th>4</th>\n",
       "      <td>-0.760529</td>\n",
       "      <td>1.980775</td>\n",
       "      <td>0.374220</td>\n",
       "      <td>0.152208</td>\n",
       "      <td>-0.557929</td>\n",
       "      <td>0.303055</td>\n",
       "      <td>0.222418</td>\n",
       "      <td>0.777662</td>\n",
       "      <td>-0.124876</td>\n",
       "      <td>-0.220370</td>\n",
       "      <td>...</td>\n",
       "      <td>bmw</td>\n",
       "      <td>gas</td>\n",
       "      <td>std</td>\n",
       "      <td>two</td>\n",
       "      <td>sedan</td>\n",
       "      <td>rwd</td>\n",
       "      <td>front</td>\n",
       "      <td>ohc</td>\n",
       "      <td>six</td>\n",
       "      <td>mpfi</td>\n",
       "    </tr>\n",
       "    <tr>\n",
       "      <th>...</th>\n",
       "      <td>...</td>\n",
       "      <td>...</td>\n",
       "      <td>...</td>\n",
       "      <td>...</td>\n",
       "      <td>...</td>\n",
       "      <td>...</td>\n",
       "      <td>...</td>\n",
       "      <td>...</td>\n",
       "      <td>...</td>\n",
       "      <td>...</td>\n",
       "      <td>...</td>\n",
       "      <td>...</td>\n",
       "      <td>...</td>\n",
       "      <td>...</td>\n",
       "      <td>...</td>\n",
       "      <td>...</td>\n",
       "      <td>...</td>\n",
       "      <td>...</td>\n",
       "      <td>...</td>\n",
       "      <td>...</td>\n",
       "      <td>...</td>\n",
       "    </tr>\n",
       "    <tr>\n",
       "      <th>56</th>\n",
       "      <td>0.034054</td>\n",
       "      <td>-0.767669</td>\n",
       "      <td>-0.835916</td>\n",
       "      <td>-2.037531</td>\n",
       "      <td>-0.930769</td>\n",
       "      <td>-0.420387</td>\n",
       "      <td>-1.431911</td>\n",
       "      <td>-1.177584</td>\n",
       "      <td>-1.652377</td>\n",
       "      <td>-0.579071</td>\n",
       "      <td>...</td>\n",
       "      <td>honda</td>\n",
       "      <td>gas</td>\n",
       "      <td>std</td>\n",
       "      <td>two</td>\n",
       "      <td>hatchback</td>\n",
       "      <td>fwd</td>\n",
       "      <td>front</td>\n",
       "      <td>ohc</td>\n",
       "      <td>four</td>\n",
       "      <td>1bbl</td>\n",
       "    </tr>\n",
       "    <tr>\n",
       "      <th>57</th>\n",
       "      <td>0.828636</td>\n",
       "      <td>1.127810</td>\n",
       "      <td>-0.835916</td>\n",
       "      <td>-1.441072</td>\n",
       "      <td>-0.744349</td>\n",
       "      <td>-1.186384</td>\n",
       "      <td>-1.229147</td>\n",
       "      <td>-0.878546</td>\n",
       "      <td>-1.423252</td>\n",
       "      <td>-0.100803</td>\n",
       "      <td>...</td>\n",
       "      <td>mitsubishi</td>\n",
       "      <td>gas</td>\n",
       "      <td>std</td>\n",
       "      <td>two</td>\n",
       "      <td>hatchback</td>\n",
       "      <td>fwd</td>\n",
       "      <td>front</td>\n",
       "      <td>ohc</td>\n",
       "      <td>four</td>\n",
       "      <td>2bbl</td>\n",
       "    </tr>\n",
       "    <tr>\n",
       "      <th>58</th>\n",
       "      <td>-1.555112</td>\n",
       "      <td>-1.115173</td>\n",
       "      <td>0.906680</td>\n",
       "      <td>1.050981</td>\n",
       "      <td>0.234357</td>\n",
       "      <td>0.217944</td>\n",
       "      <td>1.020210</td>\n",
       "      <td>0.938682</td>\n",
       "      <td>-0.277626</td>\n",
       "      <td>0.257898</td>\n",
       "      <td>...</td>\n",
       "      <td>toyota</td>\n",
       "      <td>gas</td>\n",
       "      <td>std</td>\n",
       "      <td>four</td>\n",
       "      <td>sedan</td>\n",
       "      <td>rwd</td>\n",
       "      <td>front</td>\n",
       "      <td>dohc</td>\n",
       "      <td>six</td>\n",
       "      <td>mpfi</td>\n",
       "    </tr>\n",
       "    <tr>\n",
       "      <th>59</th>\n",
       "      <td>-0.760529</td>\n",
       "      <td>-1.273129</td>\n",
       "      <td>-0.319591</td>\n",
       "      <td>-0.109253</td>\n",
       "      <td>-0.278299</td>\n",
       "      <td>0.558388</td>\n",
       "      <td>-0.327130</td>\n",
       "      <td>-0.510500</td>\n",
       "      <td>1.058937</td>\n",
       "      <td>-1.864418</td>\n",
       "      <td>...</td>\n",
       "      <td>subaru</td>\n",
       "      <td>gas</td>\n",
       "      <td>std</td>\n",
       "      <td>four</td>\n",
       "      <td>wagon</td>\n",
       "      <td>4wd</td>\n",
       "      <td>front</td>\n",
       "      <td>ohcf</td>\n",
       "      <td>four</td>\n",
       "      <td>2bbl</td>\n",
       "    </tr>\n",
       "    <tr>\n",
       "      <th>60</th>\n",
       "      <td>-0.760529</td>\n",
       "      <td>-0.609712</td>\n",
       "      <td>-0.271186</td>\n",
       "      <td>-0.125595</td>\n",
       "      <td>-0.371509</td>\n",
       "      <td>0.473277</td>\n",
       "      <td>-0.550739</td>\n",
       "      <td>-0.234465</td>\n",
       "      <td>-0.048501</td>\n",
       "      <td>0.616600</td>\n",
       "      <td>...</td>\n",
       "      <td>nissan</td>\n",
       "      <td>gas</td>\n",
       "      <td>std</td>\n",
       "      <td>four</td>\n",
       "      <td>sedan</td>\n",
       "      <td>fwd</td>\n",
       "      <td>front</td>\n",
       "      <td>ohc</td>\n",
       "      <td>four</td>\n",
       "      <td>2bbl</td>\n",
       "    </tr>\n",
       "  </tbody>\n",
       "</table>\n",
       "<p>201 rows × 25 columns</p>\n",
       "</div>\n",
       "      <button class=\"colab-df-convert\" onclick=\"convertToInteractive('df-b8030fba-8200-48b9-ad94-dda9cffa1c23')\"\n",
       "              title=\"Convert this dataframe to an interactive table.\"\n",
       "              style=\"display:none;\">\n",
       "        \n",
       "  <svg xmlns=\"http://www.w3.org/2000/svg\" height=\"24px\"viewBox=\"0 0 24 24\"\n",
       "       width=\"24px\">\n",
       "    <path d=\"M0 0h24v24H0V0z\" fill=\"none\"/>\n",
       "    <path d=\"M18.56 5.44l.94 2.06.94-2.06 2.06-.94-2.06-.94-.94-2.06-.94 2.06-2.06.94zm-11 1L8.5 8.5l.94-2.06 2.06-.94-2.06-.94L8.5 2.5l-.94 2.06-2.06.94zm10 10l.94 2.06.94-2.06 2.06-.94-2.06-.94-.94-2.06-.94 2.06-2.06.94z\"/><path d=\"M17.41 7.96l-1.37-1.37c-.4-.4-.92-.59-1.43-.59-.52 0-1.04.2-1.43.59L10.3 9.45l-7.72 7.72c-.78.78-.78 2.05 0 2.83L4 21.41c.39.39.9.59 1.41.59.51 0 1.02-.2 1.41-.59l7.78-7.78 2.81-2.81c.8-.78.8-2.07 0-2.86zM5.41 20L4 18.59l7.72-7.72 1.47 1.35L5.41 20z\"/>\n",
       "  </svg>\n",
       "      </button>\n",
       "      \n",
       "  <style>\n",
       "    .colab-df-container {\n",
       "      display:flex;\n",
       "      flex-wrap:wrap;\n",
       "      gap: 12px;\n",
       "    }\n",
       "\n",
       "    .colab-df-convert {\n",
       "      background-color: #E8F0FE;\n",
       "      border: none;\n",
       "      border-radius: 50%;\n",
       "      cursor: pointer;\n",
       "      display: none;\n",
       "      fill: #1967D2;\n",
       "      height: 32px;\n",
       "      padding: 0 0 0 0;\n",
       "      width: 32px;\n",
       "    }\n",
       "\n",
       "    .colab-df-convert:hover {\n",
       "      background-color: #E2EBFA;\n",
       "      box-shadow: 0px 1px 2px rgba(60, 64, 67, 0.3), 0px 1px 3px 1px rgba(60, 64, 67, 0.15);\n",
       "      fill: #174EA6;\n",
       "    }\n",
       "\n",
       "    [theme=dark] .colab-df-convert {\n",
       "      background-color: #3B4455;\n",
       "      fill: #D2E3FC;\n",
       "    }\n",
       "\n",
       "    [theme=dark] .colab-df-convert:hover {\n",
       "      background-color: #434B5C;\n",
       "      box-shadow: 0px 1px 3px 1px rgba(0, 0, 0, 0.15);\n",
       "      filter: drop-shadow(0px 1px 2px rgba(0, 0, 0, 0.3));\n",
       "      fill: #FFFFFF;\n",
       "    }\n",
       "  </style>\n",
       "\n",
       "      <script>\n",
       "        const buttonEl =\n",
       "          document.querySelector('#df-b8030fba-8200-48b9-ad94-dda9cffa1c23 button.colab-df-convert');\n",
       "        buttonEl.style.display =\n",
       "          google.colab.kernel.accessAllowed ? 'block' : 'none';\n",
       "\n",
       "        async function convertToInteractive(key) {\n",
       "          const element = document.querySelector('#df-b8030fba-8200-48b9-ad94-dda9cffa1c23');\n",
       "          const dataTable =\n",
       "            await google.colab.kernel.invokeFunction('convertToInteractive',\n",
       "                                                     [key], {});\n",
       "          if (!dataTable) return;\n",
       "\n",
       "          const docLinkHtml = 'Like what you see? Visit the ' +\n",
       "            '<a target=\"_blank\" href=https://colab.research.google.com/notebooks/data_table.ipynb>data table notebook</a>'\n",
       "            + ' to learn more about interactive tables.';\n",
       "          element.innerHTML = '';\n",
       "          dataTable['output_type'] = 'display_data';\n",
       "          await google.colab.output.renderOutput(dataTable, element);\n",
       "          const docLink = document.createElement('div');\n",
       "          docLink.innerHTML = docLinkHtml;\n",
       "          element.appendChild(docLink);\n",
       "        }\n",
       "      </script>\n",
       "    </div>\n",
       "  </div>\n",
       "  "
      ],
      "text/plain": [
       "          0         1         9         10        11        12        13  \\\n",
       "0   0.034054 -0.230617 -0.835916 -1.441072 -1.023979 -1.186384 -1.358006   \n",
       "1  -1.555112 -1.904956  0.567842  0.054160  0.234357  0.558388 -0.505259   \n",
       "2  -0.760529 -0.736077 -0.271186 -0.239984 -0.278299 -0.462942 -0.848253   \n",
       "3   0.828636 -0.988808 -0.255051 -0.264496 -0.231694  0.898831 -0.721288   \n",
       "4  -0.760529  1.980775  0.374220  0.152208 -0.557929  0.303055  0.222418   \n",
       "..       ...       ...       ...       ...       ...       ...       ...   \n",
       "56  0.034054 -0.767669 -0.835916 -2.037531 -0.930769 -0.420387 -1.431911   \n",
       "57  0.828636  1.127810 -0.835916 -1.441072 -0.744349 -1.186384 -1.229147   \n",
       "58 -1.555112 -1.115173  0.906680  1.050981  0.234357  0.217944  1.020210   \n",
       "59 -0.760529 -1.273129 -0.319591 -0.109253 -0.278299  0.558388 -0.327130   \n",
       "60 -0.760529 -0.609712 -0.271186 -0.125595 -0.371509  0.473277 -0.550739   \n",
       "\n",
       "          16        18        19  ...          2    3    4     5          6   \\\n",
       "0  -0.924552 -1.423252 -0.100803  ...       dodge  gas  std   two  hatchback   \n",
       "1  -0.188459 -0.124876  0.825842  ...      toyota  gas  std  four      sedan   \n",
       "2  -0.510500  1.058937 -1.864418  ...      subaru  gas  std  four      sedan   \n",
       "3  -0.487497 -0.583126  0.407357  ...  volkswagen  gas  std  four      sedan   \n",
       "4   0.777662 -0.124876 -0.220370  ...         bmw  gas  std   two      sedan   \n",
       "..       ...       ...       ...  ...         ...  ...  ...   ...        ...   \n",
       "56 -1.177584 -1.652377 -0.579071  ...       honda  gas  std   two  hatchback   \n",
       "57 -0.878546 -1.423252 -0.100803  ...  mitsubishi  gas  std   two  hatchback   \n",
       "58  0.938682 -0.277626  0.257898  ...      toyota  gas  std  four      sedan   \n",
       "59 -0.510500  1.058937 -1.864418  ...      subaru  gas  std  four      wagon   \n",
       "60 -0.234465 -0.048501  0.616600  ...      nissan  gas  std  four      sedan   \n",
       "\n",
       "     7      8     14    15    17  \n",
       "0   fwd  front   ohc  four  2bbl  \n",
       "1   fwd  front   ohc  four  mpfi  \n",
       "2   fwd  front  ohcf  four  2bbl  \n",
       "3   fwd  front   ohc  four  mpfi  \n",
       "4   rwd  front   ohc   six  mpfi  \n",
       "..  ...    ...   ...   ...   ...  \n",
       "56  fwd  front   ohc  four  1bbl  \n",
       "57  fwd  front   ohc  four  2bbl  \n",
       "58  rwd  front  dohc   six  mpfi  \n",
       "59  4wd  front  ohcf  four  2bbl  \n",
       "60  fwd  front   ohc  four  2bbl  \n",
       "\n",
       "[201 rows x 25 columns]"
      ]
     },
     "execution_count": 52,
     "metadata": {},
     "output_type": "execute_result"
    }
   ],
   "source": [
    "X_final = pd.concat([X_train_final, X_test_final], axis=0)\n",
    "X_final"
   ]
  },
  {
   "cell_type": "code",
   "execution_count": 53,
   "metadata": {
    "colab": {
     "base_uri": "https://localhost:8080/",
     "height": 493
    },
    "id": "d4DMN2-QWTgU",
    "outputId": "7933abf1-053d-4e8f-9f0e-1c48555fa3b7"
   },
   "outputs": [
    {
     "name": "stdout",
     "output_type": "stream",
     "text": [
      "(201, 64)\n"
     ]
    },
    {
     "data": {
      "text/html": [
       "\n",
       "  <div id=\"df-1b70907c-8343-4dc5-9f96-c7b6a7329dc0\">\n",
       "    <div class=\"colab-df-container\">\n",
       "      <div>\n",
       "<style scoped>\n",
       "    .dataframe tbody tr th:only-of-type {\n",
       "        vertical-align: middle;\n",
       "    }\n",
       "\n",
       "    .dataframe tbody tr th {\n",
       "        vertical-align: top;\n",
       "    }\n",
       "\n",
       "    .dataframe thead th {\n",
       "        text-align: right;\n",
       "    }\n",
       "</style>\n",
       "<table border=\"1\" class=\"dataframe\">\n",
       "  <thead>\n",
       "    <tr style=\"text-align: right;\">\n",
       "      <th></th>\n",
       "      <th>0</th>\n",
       "      <th>1</th>\n",
       "      <th>9</th>\n",
       "      <th>10</th>\n",
       "      <th>11</th>\n",
       "      <th>12</th>\n",
       "      <th>13</th>\n",
       "      <th>16</th>\n",
       "      <th>18</th>\n",
       "      <th>19</th>\n",
       "      <th>...</th>\n",
       "      <th>15_three</th>\n",
       "      <th>15_twelve</th>\n",
       "      <th>15_two</th>\n",
       "      <th>17_2bbl</th>\n",
       "      <th>17_4bbl</th>\n",
       "      <th>17_idi</th>\n",
       "      <th>17_mfi</th>\n",
       "      <th>17_mpfi</th>\n",
       "      <th>17_spdi</th>\n",
       "      <th>17_spfi</th>\n",
       "    </tr>\n",
       "  </thead>\n",
       "  <tbody>\n",
       "    <tr>\n",
       "      <th>0</th>\n",
       "      <td>0.034054</td>\n",
       "      <td>-0.230617</td>\n",
       "      <td>-0.835916</td>\n",
       "      <td>-1.441072</td>\n",
       "      <td>-1.023979</td>\n",
       "      <td>-1.186384</td>\n",
       "      <td>-1.358006</td>\n",
       "      <td>-0.924552</td>\n",
       "      <td>-1.423252</td>\n",
       "      <td>-0.100803</td>\n",
       "      <td>...</td>\n",
       "      <td>0</td>\n",
       "      <td>0</td>\n",
       "      <td>0</td>\n",
       "      <td>1</td>\n",
       "      <td>0</td>\n",
       "      <td>0</td>\n",
       "      <td>0</td>\n",
       "      <td>0</td>\n",
       "      <td>0</td>\n",
       "      <td>0</td>\n",
       "    </tr>\n",
       "    <tr>\n",
       "      <th>1</th>\n",
       "      <td>-1.555112</td>\n",
       "      <td>-1.904956</td>\n",
       "      <td>0.567842</td>\n",
       "      <td>0.054160</td>\n",
       "      <td>0.234357</td>\n",
       "      <td>0.558388</td>\n",
       "      <td>-0.505259</td>\n",
       "      <td>-0.188459</td>\n",
       "      <td>-0.124876</td>\n",
       "      <td>0.825842</td>\n",
       "      <td>...</td>\n",
       "      <td>0</td>\n",
       "      <td>0</td>\n",
       "      <td>0</td>\n",
       "      <td>0</td>\n",
       "      <td>0</td>\n",
       "      <td>0</td>\n",
       "      <td>0</td>\n",
       "      <td>1</td>\n",
       "      <td>0</td>\n",
       "      <td>0</td>\n",
       "    </tr>\n",
       "    <tr>\n",
       "      <th>2</th>\n",
       "      <td>-0.760529</td>\n",
       "      <td>-0.736077</td>\n",
       "      <td>-0.271186</td>\n",
       "      <td>-0.239984</td>\n",
       "      <td>-0.278299</td>\n",
       "      <td>-0.462942</td>\n",
       "      <td>-0.848253</td>\n",
       "      <td>-0.510500</td>\n",
       "      <td>1.058937</td>\n",
       "      <td>-1.864418</td>\n",
       "      <td>...</td>\n",
       "      <td>0</td>\n",
       "      <td>0</td>\n",
       "      <td>0</td>\n",
       "      <td>1</td>\n",
       "      <td>0</td>\n",
       "      <td>0</td>\n",
       "      <td>0</td>\n",
       "      <td>0</td>\n",
       "      <td>0</td>\n",
       "      <td>0</td>\n",
       "    </tr>\n",
       "    <tr>\n",
       "      <th>3</th>\n",
       "      <td>0.828636</td>\n",
       "      <td>-0.988808</td>\n",
       "      <td>-0.255051</td>\n",
       "      <td>-0.264496</td>\n",
       "      <td>-0.231694</td>\n",
       "      <td>0.898831</td>\n",
       "      <td>-0.721288</td>\n",
       "      <td>-0.487497</td>\n",
       "      <td>-0.583126</td>\n",
       "      <td>0.407357</td>\n",
       "      <td>...</td>\n",
       "      <td>0</td>\n",
       "      <td>0</td>\n",
       "      <td>0</td>\n",
       "      <td>0</td>\n",
       "      <td>0</td>\n",
       "      <td>0</td>\n",
       "      <td>0</td>\n",
       "      <td>1</td>\n",
       "      <td>0</td>\n",
       "      <td>0</td>\n",
       "    </tr>\n",
       "    <tr>\n",
       "      <th>4</th>\n",
       "      <td>-0.760529</td>\n",
       "      <td>1.980775</td>\n",
       "      <td>0.374220</td>\n",
       "      <td>0.152208</td>\n",
       "      <td>-0.557929</td>\n",
       "      <td>0.303055</td>\n",
       "      <td>0.222418</td>\n",
       "      <td>0.777662</td>\n",
       "      <td>-0.124876</td>\n",
       "      <td>-0.220370</td>\n",
       "      <td>...</td>\n",
       "      <td>0</td>\n",
       "      <td>0</td>\n",
       "      <td>0</td>\n",
       "      <td>0</td>\n",
       "      <td>0</td>\n",
       "      <td>0</td>\n",
       "      <td>0</td>\n",
       "      <td>1</td>\n",
       "      <td>0</td>\n",
       "      <td>0</td>\n",
       "    </tr>\n",
       "    <tr>\n",
       "      <th>...</th>\n",
       "      <td>...</td>\n",
       "      <td>...</td>\n",
       "      <td>...</td>\n",
       "      <td>...</td>\n",
       "      <td>...</td>\n",
       "      <td>...</td>\n",
       "      <td>...</td>\n",
       "      <td>...</td>\n",
       "      <td>...</td>\n",
       "      <td>...</td>\n",
       "      <td>...</td>\n",
       "      <td>...</td>\n",
       "      <td>...</td>\n",
       "      <td>...</td>\n",
       "      <td>...</td>\n",
       "      <td>...</td>\n",
       "      <td>...</td>\n",
       "      <td>...</td>\n",
       "      <td>...</td>\n",
       "      <td>...</td>\n",
       "      <td>...</td>\n",
       "    </tr>\n",
       "    <tr>\n",
       "      <th>56</th>\n",
       "      <td>0.034054</td>\n",
       "      <td>-0.767669</td>\n",
       "      <td>-0.835916</td>\n",
       "      <td>-2.037531</td>\n",
       "      <td>-0.930769</td>\n",
       "      <td>-0.420387</td>\n",
       "      <td>-1.431911</td>\n",
       "      <td>-1.177584</td>\n",
       "      <td>-1.652377</td>\n",
       "      <td>-0.579071</td>\n",
       "      <td>...</td>\n",
       "      <td>0</td>\n",
       "      <td>0</td>\n",
       "      <td>0</td>\n",
       "      <td>0</td>\n",
       "      <td>0</td>\n",
       "      <td>0</td>\n",
       "      <td>0</td>\n",
       "      <td>0</td>\n",
       "      <td>0</td>\n",
       "      <td>0</td>\n",
       "    </tr>\n",
       "    <tr>\n",
       "      <th>57</th>\n",
       "      <td>0.828636</td>\n",
       "      <td>1.127810</td>\n",
       "      <td>-0.835916</td>\n",
       "      <td>-1.441072</td>\n",
       "      <td>-0.744349</td>\n",
       "      <td>-1.186384</td>\n",
       "      <td>-1.229147</td>\n",
       "      <td>-0.878546</td>\n",
       "      <td>-1.423252</td>\n",
       "      <td>-0.100803</td>\n",
       "      <td>...</td>\n",
       "      <td>0</td>\n",
       "      <td>0</td>\n",
       "      <td>0</td>\n",
       "      <td>1</td>\n",
       "      <td>0</td>\n",
       "      <td>0</td>\n",
       "      <td>0</td>\n",
       "      <td>0</td>\n",
       "      <td>0</td>\n",
       "      <td>0</td>\n",
       "    </tr>\n",
       "    <tr>\n",
       "      <th>58</th>\n",
       "      <td>-1.555112</td>\n",
       "      <td>-1.115173</td>\n",
       "      <td>0.906680</td>\n",
       "      <td>1.050981</td>\n",
       "      <td>0.234357</td>\n",
       "      <td>0.217944</td>\n",
       "      <td>1.020210</td>\n",
       "      <td>0.938682</td>\n",
       "      <td>-0.277626</td>\n",
       "      <td>0.257898</td>\n",
       "      <td>...</td>\n",
       "      <td>0</td>\n",
       "      <td>0</td>\n",
       "      <td>0</td>\n",
       "      <td>0</td>\n",
       "      <td>0</td>\n",
       "      <td>0</td>\n",
       "      <td>0</td>\n",
       "      <td>1</td>\n",
       "      <td>0</td>\n",
       "      <td>0</td>\n",
       "    </tr>\n",
       "    <tr>\n",
       "      <th>59</th>\n",
       "      <td>-0.760529</td>\n",
       "      <td>-1.273129</td>\n",
       "      <td>-0.319591</td>\n",
       "      <td>-0.109253</td>\n",
       "      <td>-0.278299</td>\n",
       "      <td>0.558388</td>\n",
       "      <td>-0.327130</td>\n",
       "      <td>-0.510500</td>\n",
       "      <td>1.058937</td>\n",
       "      <td>-1.864418</td>\n",
       "      <td>...</td>\n",
       "      <td>0</td>\n",
       "      <td>0</td>\n",
       "      <td>0</td>\n",
       "      <td>1</td>\n",
       "      <td>0</td>\n",
       "      <td>0</td>\n",
       "      <td>0</td>\n",
       "      <td>0</td>\n",
       "      <td>0</td>\n",
       "      <td>0</td>\n",
       "    </tr>\n",
       "    <tr>\n",
       "      <th>60</th>\n",
       "      <td>-0.760529</td>\n",
       "      <td>-0.609712</td>\n",
       "      <td>-0.271186</td>\n",
       "      <td>-0.125595</td>\n",
       "      <td>-0.371509</td>\n",
       "      <td>0.473277</td>\n",
       "      <td>-0.550739</td>\n",
       "      <td>-0.234465</td>\n",
       "      <td>-0.048501</td>\n",
       "      <td>0.616600</td>\n",
       "      <td>...</td>\n",
       "      <td>0</td>\n",
       "      <td>0</td>\n",
       "      <td>0</td>\n",
       "      <td>1</td>\n",
       "      <td>0</td>\n",
       "      <td>0</td>\n",
       "      <td>0</td>\n",
       "      <td>0</td>\n",
       "      <td>0</td>\n",
       "      <td>0</td>\n",
       "    </tr>\n",
       "  </tbody>\n",
       "</table>\n",
       "<p>201 rows × 64 columns</p>\n",
       "</div>\n",
       "      <button class=\"colab-df-convert\" onclick=\"convertToInteractive('df-1b70907c-8343-4dc5-9f96-c7b6a7329dc0')\"\n",
       "              title=\"Convert this dataframe to an interactive table.\"\n",
       "              style=\"display:none;\">\n",
       "        \n",
       "  <svg xmlns=\"http://www.w3.org/2000/svg\" height=\"24px\"viewBox=\"0 0 24 24\"\n",
       "       width=\"24px\">\n",
       "    <path d=\"M0 0h24v24H0V0z\" fill=\"none\"/>\n",
       "    <path d=\"M18.56 5.44l.94 2.06.94-2.06 2.06-.94-2.06-.94-.94-2.06-.94 2.06-2.06.94zm-11 1L8.5 8.5l.94-2.06 2.06-.94-2.06-.94L8.5 2.5l-.94 2.06-2.06.94zm10 10l.94 2.06.94-2.06 2.06-.94-2.06-.94-.94-2.06-.94 2.06-2.06.94z\"/><path d=\"M17.41 7.96l-1.37-1.37c-.4-.4-.92-.59-1.43-.59-.52 0-1.04.2-1.43.59L10.3 9.45l-7.72 7.72c-.78.78-.78 2.05 0 2.83L4 21.41c.39.39.9.59 1.41.59.51 0 1.02-.2 1.41-.59l7.78-7.78 2.81-2.81c.8-.78.8-2.07 0-2.86zM5.41 20L4 18.59l7.72-7.72 1.47 1.35L5.41 20z\"/>\n",
       "  </svg>\n",
       "      </button>\n",
       "      \n",
       "  <style>\n",
       "    .colab-df-container {\n",
       "      display:flex;\n",
       "      flex-wrap:wrap;\n",
       "      gap: 12px;\n",
       "    }\n",
       "\n",
       "    .colab-df-convert {\n",
       "      background-color: #E8F0FE;\n",
       "      border: none;\n",
       "      border-radius: 50%;\n",
       "      cursor: pointer;\n",
       "      display: none;\n",
       "      fill: #1967D2;\n",
       "      height: 32px;\n",
       "      padding: 0 0 0 0;\n",
       "      width: 32px;\n",
       "    }\n",
       "\n",
       "    .colab-df-convert:hover {\n",
       "      background-color: #E2EBFA;\n",
       "      box-shadow: 0px 1px 2px rgba(60, 64, 67, 0.3), 0px 1px 3px 1px rgba(60, 64, 67, 0.15);\n",
       "      fill: #174EA6;\n",
       "    }\n",
       "\n",
       "    [theme=dark] .colab-df-convert {\n",
       "      background-color: #3B4455;\n",
       "      fill: #D2E3FC;\n",
       "    }\n",
       "\n",
       "    [theme=dark] .colab-df-convert:hover {\n",
       "      background-color: #434B5C;\n",
       "      box-shadow: 0px 1px 3px 1px rgba(0, 0, 0, 0.15);\n",
       "      filter: drop-shadow(0px 1px 2px rgba(0, 0, 0, 0.3));\n",
       "      fill: #FFFFFF;\n",
       "    }\n",
       "  </style>\n",
       "\n",
       "      <script>\n",
       "        const buttonEl =\n",
       "          document.querySelector('#df-1b70907c-8343-4dc5-9f96-c7b6a7329dc0 button.colab-df-convert');\n",
       "        buttonEl.style.display =\n",
       "          google.colab.kernel.accessAllowed ? 'block' : 'none';\n",
       "\n",
       "        async function convertToInteractive(key) {\n",
       "          const element = document.querySelector('#df-1b70907c-8343-4dc5-9f96-c7b6a7329dc0');\n",
       "          const dataTable =\n",
       "            await google.colab.kernel.invokeFunction('convertToInteractive',\n",
       "                                                     [key], {});\n",
       "          if (!dataTable) return;\n",
       "\n",
       "          const docLinkHtml = 'Like what you see? Visit the ' +\n",
       "            '<a target=\"_blank\" href=https://colab.research.google.com/notebooks/data_table.ipynb>data table notebook</a>'\n",
       "            + ' to learn more about interactive tables.';\n",
       "          element.innerHTML = '';\n",
       "          dataTable['output_type'] = 'display_data';\n",
       "          await google.colab.output.renderOutput(dataTable, element);\n",
       "          const docLink = document.createElement('div');\n",
       "          docLink.innerHTML = docLinkHtml;\n",
       "          element.appendChild(docLink);\n",
       "        }\n",
       "      </script>\n",
       "    </div>\n",
       "  </div>\n",
       "  "
      ],
      "text/plain": [
       "           0         1         9        10        11        12        13  \\\n",
       "0   0.034054 -0.230617 -0.835916 -1.441072 -1.023979 -1.186384 -1.358006   \n",
       "1  -1.555112 -1.904956  0.567842  0.054160  0.234357  0.558388 -0.505259   \n",
       "2  -0.760529 -0.736077 -0.271186 -0.239984 -0.278299 -0.462942 -0.848253   \n",
       "3   0.828636 -0.988808 -0.255051 -0.264496 -0.231694  0.898831 -0.721288   \n",
       "4  -0.760529  1.980775  0.374220  0.152208 -0.557929  0.303055  0.222418   \n",
       "..       ...       ...       ...       ...       ...       ...       ...   \n",
       "56  0.034054 -0.767669 -0.835916 -2.037531 -0.930769 -0.420387 -1.431911   \n",
       "57  0.828636  1.127810 -0.835916 -1.441072 -0.744349 -1.186384 -1.229147   \n",
       "58 -1.555112 -1.115173  0.906680  1.050981  0.234357  0.217944  1.020210   \n",
       "59 -0.760529 -1.273129 -0.319591 -0.109253 -0.278299  0.558388 -0.327130   \n",
       "60 -0.760529 -0.609712 -0.271186 -0.125595 -0.371509  0.473277 -0.550739   \n",
       "\n",
       "          16        18        19  ...  15_three  15_twelve  15_two  17_2bbl  \\\n",
       "0  -0.924552 -1.423252 -0.100803  ...         0          0       0        1   \n",
       "1  -0.188459 -0.124876  0.825842  ...         0          0       0        0   \n",
       "2  -0.510500  1.058937 -1.864418  ...         0          0       0        1   \n",
       "3  -0.487497 -0.583126  0.407357  ...         0          0       0        0   \n",
       "4   0.777662 -0.124876 -0.220370  ...         0          0       0        0   \n",
       "..       ...       ...       ...  ...       ...        ...     ...      ...   \n",
       "56 -1.177584 -1.652377 -0.579071  ...         0          0       0        0   \n",
       "57 -0.878546 -1.423252 -0.100803  ...         0          0       0        1   \n",
       "58  0.938682 -0.277626  0.257898  ...         0          0       0        0   \n",
       "59 -0.510500  1.058937 -1.864418  ...         0          0       0        1   \n",
       "60 -0.234465 -0.048501  0.616600  ...         0          0       0        1   \n",
       "\n",
       "    17_4bbl  17_idi  17_mfi  17_mpfi  17_spdi  17_spfi  \n",
       "0         0       0       0        0        0        0  \n",
       "1         0       0       0        1        0        0  \n",
       "2         0       0       0        0        0        0  \n",
       "3         0       0       0        1        0        0  \n",
       "4         0       0       0        1        0        0  \n",
       "..      ...     ...     ...      ...      ...      ...  \n",
       "56        0       0       0        0        0        0  \n",
       "57        0       0       0        0        0        0  \n",
       "58        0       0       0        1        0        0  \n",
       "59        0       0       0        0        0        0  \n",
       "60        0       0       0        0        0        0  \n",
       "\n",
       "[201 rows x 64 columns]"
      ]
     },
     "execution_count": 53,
     "metadata": {},
     "output_type": "execute_result"
    }
   ],
   "source": [
    "X = pd.get_dummies(X_final, drop_first=True)\n",
    "print(X.shape)\n",
    "X"
   ]
  },
  {
   "cell_type": "code",
   "execution_count": 54,
   "metadata": {
    "id": "A9PVJy57G4lQ"
   },
   "outputs": [],
   "source": [
    "X_train = X[0:140]\n",
    "X_test = X[140:201]"
   ]
  },
  {
   "cell_type": "markdown",
   "metadata": {
    "id": "Qm7c7zIzBp0u"
   },
   "source": [
    "**Задание 2.3 (5/8 балла):** Обучите написанную вами линейную регрессию на обучающей выборке"
   ]
  },
  {
   "cell_type": "code",
   "execution_count": 55,
   "metadata": {
    "id": "lzjAlpliBp0u"
   },
   "outputs": [],
   "source": [
    "lr = linear_regression.fit(X_train,y_train)"
   ]
  },
  {
   "cell_type": "markdown",
   "metadata": {
    "id": "rr1bF2_bBp0u"
   },
   "source": [
    "**Задание 2.4 (5/8 балла):** Посчитайте ошибку обученной регрессии на обучающей и тестовой выборке при помощи метода `mean_squared_error` из `sklearn.metrics`."
   ]
  },
  {
   "cell_type": "code",
   "execution_count": 56,
   "metadata": {
    "colab": {
     "base_uri": "https://localhost:8080/"
    },
    "id": "L2KjQjxvBp0v",
    "outputId": "0970838c-3dfd-451b-f9b6-0bdfcc63b62a"
   },
   "outputs": [
    {
     "name": "stdout",
     "output_type": "stream",
     "text": [
      "Train: 11143641.466141472\n",
      "Test: 8989202.721722461\n"
     ]
    }
   ],
   "source": [
    "from sklearn.metrics import mean_squared_error\n",
    "\n",
    "print (\"Train: {}\".format(mean_squared_error(y_train, lr.predict(X_train))))\n",
    "print (\"Test: {}\".format(mean_squared_error(y_test, lr.predict(X_test))))"
   ]
  },
  {
   "cell_type": "markdown",
   "metadata": {
    "id": "SS5Oh4YoBp0v"
   },
   "source": [
    "Наша модель переобучилась. Давайте как обычно в такой ситуации добавим к ней L2 регуляризацию. Для этого нам нужно написать новый класс лосса.\n",
    "\n",
    "Формула функции потерь для MSE с L2 регуляризацией выглядит так:\n",
    "$$\n",
    "Q(w, X, y) = \\frac{1}{\\ell} \\sum\\limits_{i=1}^\\ell (\\langle x_i, w \\rangle - y_i)^2 + \\lambda ||w||^2\n",
    "$$\n",
    "\n",
    "Или в матричном виде:\n",
    "\n",
    "$$\n",
    "Q(w, X, y) = \\frac{1}{\\ell} || Xw - y ||^2 + \\lambda ||w||^2\n",
    "$$\n",
    "\n",
    "Где $\\lambda$ — коэффициент регуляризации\n",
    "\n",
    "Градиент выглядит так:\n",
    "\n",
    "$$\n",
    "\\nabla_w Q(w, X, y) = \\frac{2}{\\ell} X^T(Xw-y) + 2 \\lambda w\n",
    "$$"
   ]
  },
  {
   "cell_type": "markdown",
   "metadata": {
    "id": "Vogzj2W0Bp0v"
   },
   "source": [
    "**Задание 2.5 (5/8 балла):** Реализуйте класс `MSEL2Loss`\n",
    "\n",
    "Он должен вычислять лосс и градиент по формулам наверху\n",
    "\n",
    "Подсказка: обратите внимание, что последний элемент вектора `w` — это bias (в классе `LinearRegression` к матрице `X` добавляется колонка из единиц — константный признак). Как мы знаем из лекций и семинаров, bias регуляризовать не нужно. Поэтому не забудьте убрать последний элемент из `w` при подсчёте слагаемого $\\lambda||w||^2$ в `calc_loss` и занулить его при подсчёте слагаемого $2 \\lambda w$ в `calc_grad`"
   ]
  },
  {
   "cell_type": "code",
   "execution_count": 57,
   "metadata": {
    "id": "VkodhzJZtI3q"
   },
   "outputs": [],
   "source": [
    "from scipy.linalg import norm"
   ]
  },
  {
   "cell_type": "code",
   "execution_count": 58,
   "metadata": {
    "id": "58FvnEjHBp0v"
   },
   "outputs": [],
   "source": [
    "class MSEL2Loss(BaseLoss):\n",
    "    def __init__(self, coef: float = 1.):\n",
    "        \"\"\"\n",
    "        :param coef: коэффициент регуляризации (лямбда в формуле)\n",
    "        \"\"\"\n",
    "        self.coef = coef\n",
    "    \n",
    "    def calc_loss(self, X: np.ndarray, y: np.ndarray, w: np.ndarray) -> float:\n",
    "        \"\"\"\n",
    "        Функция для вычислений значения лосса\n",
    "        :param X: np.ndarray размера (n_objects, n_features) с объектами датасета. Последний признак константный.\n",
    "        :param y: np.ndarray размера (n_objects,) с правильными ответами\n",
    "        :param w: np.ndarray размера (n_features,) с весами линейной регрессии. Последний вес -- bias.\n",
    "        :output: число -- значения функции потерь\n",
    "        \"\"\"\n",
    "        # -- YOUR CODE HERE --\n",
    "\n",
    "        return np.square(X.dot(w) - y).mean() + self.coef * (norm(w[:-1])**2)\n",
    "        \n",
    "    def calc_grad(self, X: np.ndarray, y: np.ndarray, w: np.ndarray) -> np.ndarray:\n",
    "        \"\"\"\n",
    "        Функция для вычислений градиента лосса по весам w\n",
    "        :param X: np.ndarray размера (n_objects, n_features) с объектами датасета\n",
    "        :param y: np.ndarray размера (n_objects,) с правильными ответами\n",
    "        :param w: np.ndarray размера (n_features,) с весами линейной регрессии\n",
    "        :output: np.ndarray размера (n_features,) градиент функции потерь по весам w\n",
    "        \"\"\"\n",
    "        # -- YOUR CODE HERE --\n",
    "        w_new = w[:-1]\n",
    "\n",
    "        w_new = np.append(w_new, np.array([0]))\n",
    "        \n",
    "        return 2 * np.dot(X.T, np.dot(X, w) - y) / X.shape[0] + 2 * self.coef * w_new"
   ]
  },
  {
   "cell_type": "markdown",
   "metadata": {
    "id": "lTl1XQP5Bp0v"
   },
   "source": [
    "Теперь мы можем использовать лосс с l2 регуляризацией в нашей регрессии, например, так:"
   ]
  },
  {
   "cell_type": "code",
   "execution_count": 59,
   "metadata": {
    "id": "eMJvalPX8Edg"
   },
   "outputs": [],
   "source": [
    "from sklearn.metrics import mean_squared_error"
   ]
  },
  {
   "cell_type": "code",
   "execution_count": 712,
   "metadata": {
    "colab": {
     "base_uri": "https://localhost:8080/"
    },
    "id": "gXrdT7PP69UQ",
    "outputId": "65499221-8a3e-4cb3-f39e-3e2956c625f6"
   },
   "outputs": [
    {
     "data": {
      "text/plain": [
       "0.19"
      ]
     },
     "execution_count": 712,
     "metadata": {},
     "output_type": "execute_result"
    }
   ],
   "source": [
    "errors = []\n",
    "a = np.linspace(0.01, 100, 10000)\n",
    "for i in a:\n",
    "  linear_regression_2 = LinearRegression(MSEL2Loss(i))\n",
    "  lr_2 = linear_regression_2.fit(X_train,y_train)\n",
    "  errors.append(mean_squared_error(y_test, lr_2.predict(X_test)))\n",
    "a[errors.index(min(errors))]"
   ]
  },
  {
   "cell_type": "code",
   "execution_count": 60,
   "metadata": {
    "id": "QanspiddBp0v"
   },
   "outputs": [],
   "source": [
    "linear_regression_2 = LinearRegression(MSEL2Loss(0.19))"
   ]
  },
  {
   "cell_type": "markdown",
   "metadata": {
    "id": "VwmC8B0OBp0w"
   },
   "source": [
    "**Задание 2.6 (5/8 балла):** Обучите регрессию с лоссом `MSEL2Loss`. Подберите хороший коэффициент регуляризации и добейтесь улучшения результата на тестовой выборке. Сравните результат на обучающей и тестовой выборке с регрессией без регуляризации. "
   ]
  },
  {
   "cell_type": "code",
   "execution_count": 61,
   "metadata": {
    "id": "9FId8tKOBp0w"
   },
   "outputs": [],
   "source": [
    "lr_2 = linear_regression_2.fit(X_train,y_train)"
   ]
  },
  {
   "cell_type": "code",
   "execution_count": 62,
   "metadata": {
    "colab": {
     "base_uri": "https://localhost:8080/"
    },
    "id": "EmSSRn0Vwi8N",
    "outputId": "25fa3e04-1fd3-4ae4-cdc4-3f78367f7b18"
   },
   "outputs": [
    {
     "name": "stdout",
     "output_type": "stream",
     "text": [
      "Train: 12304425.438154973\n",
      "Test: 8836115.430773808\n"
     ]
    }
   ],
   "source": [
    "from sklearn.metrics import mean_squared_error\n",
    "\n",
    "print (\"Train: {}\".format(mean_squared_error(y_train, lr_2.predict(X_train))))\n",
    "print (\"Test: {}\".format(mean_squared_error(y_test, lr_2.predict(X_test))))"
   ]
  },
  {
   "cell_type": "markdown",
   "metadata": {
    "id": "nASMG7nFWeab"
   },
   "source": [
    "В регрессии c регуляризацией ошибка на трейне выше, а на тесте -  меньше: в действительности, такое возможно, так как модель с регуляризацией штрафует за большие веса сильнее, предотвращая переобучение.\n",
    "\n"
   ]
  },
  {
   "cell_type": "markdown",
   "metadata": {
    "id": "e3GSc1JvBp0w"
   },
   "source": [
    "В нашем датасете могут быть выбросы. На семинаре вам рассказывали, что с выбросами хорошо помогает бороться Huber Loss. Вдали от нуля он работает как Mean Absolute Error и не реагирует на выбросы так сильно, как MSE. Давайте его реализуем и применим в нашей регрессии.\n",
    "\n",
    "Напомним, что функция потерь Huber Loss'а  выглядит так:\n",
    "\n",
    "\n",
    "$$\n",
    "    Q(w, X, y) = \\frac{1}{\\ell} \\sum\\limits_{i=1}^\\ell \\phi_\\varepsilon (\\langle x_i, w \\rangle - y_i)\n",
    "$$\n",
    "$$\n",
    "    \\phi_\\varepsilon(z) = \\begin{cases} \\frac 1 2 z^2, - \\varepsilon < z < \\varepsilon, \\\\\\varepsilon (|z| - \\frac 1 2 \\varepsilon), иначе \\\\ \\end{cases}\n",
    "$$\n",
    "\n",
    "\n",
    "А градиент так:\n",
    "$$\n",
    "    \\nabla_w Q(w, X, y) = \\frac{1}{\\ell} \\sum\\limits_{i=1}^\\ell x_i \\nabla_z \\phi_\\varepsilon (\\langle x_i, w \\rangle - y_i)\n",
    "$$\n",
    "$$\n",
    "    \\nabla_z \\phi_\\varepsilon(z) = \\begin{cases} z, - \\varepsilon < z < \\varepsilon, \\\\\\varepsilon \\text{ sign}(z), иначе \\\\ \\end{cases}\n",
    "$$"
   ]
  },
  {
   "cell_type": "markdown",
   "metadata": {
    "id": "B-y7M1qIBp0w"
   },
   "source": [
    "**Задание 2.7 (5/8 балла):** Реализуйте класс `HuberLoss`\n",
    "\n",
    "Он должен вычислять лосс и градиент по формулам наверху"
   ]
  },
  {
   "cell_type": "code",
   "execution_count": 63,
   "metadata": {
    "id": "LqXGo9OLBp0w"
   },
   "outputs": [],
   "source": [
    "class HuberLoss(BaseLoss):\n",
    "    def __init__(self, eps: float) -> None:\n",
    "        \"\"\"\n",
    "        :param eps: параметр huber loss из формулы\n",
    "        \"\"\"\n",
    "        self.eps = eps\n",
    "    \n",
    "    def calc_loss(self, X: np.ndarray, y: np.ndarray, w: np.ndarray) -> float:\n",
    "        \"\"\"\n",
    "        Функция для вычислений значения лосса\n",
    "        :param X: np.ndarray размера (n_objects, n_features) с объектами датасета\n",
    "        :param y: np.ndarray размера (n_objects,) с правильными ответами\n",
    "        :param w: np.ndarray размера (n_features,) с весами линейной регрессии\n",
    "        :output: число -- значения функции потерь\n",
    "        \"\"\"\n",
    "        # -- YOUR CODE HERE --\n",
    "        error = np.dot(X, w) - y\n",
    "        mse = (error ** 2) / 2\n",
    "        mae = self.eps * (abs(error) - 0.5 * self.eps)\n",
    "        mask = np.abs(error) < self.eps\n",
    "        return np.mean(np.where(mask, mse, mae))\n",
    "        \n",
    "    def calc_grad(self, X: np.ndarray, y: np.ndarray, w: np.ndarray) -> np.ndarray:\n",
    "        \"\"\"\n",
    "        Функция для вычислений градиента лосса по весам w\n",
    "        :param X: np.ndarray размера (n_objects, n_features) с объектами датасета\n",
    "        :param y: np.ndarray размера (n_objects,) с правильными ответами\n",
    "        :param w: np.ndarray размера (n_features,) с весами линейной регрессии\n",
    "        :output: np.ndarray размера (n_features,) градиент функции потерь по весам w\n",
    "        \"\"\"\n",
    "        # -- YOUR CODE HERE --\n",
    "        error = np.dot(X, w) - y\n",
    "        f_1 = error\n",
    "        f_2 = self.eps * (error / np.abs(error))\n",
    "        mask_1 = np.abs(error) < self.eps\n",
    "        return np.dot(X.T, np.where(mask_1, f_1, f_2)) / X.shape[0]"
   ]
  },
  {
   "cell_type": "markdown",
   "metadata": {
    "id": "hyZkVwLWBp0w"
   },
   "source": [
    "**Задание 2.8 (5/8 балла):** Обучите регрессию с лоссом `HuberLoss`. Сравните результат на обучающей и тестовой выборке с регрессией, обученной c `MSELoss`."
   ]
  },
  {
   "cell_type": "code",
   "execution_count": null,
   "metadata": {
    "colab": {
     "base_uri": "https://localhost:8080/"
    },
    "id": "COEDqDs8VgRE",
    "outputId": "95f1a2b9-ec90-407b-963e-2bda0822072d"
   },
   "outputs": [
    {
     "data": {
      "text/plain": [
       "40604.654365436545"
      ]
     },
     "execution_count": 539,
     "metadata": {},
     "output_type": "execute_result"
    }
   ],
   "source": [
    "error = []\n",
    "a = np.linspace(1, 100000, 10000)\n",
    "for i in a:\n",
    "  linear_regression_3 = LinearRegression(HuberLoss(i))\n",
    "  lr_3 = linear_regression_3.fit(X_train,y_train)\n",
    "  error.append(mean_squared_error(y_test, lr_3.predict(X_test)))\n",
    "a[error.index(min(error))]"
   ]
  },
  {
   "cell_type": "code",
   "execution_count": 64,
   "metadata": {
    "id": "FVqEe6ucSrNu"
   },
   "outputs": [],
   "source": [
    "linear_regression_3 = LinearRegression(HuberLoss(40604.654365436545))"
   ]
  },
  {
   "cell_type": "code",
   "execution_count": 65,
   "metadata": {
    "id": "GTgbAsL0EmJY"
   },
   "outputs": [],
   "source": [
    "lr_3 = linear_regression_3.fit(X_train,y_train)"
   ]
  },
  {
   "cell_type": "code",
   "execution_count": 66,
   "metadata": {
    "colab": {
     "base_uri": "https://localhost:8080/"
    },
    "id": "W5zHEUNgBsVb",
    "outputId": "aa33d9e9-7454-4694-fc75-efc895120f8c"
   },
   "outputs": [
    {
     "name": "stdout",
     "output_type": "stream",
     "text": [
      "Train: 15140367.749956049\n",
      "Test: 10489151.069955682\n"
     ]
    }
   ],
   "source": [
    "from sklearn.metrics import mean_squared_error\n",
    "\n",
    "print (\"Train: {}\".format(mean_squared_error(y_train, lr_3.predict(X_train))))\n",
    "print (\"Test: {}\".format(mean_squared_error(y_test, lr_3.predict(X_test))))"
   ]
  },
  {
   "cell_type": "markdown",
   "metadata": {
    "id": "yX_m9C3cX1Lu"
   },
   "source": [
    "Ошибка и на трейне, и на тесте  увеличилась: возможно, это связано с тем, что Хубер Лосс меньше штрафует за большие выбросы.\n",
    "\n",
    "\n",
    "\n"
   ]
  },
  {
   "cell_type": "markdown",
   "metadata": {
    "id": "MdIqCkSEBp0w"
   },
   "source": [
    "**Задание 3 (0.08/8 балла)**\n",
    "Вставьте ваш любимый мем 2021 в ячейку ниже:"
   ]
  },
  {
   "cell_type": "code",
   "execution_count": null,
   "metadata": {
    "id": "numfffXPBp0x"
   },
   "outputs": [],
   "source": [
    "# -- YOUR MEME HERE --\n",
    "# выбрать любимый мем за год - непосильная задача, зато прикрепляю ссылочку на Соколова с лекции, показывающего козу: https://drive.google.com/file/d/1qYxwNd1MOCFvIM0186Dt-IKMlecqOjDP/view?usp=sharing"
   ]
  },
  {
   "cell_type": "markdown",
   "metadata": {
    "id": "l5cGx9vyBp0x"
   },
   "source": [
    "### БОНУС (2.5 баллов)"
   ]
  },
  {
   "cell_type": "markdown",
   "metadata": {
    "id": "YzpUzkPABp0x"
   },
   "source": [
    "Градиентный спуск — далеко не единственный метод оптимизации. \n",
    "Другой очень известный метод называется [\"Алгоритм имитации отжига\"](https://ru.wikipedia.org/wiki/%D0%90%D0%BB%D0%B3%D0%BE%D1%80%D0%B8%D1%82%D0%BC_%D0%B8%D0%BC%D0%B8%D1%82%D0%B0%D1%86%D0%B8%D0%B8_%D0%BE%D1%82%D0%B6%D0%B8%D0%B3%D0%B0). Он не так часто используется для оптимизации моделей машинного обучения, но у вас есть уникальная возможность попробовать применить его к нашей любимой линейной регрессии."
   ]
  },
  {
   "cell_type": "markdown",
   "metadata": {
    "id": "k7Mr6bQLBp0x"
   },
   "source": [
    "**Задание (2.5 баллов)**:\n",
    "Напишите алгоритм имитации отжига для оптимизации MSE линейной регрессии. \n",
    "\n",
    "Сравните результат с градиентным спуском по \"траектории\" и по финальному лоссу.\n",
    "\n",
    "Подсказка: каждую новую точку (веса регресси в нашем случае) можно семплировать из некоторого случайного распределением с центром в текущей точке. Хорошо подойдут распределения с \"тяжёлыми\" хвостами, например, распределение Стьюдента с параметром количества степеней свободы в районе 3.\n",
    "Это может выглядеть, например, так:\n",
    "```\n",
    "new_w = old_w + np.random.standard_t(3, size=old_w.shape)\n",
    "```\n",
    "С параметром распределения можно поэксперементировать: чем он больше, тем реже новые точки будут очень сильно уходить от старых."
   ]
  },
  {
   "cell_type": "code",
   "execution_count": 67,
   "metadata": {
    "id": "0xuSuYPzBp0x"
   },
   "outputs": [],
   "source": [
    "# тут я просто занимаюсь чем-то, непонятно чем \n",
    "def zhgy(w_init: np.ndarray, X: np.ndarray, y: np.ndarray, \n",
    "                        loss: BaseLoss, lr: float, n_iterations: int = 1000) -> List[np.ndarray]:\n",
    "    \"\"\"\n",
    "    Функция градиентного спуска\n",
    "    :param w_init: np.ndarray размера (n_feratures,) -- начальное значение вектора весов\n",
    "    :param X: np.ndarray размера (n_objects, n_features) -- матрица объекты-признаки\n",
    "    :param y: np.ndarray размера (n_objects,) -- вектор правильных ответов\n",
    "    :param loss: Объект подкласса BaseLoss, который умеет считать градиенты при помощи loss.calc_grad(X, y, w)\n",
    "    :param lr: float -- параметр величины шага, на который нужно домножать градиент\n",
    "    :param batch_size: int -- размер подвыборки, которую нужно семплировать на каждом шаге\n",
    "    :param p: float -- значение степени в формуле затухания длины шага\n",
    "    :param n_iterations: int -- сколько итераций делать\n",
    "    :return: Список из n_iterations объектов np.ndarray размера (n_features,) -- история весов на каждом шаге\n",
    "    \"\"\"\n",
    "    w = w_init.copy()\n",
    "    w_list = [w.copy()]\n",
    "    for i in range(n_iterations):\n",
    "      w += np.random.standard_t(3, size=w.shape)\n",
    "      w_list.append(w.copy())\n",
    "    return w_list"
   ]
  },
  {
   "cell_type": "code",
   "execution_count": 68,
   "metadata": {
    "id": "cHfReEjSAeZ2"
   },
   "outputs": [],
   "source": [
    "class LinearRegression:\n",
    "    def __init__(self, loss: BaseLoss, lr: float = 0.1) -> None:\n",
    "        self.loss = loss\n",
    "        self.lr = lr\n",
    "    \n",
    "    def fit(self, X: np.ndarray, y: np.ndarray) -> 'LinearRegression':\n",
    "        X = np.asarray(X)\n",
    "        y = np.asarray(y)\n",
    "        # Добавляем столбец из единиц для константного признака\n",
    "        X = np.hstack([X, np.ones([X.shape[0], 1])])\n",
    "        \n",
    "        weights = np.arange(X.shape[1])\n",
    "        self.w = gradient_descent(weights, X, y, self.loss, 0.01, 1000)\n",
    "\n",
    "        return self\n",
    "    \n",
    "    def predict(self, X: np.ndarray) -> np.ndarray:\n",
    "        # Проверяем, что регрессия обучена, то есть, что был вызван fit и в нём был установлен атрибут self.w\n",
    "        assert hasattr(self, \"w\"), \"Linear regression must be fitted first\"\n",
    "        # Добавляем столбец из единиц для константного признака\n",
    "        X = np.hstack([X, np.ones([X.shape[0], 1])])\n",
    "        self.y_predict = np.dot(X, self.w[-1])\n",
    "        return self.y_predict\n"
   ]
  },
  {
   "cell_type": "code",
   "execution_count": 69,
   "metadata": {
    "id": "2cpIxSobA7e0"
   },
   "outputs": [],
   "source": [
    "linear_regression_4 = LinearRegression(MSELoss())"
   ]
  },
  {
   "cell_type": "code",
   "execution_count": 70,
   "metadata": {
    "id": "fdbDzCrABCw2"
   },
   "outputs": [],
   "source": [
    "lr_4 = linear_regression_4.fit(X_train_scaled,y_train)"
   ]
  },
  {
   "cell_type": "code",
   "execution_count": 71,
   "metadata": {
    "colab": {
     "base_uri": "https://localhost:8080/"
    },
    "id": "r0HrGEVsBKlx",
    "outputId": "85972c12-ca56-40af-c79a-39b34a6b1a0f"
   },
   "outputs": [
    {
     "name": "stdout",
     "output_type": "stream",
     "text": [
      "Train: 11095854.587065898\n",
      "Test: 6726913.82988905\n"
     ]
    }
   ],
   "source": [
    "from sklearn.metrics import mean_squared_error\n",
    "\n",
    "print (\"Train: {}\".format(mean_squared_error(y_train, lr_4.predict(X_train_scaled))))\n",
    "print (\"Test: {}\".format(mean_squared_error(y_test, lr_4.predict(X_test_scaled))))"
   ]
  },
  {
   "cell_type": "code",
   "execution_count": 72,
   "metadata": {
    "id": "e66zAXXwBijV"
   },
   "outputs": [],
   "source": [
    "linear_regression_5 = LinearRegression(MSEL2Loss(0.01))"
   ]
  },
  {
   "cell_type": "code",
   "execution_count": 73,
   "metadata": {
    "id": "Esk6GfJiBnt-"
   },
   "outputs": [],
   "source": [
    "lr_5 = linear_regression_5.fit(X_train_scaled,y_train)"
   ]
  },
  {
   "cell_type": "code",
   "execution_count": 74,
   "metadata": {
    "colab": {
     "base_uri": "https://localhost:8080/"
    },
    "id": "6fNZ7lHDBrTb",
    "outputId": "72c083ee-3f8a-49ac-a176-c1f1e635c174"
   },
   "outputs": [
    {
     "name": "stdout",
     "output_type": "stream",
     "text": [
      "Train: 11119298.860425357\n",
      "Test: 6757845.139305514\n"
     ]
    }
   ],
   "source": [
    "from sklearn.metrics import mean_squared_error\n",
    "\n",
    "print (\"Train: {}\".format(mean_squared_error(y_train, lr_5.predict(X_train_scaled))))\n",
    "print (\"Test: {}\".format(mean_squared_error(y_test, lr_5.predict(X_test_scaled))))"
   ]
  },
  {
   "cell_type": "markdown",
   "metadata": {
    "id": "EOT5tBKqRiCk"
   },
   "source": [
    "Ошибки на теста в алгоритме отжига меньше, чем при градиентом спуске."
   ]
  }
 ],
 "metadata": {
  "colab": {
   "collapsed_sections": [],
   "name": "hw05_Simonova.ipynb",
   "provenance": []
  },
  "kernelspec": {
   "display_name": "Python 3 (ipykernel)",
   "language": "python",
   "name": "python3"
  },
  "language_info": {
   "codemirror_mode": {
    "name": "ipython",
    "version": 3
   },
   "file_extension": ".py",
   "mimetype": "text/x-python",
   "name": "python",
   "nbconvert_exporter": "python",
   "pygments_lexer": "ipython3",
   "version": "3.10.3"
  }
 },
 "nbformat": 4,
 "nbformat_minor": 1
}
