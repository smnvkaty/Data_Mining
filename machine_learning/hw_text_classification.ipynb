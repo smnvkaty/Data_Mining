{
  "cells": [
    {
      "cell_type": "markdown",
      "metadata": {
        "id": "_7uDCkBi5O3e"
      },
      "source": [
        "# Домашнее задание 6: классификация текстов"
      ]
    },
    {
      "cell_type": "markdown",
      "metadata": {
        "id": "tNBgShwJ5O3h"
      },
      "source": [
        "В этом домашнем задании вам предстоит построить классификатор текстов!\n",
        "\n",
        "Данные мы будем использовать из Kaggle соревнования: https://www.kaggle.com/competitions/nlp-getting-started/data Оттуда надо скачать файл train.csv. На обучающую и тестовую выборки его поделим кодом ниже, менять его не надо!"
      ]
    },
    {
      "cell_type": "markdown",
      "metadata": {
        "id": "uqNEQOSz5O3j"
      },
      "source": [
        "Мы будем работать с датасетом постов из твиттера. Нам предстоит решать задачу бинарной классификации - определять содержатся ли в твитте информация о настоящей катастрофе/инциденте или нет."
      ]
    },
    {
      "cell_type": "code",
      "execution_count": 1,
      "metadata": {
        "id": "IhVQCME95O3k"
      },
      "outputs": [],
      "source": [
        "import pandas as pd"
      ]
    },
    {
      "cell_type": "code",
      "source": [
        "!wget https://raw.githubusercontent.com/smnvkaty/hw06/main/train.csv"
      ],
      "metadata": {
        "colab": {
          "base_uri": "https://localhost:8080/"
        },
        "id": "rrtQBWmA6M-V",
        "outputId": "f9f52975-55f3-40e3-ac51-74314dba94d2"
      },
      "execution_count": 2,
      "outputs": [
        {
          "output_type": "stream",
          "name": "stdout",
          "text": [
            "--2022-05-11 16:52:12--  https://raw.githubusercontent.com/smnvkaty/hw06/main/train.csv\n",
            "Resolving raw.githubusercontent.com (raw.githubusercontent.com)... 185.199.108.133, 185.199.109.133, 185.199.110.133, ...\n",
            "Connecting to raw.githubusercontent.com (raw.githubusercontent.com)|185.199.108.133|:443... connected.\n",
            "HTTP request sent, awaiting response... 200 OK\n",
            "Length: 987712 (965K) [text/plain]\n",
            "Saving to: ‘train.csv’\n",
            "\n",
            "\rtrain.csv             0%[                    ]       0  --.-KB/s               \rtrain.csv           100%[===================>] 964.56K  --.-KB/s    in 0.008s  \n",
            "\n",
            "2022-05-11 16:52:12 (122 MB/s) - ‘train.csv’ saved [987712/987712]\n",
            "\n"
          ]
        }
      ]
    },
    {
      "cell_type": "code",
      "execution_count": 3,
      "metadata": {
        "id": "nWwB1yg25O3m"
      },
      "outputs": [],
      "source": [
        "data = pd.read_csv('train.csv')"
      ]
    },
    {
      "cell_type": "code",
      "execution_count": 4,
      "metadata": {
        "colab": {
          "base_uri": "https://localhost:8080/",
          "height": 221
        },
        "id": "yL-BEckC5O3m",
        "outputId": "8a0da94a-2557-411e-a47e-76e665149a99"
      },
      "outputs": [
        {
          "output_type": "execute_result",
          "data": {
            "text/plain": [
              "   id keyword location                                               text  \\\n",
              "0   1     NaN      NaN  Our Deeds are the Reason of this #earthquake M...   \n",
              "1   4     NaN      NaN             Forest fire near La Ronge Sask. Canada   \n",
              "2   5     NaN      NaN  All residents asked to 'shelter in place' are ...   \n",
              "3   6     NaN      NaN  13,000 people receive #wildfires evacuation or...   \n",
              "4   7     NaN      NaN  Just got sent this photo from Ruby #Alaska as ...   \n",
              "\n",
              "   target  \n",
              "0       1  \n",
              "1       1  \n",
              "2       1  \n",
              "3       1  \n",
              "4       1  "
            ],
            "text/html": [
              "\n",
              "  <div id=\"df-0f126dce-7e9a-4647-aaec-d71ac566cbb1\">\n",
              "    <div class=\"colab-df-container\">\n",
              "      <div>\n",
              "<style scoped>\n",
              "    .dataframe tbody tr th:only-of-type {\n",
              "        vertical-align: middle;\n",
              "    }\n",
              "\n",
              "    .dataframe tbody tr th {\n",
              "        vertical-align: top;\n",
              "    }\n",
              "\n",
              "    .dataframe thead th {\n",
              "        text-align: right;\n",
              "    }\n",
              "</style>\n",
              "<table border=\"1\" class=\"dataframe\">\n",
              "  <thead>\n",
              "    <tr style=\"text-align: right;\">\n",
              "      <th></th>\n",
              "      <th>id</th>\n",
              "      <th>keyword</th>\n",
              "      <th>location</th>\n",
              "      <th>text</th>\n",
              "      <th>target</th>\n",
              "    </tr>\n",
              "  </thead>\n",
              "  <tbody>\n",
              "    <tr>\n",
              "      <th>0</th>\n",
              "      <td>1</td>\n",
              "      <td>NaN</td>\n",
              "      <td>NaN</td>\n",
              "      <td>Our Deeds are the Reason of this #earthquake M...</td>\n",
              "      <td>1</td>\n",
              "    </tr>\n",
              "    <tr>\n",
              "      <th>1</th>\n",
              "      <td>4</td>\n",
              "      <td>NaN</td>\n",
              "      <td>NaN</td>\n",
              "      <td>Forest fire near La Ronge Sask. Canada</td>\n",
              "      <td>1</td>\n",
              "    </tr>\n",
              "    <tr>\n",
              "      <th>2</th>\n",
              "      <td>5</td>\n",
              "      <td>NaN</td>\n",
              "      <td>NaN</td>\n",
              "      <td>All residents asked to 'shelter in place' are ...</td>\n",
              "      <td>1</td>\n",
              "    </tr>\n",
              "    <tr>\n",
              "      <th>3</th>\n",
              "      <td>6</td>\n",
              "      <td>NaN</td>\n",
              "      <td>NaN</td>\n",
              "      <td>13,000 people receive #wildfires evacuation or...</td>\n",
              "      <td>1</td>\n",
              "    </tr>\n",
              "    <tr>\n",
              "      <th>4</th>\n",
              "      <td>7</td>\n",
              "      <td>NaN</td>\n",
              "      <td>NaN</td>\n",
              "      <td>Just got sent this photo from Ruby #Alaska as ...</td>\n",
              "      <td>1</td>\n",
              "    </tr>\n",
              "  </tbody>\n",
              "</table>\n",
              "</div>\n",
              "      <button class=\"colab-df-convert\" onclick=\"convertToInteractive('df-0f126dce-7e9a-4647-aaec-d71ac566cbb1')\"\n",
              "              title=\"Convert this dataframe to an interactive table.\"\n",
              "              style=\"display:none;\">\n",
              "        \n",
              "  <svg xmlns=\"http://www.w3.org/2000/svg\" height=\"24px\"viewBox=\"0 0 24 24\"\n",
              "       width=\"24px\">\n",
              "    <path d=\"M0 0h24v24H0V0z\" fill=\"none\"/>\n",
              "    <path d=\"M18.56 5.44l.94 2.06.94-2.06 2.06-.94-2.06-.94-.94-2.06-.94 2.06-2.06.94zm-11 1L8.5 8.5l.94-2.06 2.06-.94-2.06-.94L8.5 2.5l-.94 2.06-2.06.94zm10 10l.94 2.06.94-2.06 2.06-.94-2.06-.94-.94-2.06-.94 2.06-2.06.94z\"/><path d=\"M17.41 7.96l-1.37-1.37c-.4-.4-.92-.59-1.43-.59-.52 0-1.04.2-1.43.59L10.3 9.45l-7.72 7.72c-.78.78-.78 2.05 0 2.83L4 21.41c.39.39.9.59 1.41.59.51 0 1.02-.2 1.41-.59l7.78-7.78 2.81-2.81c.8-.78.8-2.07 0-2.86zM5.41 20L4 18.59l7.72-7.72 1.47 1.35L5.41 20z\"/>\n",
              "  </svg>\n",
              "      </button>\n",
              "      \n",
              "  <style>\n",
              "    .colab-df-container {\n",
              "      display:flex;\n",
              "      flex-wrap:wrap;\n",
              "      gap: 12px;\n",
              "    }\n",
              "\n",
              "    .colab-df-convert {\n",
              "      background-color: #E8F0FE;\n",
              "      border: none;\n",
              "      border-radius: 50%;\n",
              "      cursor: pointer;\n",
              "      display: none;\n",
              "      fill: #1967D2;\n",
              "      height: 32px;\n",
              "      padding: 0 0 0 0;\n",
              "      width: 32px;\n",
              "    }\n",
              "\n",
              "    .colab-df-convert:hover {\n",
              "      background-color: #E2EBFA;\n",
              "      box-shadow: 0px 1px 2px rgba(60, 64, 67, 0.3), 0px 1px 3px 1px rgba(60, 64, 67, 0.15);\n",
              "      fill: #174EA6;\n",
              "    }\n",
              "\n",
              "    [theme=dark] .colab-df-convert {\n",
              "      background-color: #3B4455;\n",
              "      fill: #D2E3FC;\n",
              "    }\n",
              "\n",
              "    [theme=dark] .colab-df-convert:hover {\n",
              "      background-color: #434B5C;\n",
              "      box-shadow: 0px 1px 3px 1px rgba(0, 0, 0, 0.15);\n",
              "      filter: drop-shadow(0px 1px 2px rgba(0, 0, 0, 0.3));\n",
              "      fill: #FFFFFF;\n",
              "    }\n",
              "  </style>\n",
              "\n",
              "      <script>\n",
              "        const buttonEl =\n",
              "          document.querySelector('#df-0f126dce-7e9a-4647-aaec-d71ac566cbb1 button.colab-df-convert');\n",
              "        buttonEl.style.display =\n",
              "          google.colab.kernel.accessAllowed ? 'block' : 'none';\n",
              "\n",
              "        async function convertToInteractive(key) {\n",
              "          const element = document.querySelector('#df-0f126dce-7e9a-4647-aaec-d71ac566cbb1');\n",
              "          const dataTable =\n",
              "            await google.colab.kernel.invokeFunction('convertToInteractive',\n",
              "                                                     [key], {});\n",
              "          if (!dataTable) return;\n",
              "\n",
              "          const docLinkHtml = 'Like what you see? Visit the ' +\n",
              "            '<a target=\"_blank\" href=https://colab.research.google.com/notebooks/data_table.ipynb>data table notebook</a>'\n",
              "            + ' to learn more about interactive tables.';\n",
              "          element.innerHTML = '';\n",
              "          dataTable['output_type'] = 'display_data';\n",
              "          await google.colab.output.renderOutput(dataTable, element);\n",
              "          const docLink = document.createElement('div');\n",
              "          docLink.innerHTML = docLinkHtml;\n",
              "          element.appendChild(docLink);\n",
              "        }\n",
              "      </script>\n",
              "    </div>\n",
              "  </div>\n",
              "  "
            ]
          },
          "metadata": {},
          "execution_count": 4
        }
      ],
      "source": [
        "data.head()"
      ]
    },
    {
      "cell_type": "code",
      "execution_count": 5,
      "metadata": {
        "id": "n7KWxHM65O3o"
      },
      "outputs": [],
      "source": [
        "from sklearn.model_selection import train_test_split\n",
        "\n",
        "train, test = train_test_split(data, test_size=0.3, random_state=42)"
      ]
    },
    {
      "cell_type": "markdown",
      "metadata": {
        "id": "8DbVmani5O3p"
      },
      "source": [
        "## Задание 1 (0.5 балла)\n",
        "\n",
        "Выведете на экран информацию о пропусках в данных. Если пропуски присутствуют заполните их пустой строкой."
      ]
    },
    {
      "cell_type": "code",
      "source": [
        "train.isnull().values.any().any()"
      ],
      "metadata": {
        "colab": {
          "base_uri": "https://localhost:8080/"
        },
        "id": "UCo3xbMl6Vl2",
        "outputId": "07e17802-b04e-47b6-c596-f73dfe897beb"
      },
      "execution_count": 6,
      "outputs": [
        {
          "output_type": "execute_result",
          "data": {
            "text/plain": [
              "True"
            ]
          },
          "metadata": {},
          "execution_count": 6
        }
      ]
    },
    {
      "cell_type": "code",
      "source": [
        "train.isnull().sum()"
      ],
      "metadata": {
        "colab": {
          "base_uri": "https://localhost:8080/"
        },
        "id": "x89UrIAu_9l-",
        "outputId": "98eee06b-6251-4c6d-9691-7f468ff19cb4"
      },
      "execution_count": 7,
      "outputs": [
        {
          "output_type": "execute_result",
          "data": {
            "text/plain": [
              "id             0\n",
              "keyword       44\n",
              "location    1760\n",
              "text           0\n",
              "target         0\n",
              "dtype: int64"
            ]
          },
          "metadata": {},
          "execution_count": 7
        }
      ]
    },
    {
      "cell_type": "code",
      "source": [
        "test.isnull().values.any().any()"
      ],
      "metadata": {
        "colab": {
          "base_uri": "https://localhost:8080/"
        },
        "id": "6jcvUwuH710g",
        "outputId": "1a5bb2ee-02d6-4f53-cc2e-ea34dcdbebd0"
      },
      "execution_count": 8,
      "outputs": [
        {
          "output_type": "execute_result",
          "data": {
            "text/plain": [
              "True"
            ]
          },
          "metadata": {},
          "execution_count": 8
        }
      ]
    },
    {
      "cell_type": "code",
      "source": [
        "test.isnull().sum()"
      ],
      "metadata": {
        "colab": {
          "base_uri": "https://localhost:8080/"
        },
        "id": "kvZiwj0EALc8",
        "outputId": "1a0b2801-df09-41eb-fa79-c0e3b2b20317"
      },
      "execution_count": 9,
      "outputs": [
        {
          "output_type": "execute_result",
          "data": {
            "text/plain": [
              "id            0\n",
              "keyword      17\n",
              "location    773\n",
              "text          0\n",
              "target        0\n",
              "dtype: int64"
            ]
          },
          "metadata": {},
          "execution_count": 9
        }
      ]
    },
    {
      "cell_type": "code",
      "source": [
        "from sklearn.impute import SimpleImputer"
      ],
      "metadata": {
        "id": "dbq2PoIj7LX3"
      },
      "execution_count": 10,
      "outputs": []
    },
    {
      "cell_type": "code",
      "source": [
        "train = train[train.columns].fillna(\"\")\n",
        "test = test[test.columns].fillna(\"\")"
      ],
      "metadata": {
        "id": "Hh7okV2l8f3x"
      },
      "execution_count": 11,
      "outputs": []
    },
    {
      "cell_type": "markdown",
      "metadata": {
        "id": "kyR69h-N5O3r"
      },
      "source": [
        "## Задание 2 (1 балл)\n",
        "Давайте немного посмотрим на наши данные. Визуализируйте (где явно просят) или выведете информацию о следующем:\n",
        "\n",
        "1. Какое распределение классов в обучающей выборке?\n",
        "2. Посмотрите на колонку \"keyword\" - возьмите 10 наиболее встречающихся значений, постройте ступенчатую диаграмму распределения классов в зависимости от значения keyword, сделайте выводы."
      ]
    },
    {
      "cell_type": "code",
      "source": [
        "train['target'].value_counts()"
      ],
      "metadata": {
        "colab": {
          "base_uri": "https://localhost:8080/"
        },
        "id": "ibI_i9UWaJ-z",
        "outputId": "4c2cbee4-ccb1-41a4-e854-894c8557802e"
      },
      "execution_count": 12,
      "outputs": [
        {
          "output_type": "execute_result",
          "data": {
            "text/plain": [
              "0    3024\n",
              "1    2305\n",
              "Name: target, dtype: int64"
            ]
          },
          "metadata": {},
          "execution_count": 12
        }
      ]
    },
    {
      "cell_type": "code",
      "source": [
        "from matplotlib import pyplot as plt\n",
        "import seaborn as sns"
      ],
      "metadata": {
        "id": "fZeagUaCnvMX"
      },
      "execution_count": 13,
      "outputs": []
    },
    {
      "cell_type": "code",
      "source": [
        "sns.set_theme(style=\"darkgrid\")\n",
        "ax = sns.countplot(x=\"target\", data=train)"
      ],
      "metadata": {
        "colab": {
          "base_uri": "https://localhost:8080/",
          "height": 306
        },
        "id": "N6sFwWHhnYyf",
        "outputId": "b6894618-3294-4533-fec6-059ae67dd765"
      },
      "execution_count": 14,
      "outputs": [
        {
          "output_type": "display_data",
          "data": {
            "text/plain": [
              "<Figure size 432x288 with 1 Axes>"
            ],
            "image/png": "[encoded data removed]"
          },
          "metadata": {}
        }
      ]
    },
    {
      "cell_type": "code",
      "source": [
        "print(f'Доля класса 0 в обучающей выборке: {round(train.target.value_counts()[0] / train.shape[0], 2)}')\n",
        "print(f'Доля класса 1 в обучающей выборке: {round(train.target.value_counts()[1] / train.shape[0], 2)}')\n",
        "print(\"Доля объектов 0 класса в обучающей выборке незначительно превышает долю объектов 1 класса.\")"
      ],
      "metadata": {
        "colab": {
          "base_uri": "https://localhost:8080/"
        },
        "id": "c8ZObMEvpO_J",
        "outputId": "88f84cc6-1526-41a7-f19e-f989aaf178eb"
      },
      "execution_count": 15,
      "outputs": [
        {
          "output_type": "stream",
          "name": "stdout",
          "text": [
            "Доля класса 0 в обучающей выборке: 0.57\n",
            "Доля класса 1 в обучающей выборке: 0.43\n",
            "Доля объектов 0 класса в обучающей выборке незначительно превышает долю объектов 1 класса.\n"
          ]
        }
      ]
    },
    {
      "cell_type": "code",
      "source": [
        "import numpy as np"
      ],
      "metadata": {
        "id": "KlSAzNWriAsu"
      },
      "execution_count": 16,
      "outputs": []
    },
    {
      "cell_type": "code",
      "source": [
        "data_1 = pd.value_counts(train['keyword']).head(10).rename_axis('keyword').reset_index(name='counts')\n",
        "data_1"
      ],
      "metadata": {
        "colab": {
          "base_uri": "https://localhost:8080/",
          "height": 374
        },
        "id": "IHqArvZtbDtB",
        "outputId": "7c4f0fda-3680-4ba7-9a81-a9121c2e5a44"
      },
      "execution_count": 17,
      "outputs": [
        {
          "output_type": "execute_result",
          "data": {
            "text/plain": [
              "      keyword  counts\n",
              "0                  44\n",
              "1      damage      36\n",
              "2       siren      35\n",
              "3    wreckage      34\n",
              "4  fatalities      33\n",
              "5      deluge      31\n",
              "6    refugees      30\n",
              "7      derail      30\n",
              "8        fear      30\n",
              "9     tsunami      30"
            ],
            "text/html": [
              "\n",
              "  <div id=\"df-7c8269ab-51d1-42b4-9403-722be7508288\">\n",
              "    <div class=\"colab-df-container\">\n",
              "      <div>\n",
              "<style scoped>\n",
              "    .dataframe tbody tr th:only-of-type {\n",
              "        vertical-align: middle;\n",
              "    }\n",
              "\n",
              "    .dataframe tbody tr th {\n",
              "        vertical-align: top;\n",
              "    }\n",
              "\n",
              "    .dataframe thead th {\n",
              "        text-align: right;\n",
              "    }\n",
              "</style>\n",
              "<table border=\"1\" class=\"dataframe\">\n",
              "  <thead>\n",
              "    <tr style=\"text-align: right;\">\n",
              "      <th></th>\n",
              "      <th>keyword</th>\n",
              "      <th>counts</th>\n",
              "    </tr>\n",
              "  </thead>\n",
              "  <tbody>\n",
              "    <tr>\n",
              "      <th>0</th>\n",
              "      <td></td>\n",
              "      <td>44</td>\n",
              "    </tr>\n",
              "    <tr>\n",
              "      <th>1</th>\n",
              "      <td>damage</td>\n",
              "      <td>36</td>\n",
              "    </tr>\n",
              "    <tr>\n",
              "      <th>2</th>\n",
              "      <td>siren</td>\n",
              "      <td>35</td>\n",
              "    </tr>\n",
              "    <tr>\n",
              "      <th>3</th>\n",
              "      <td>wreckage</td>\n",
              "      <td>34</td>\n",
              "    </tr>\n",
              "    <tr>\n",
              "      <th>4</th>\n",
              "      <td>fatalities</td>\n",
              "      <td>33</td>\n",
              "    </tr>\n",
              "    <tr>\n",
              "      <th>5</th>\n",
              "      <td>deluge</td>\n",
              "      <td>31</td>\n",
              "    </tr>\n",
              "    <tr>\n",
              "      <th>6</th>\n",
              "      <td>refugees</td>\n",
              "      <td>30</td>\n",
              "    </tr>\n",
              "    <tr>\n",
              "      <th>7</th>\n",
              "      <td>derail</td>\n",
              "      <td>30</td>\n",
              "    </tr>\n",
              "    <tr>\n",
              "      <th>8</th>\n",
              "      <td>fear</td>\n",
              "      <td>30</td>\n",
              "    </tr>\n",
              "    <tr>\n",
              "      <th>9</th>\n",
              "      <td>tsunami</td>\n",
              "      <td>30</td>\n",
              "    </tr>\n",
              "  </tbody>\n",
              "</table>\n",
              "</div>\n",
              "      <button class=\"colab-df-convert\" onclick=\"convertToInteractive('df-7c8269ab-51d1-42b4-9403-722be7508288')\"\n",
              "              title=\"Convert this dataframe to an interactive table.\"\n",
              "              style=\"display:none;\">\n",
              "        \n",
              "  <svg xmlns=\"http://www.w3.org/2000/svg\" height=\"24px\"viewBox=\"0 0 24 24\"\n",
              "       width=\"24px\">\n",
              "    <path d=\"M0 0h24v24H0V0z\" fill=\"none\"/>\n",
              "    <path d=\"M18.56 5.44l.94 2.06.94-2.06 2.06-.94-2.06-.94-.94-2.06-.94 2.06-2.06.94zm-11 1L8.5 8.5l.94-2.06 2.06-.94-2.06-.94L8.5 2.5l-.94 2.06-2.06.94zm10 10l.94 2.06.94-2.06 2.06-.94-2.06-.94-.94-2.06-.94 2.06-2.06.94z\"/><path d=\"M17.41 7.96l-1.37-1.37c-.4-.4-.92-.59-1.43-.59-.52 0-1.04.2-1.43.59L10.3 9.45l-7.72 7.72c-.78.78-.78 2.05 0 2.83L4 21.41c.39.39.9.59 1.41.59.51 0 1.02-.2 1.41-.59l7.78-7.78 2.81-2.81c.8-.78.8-2.07 0-2.86zM5.41 20L4 18.59l7.72-7.72 1.47 1.35L5.41 20z\"/>\n",
              "  </svg>\n",
              "      </button>\n",
              "      \n",
              "  <style>\n",
              "    .colab-df-container {\n",
              "      display:flex;\n",
              "      flex-wrap:wrap;\n",
              "      gap: 12px;\n",
              "    }\n",
              "\n",
              "    .colab-df-convert {\n",
              "      background-color: #E8F0FE;\n",
              "      border: none;\n",
              "      border-radius: 50%;\n",
              "      cursor: pointer;\n",
              "      display: none;\n",
              "      fill: #1967D2;\n",
              "      height: 32px;\n",
              "      padding: 0 0 0 0;\n",
              "      width: 32px;\n",
              "    }\n",
              "\n",
              "    .colab-df-convert:hover {\n",
              "      background-color: #E2EBFA;\n",
              "      box-shadow: 0px 1px 2px rgba(60, 64, 67, 0.3), 0px 1px 3px 1px rgba(60, 64, 67, 0.15);\n",
              "      fill: #174EA6;\n",
              "    }\n",
              "\n",
              "    [theme=dark] .colab-df-convert {\n",
              "      background-color: #3B4455;\n",
              "      fill: #D2E3FC;\n",
              "    }\n",
              "\n",
              "    [theme=dark] .colab-df-convert:hover {\n",
              "      background-color: #434B5C;\n",
              "      box-shadow: 0px 1px 3px 1px rgba(0, 0, 0, 0.15);\n",
              "      filter: drop-shadow(0px 1px 2px rgba(0, 0, 0, 0.3));\n",
              "      fill: #FFFFFF;\n",
              "    }\n",
              "  </style>\n",
              "\n",
              "      <script>\n",
              "        const buttonEl =\n",
              "          document.querySelector('#df-7c8269ab-51d1-42b4-9403-722be7508288 button.colab-df-convert');\n",
              "        buttonEl.style.display =\n",
              "          google.colab.kernel.accessAllowed ? 'block' : 'none';\n",
              "\n",
              "        async function convertToInteractive(key) {\n",
              "          const element = document.querySelector('#df-7c8269ab-51d1-42b4-9403-722be7508288');\n",
              "          const dataTable =\n",
              "            await google.colab.kernel.invokeFunction('convertToInteractive',\n",
              "                                                     [key], {});\n",
              "          if (!dataTable) return;\n",
              "\n",
              "          const docLinkHtml = 'Like what you see? Visit the ' +\n",
              "            '<a target=\"_blank\" href=https://colab.research.google.com/notebooks/data_table.ipynb>data table notebook</a>'\n",
              "            + ' to learn more about interactive tables.';\n",
              "          element.innerHTML = '';\n",
              "          dataTable['output_type'] = 'display_data';\n",
              "          await google.colab.output.renderOutput(dataTable, element);\n",
              "          const docLink = document.createElement('div');\n",
              "          docLink.innerHTML = docLinkHtml;\n",
              "          element.appendChild(docLink);\n",
              "        }\n",
              "      </script>\n",
              "    </div>\n",
              "  </div>\n",
              "  "
            ]
          },
          "metadata": {},
          "execution_count": 17
        }
      ]
    },
    {
      "cell_type": "code",
      "source": [
        "y = []\n",
        "for i in data_1['keyword'].tolist():\n",
        "  y.append(train[train['keyword'] == i]['target'].mean())"
      ],
      "metadata": {
        "id": "K3uLoCYUtcJt"
      },
      "execution_count": 18,
      "outputs": []
    },
    {
      "cell_type": "code",
      "source": [
        "import matplotlib.pyplot as plt"
      ],
      "metadata": {
        "id": "K9NysSI6w-MR"
      },
      "execution_count": 19,
      "outputs": []
    },
    {
      "cell_type": "code",
      "source": [
        "fig_dims = (10, 4)\n",
        "fig, ax = plt.subplots(figsize=fig_dims)\n",
        "x = data_1['keyword'].tolist()\n",
        "y = y\n",
        "\n",
        "plt.step(x, y)\n",
        "plt.xlabel('Значение keyword')\n",
        "plt.ylabel('Доля класса 1')\n",
        "plt.title('Распределение классов в зависимости от значения keyword')\n",
        "plt.show()"
      ],
      "metadata": {
        "colab": {
          "base_uri": "https://localhost:8080/",
          "height": 321
        },
        "id": "t1gYjcxVgydm",
        "outputId": "9ba684b0-ab86-4039-ecb9-a81ea56ba695"
      },
      "execution_count": 20,
      "outputs": [
        {
          "output_type": "display_data",
          "data": {
            "text/plain": [
              "<Figure size 720x288 with 1 Axes>"
            ],
            "image/png": "[encoded data removed]"
          },
          "metadata": {}
        }
      ]
    },
    {
      "cell_type": "markdown",
      "source": [
        "Вывод: \n",
        "- у keyword значений ' ', wreckage, refuges доля класса 1 (в твите содержится информация о настоящей катастрофе) превышает 0,5;\n",
        "- у keyword значений damage, siren, fatalities, deluge, fear, tsunami доля класса 1 (в твите содержится информация о настоящей катастрофе) меньше 0,5;\n",
        "- у keyword значения derail доля 1 класса (в твите содержится информация о настоящей катастрофе) ровно 0,5.\n",
        "\n"
      ],
      "metadata": {
        "id": "QiQr4IANxY6L"
      }
    },
    {
      "cell_type": "markdown",
      "metadata": {
        "id": "24JltUUp5O3s"
      },
      "source": [
        "## Задание 3 (0.5 балла) \n",
        "\n",
        "В этом задании предлагается объединить все три текстовых столбца в один (просто сконкатенировать cтроки) и убрать столбец с индексом."
      ]
    },
    {
      "cell_type": "code",
      "source": [
        "y_train = train['target']\n",
        "train['main'] = train[train.columns[1:4]].apply(lambda x: ' '.join(x.dropna()), axis=1)\n",
        "train = train.drop(['id', 'keyword', 'location', 'text', 'target'], axis=1)\n",
        "train"
      ],
      "metadata": {
        "colab": {
          "base_uri": "https://localhost:8080/",
          "height": 433
        },
        "id": "iUnOfli4k_5I",
        "outputId": "cc68f4d4-3962-4948-ae2e-688d04d4650f"
      },
      "execution_count": 21,
      "outputs": [
        {
          "output_type": "execute_result",
          "data": {
            "text/plain": [
              "                                                   main\n",
              "1186  bridge%20collapse  Ashes 2015: AustraliaÛªs c...\n",
              "4071  hail Carol Stream, Illinois GREAT MICHIGAN TEC...\n",
              "5461  police Houston  CNN: Tennessee movie theater s...\n",
              "5787  rioting  Still rioting in a couple of hours le...\n",
              "7445  wounds Lake Highlands Crack in the path where ...\n",
              "...                                                 ...\n",
              "5226  obliteration Merica! @Eganator2000 There aren'...\n",
              "5390  panic  just had a panic attack bc I don't have...\n",
              "860   blood  Omron HEM-712C Automatic Blood Pressure...\n",
              "7603    Officials say a quarantine is in place at an...\n",
              "7270  whirlwind Stamford & Cork (& Shropshire) I mov...\n",
              "\n",
              "[5329 rows x 1 columns]"
            ],
            "text/html": [
              "\n",
              "  <div id=\"df-9a3d1e38-3472-4aee-84f5-ba3a9e42715a\">\n",
              "    <div class=\"colab-df-container\">\n",
              "      <div>\n",
              "<style scoped>\n",
              "    .dataframe tbody tr th:only-of-type {\n",
              "        vertical-align: middle;\n",
              "    }\n",
              "\n",
              "    .dataframe tbody tr th {\n",
              "        vertical-align: top;\n",
              "    }\n",
              "\n",
              "    .dataframe thead th {\n",
              "        text-align: right;\n",
              "    }\n",
              "</style>\n",
              "<table border=\"1\" class=\"dataframe\">\n",
              "  <thead>\n",
              "    <tr style=\"text-align: right;\">\n",
              "      <th></th>\n",
              "      <th>main</th>\n",
              "    </tr>\n",
              "  </thead>\n",
              "  <tbody>\n",
              "    <tr>\n",
              "      <th>1186</th>\n",
              "      <td>bridge%20collapse  Ashes 2015: AustraliaÛªs c...</td>\n",
              "    </tr>\n",
              "    <tr>\n",
              "      <th>4071</th>\n",
              "      <td>hail Carol Stream, Illinois GREAT MICHIGAN TEC...</td>\n",
              "    </tr>\n",
              "    <tr>\n",
              "      <th>5461</th>\n",
              "      <td>police Houston  CNN: Tennessee movie theater s...</td>\n",
              "    </tr>\n",
              "    <tr>\n",
              "      <th>5787</th>\n",
              "      <td>rioting  Still rioting in a couple of hours le...</td>\n",
              "    </tr>\n",
              "    <tr>\n",
              "      <th>7445</th>\n",
              "      <td>wounds Lake Highlands Crack in the path where ...</td>\n",
              "    </tr>\n",
              "    <tr>\n",
              "      <th>...</th>\n",
              "      <td>...</td>\n",
              "    </tr>\n",
              "    <tr>\n",
              "      <th>5226</th>\n",
              "      <td>obliteration Merica! @Eganator2000 There aren'...</td>\n",
              "    </tr>\n",
              "    <tr>\n",
              "      <th>5390</th>\n",
              "      <td>panic  just had a panic attack bc I don't have...</td>\n",
              "    </tr>\n",
              "    <tr>\n",
              "      <th>860</th>\n",
              "      <td>blood  Omron HEM-712C Automatic Blood Pressure...</td>\n",
              "    </tr>\n",
              "    <tr>\n",
              "      <th>7603</th>\n",
              "      <td>Officials say a quarantine is in place at an...</td>\n",
              "    </tr>\n",
              "    <tr>\n",
              "      <th>7270</th>\n",
              "      <td>whirlwind Stamford &amp; Cork (&amp; Shropshire) I mov...</td>\n",
              "    </tr>\n",
              "  </tbody>\n",
              "</table>\n",
              "<p>5329 rows × 1 columns</p>\n",
              "</div>\n",
              "      <button class=\"colab-df-convert\" onclick=\"convertToInteractive('df-9a3d1e38-3472-4aee-84f5-ba3a9e42715a')\"\n",
              "              title=\"Convert this dataframe to an interactive table.\"\n",
              "              style=\"display:none;\">\n",
              "        \n",
              "  <svg xmlns=\"http://www.w3.org/2000/svg\" height=\"24px\"viewBox=\"0 0 24 24\"\n",
              "       width=\"24px\">\n",
              "    <path d=\"M0 0h24v24H0V0z\" fill=\"none\"/>\n",
              "    <path d=\"M18.56 5.44l.94 2.06.94-2.06 2.06-.94-2.06-.94-.94-2.06-.94 2.06-2.06.94zm-11 1L8.5 8.5l.94-2.06 2.06-.94-2.06-.94L8.5 2.5l-.94 2.06-2.06.94zm10 10l.94 2.06.94-2.06 2.06-.94-2.06-.94-.94-2.06-.94 2.06-2.06.94z\"/><path d=\"M17.41 7.96l-1.37-1.37c-.4-.4-.92-.59-1.43-.59-.52 0-1.04.2-1.43.59L10.3 9.45l-7.72 7.72c-.78.78-.78 2.05 0 2.83L4 21.41c.39.39.9.59 1.41.59.51 0 1.02-.2 1.41-.59l7.78-7.78 2.81-2.81c.8-.78.8-2.07 0-2.86zM5.41 20L4 18.59l7.72-7.72 1.47 1.35L5.41 20z\"/>\n",
              "  </svg>\n",
              "      </button>\n",
              "      \n",
              "  <style>\n",
              "    .colab-df-container {\n",
              "      display:flex;\n",
              "      flex-wrap:wrap;\n",
              "      gap: 12px;\n",
              "    }\n",
              "\n",
              "    .colab-df-convert {\n",
              "      background-color: #E8F0FE;\n",
              "      border: none;\n",
              "      border-radius: 50%;\n",
              "      cursor: pointer;\n",
              "      display: none;\n",
              "      fill: #1967D2;\n",
              "      height: 32px;\n",
              "      padding: 0 0 0 0;\n",
              "      width: 32px;\n",
              "    }\n",
              "\n",
              "    .colab-df-convert:hover {\n",
              "      background-color: #E2EBFA;\n",
              "      box-shadow: 0px 1px 2px rgba(60, 64, 67, 0.3), 0px 1px 3px 1px rgba(60, 64, 67, 0.15);\n",
              "      fill: #174EA6;\n",
              "    }\n",
              "\n",
              "    [theme=dark] .colab-df-convert {\n",
              "      background-color: #3B4455;\n",
              "      fill: #D2E3FC;\n",
              "    }\n",
              "\n",
              "    [theme=dark] .colab-df-convert:hover {\n",
              "      background-color: #434B5C;\n",
              "      box-shadow: 0px 1px 3px 1px rgba(0, 0, 0, 0.15);\n",
              "      filter: drop-shadow(0px 1px 2px rgba(0, 0, 0, 0.3));\n",
              "      fill: #FFFFFF;\n",
              "    }\n",
              "  </style>\n",
              "\n",
              "      <script>\n",
              "        const buttonEl =\n",
              "          document.querySelector('#df-9a3d1e38-3472-4aee-84f5-ba3a9e42715a button.colab-df-convert');\n",
              "        buttonEl.style.display =\n",
              "          google.colab.kernel.accessAllowed ? 'block' : 'none';\n",
              "\n",
              "        async function convertToInteractive(key) {\n",
              "          const element = document.querySelector('#df-9a3d1e38-3472-4aee-84f5-ba3a9e42715a');\n",
              "          const dataTable =\n",
              "            await google.colab.kernel.invokeFunction('convertToInteractive',\n",
              "                                                     [key], {});\n",
              "          if (!dataTable) return;\n",
              "\n",
              "          const docLinkHtml = 'Like what you see? Visit the ' +\n",
              "            '<a target=\"_blank\" href=https://colab.research.google.com/notebooks/data_table.ipynb>data table notebook</a>'\n",
              "            + ' to learn more about interactive tables.';\n",
              "          element.innerHTML = '';\n",
              "          dataTable['output_type'] = 'display_data';\n",
              "          await google.colab.output.renderOutput(dataTable, element);\n",
              "          const docLink = document.createElement('div');\n",
              "          docLink.innerHTML = docLinkHtml;\n",
              "          element.appendChild(docLink);\n",
              "        }\n",
              "      </script>\n",
              "    </div>\n",
              "  </div>\n",
              "  "
            ]
          },
          "metadata": {},
          "execution_count": 21
        }
      ]
    },
    {
      "cell_type": "code",
      "source": [
        "y_test = test['target']\n",
        "test['main'] = test[test.columns[1:4]].apply(lambda x: ' '.join(x.dropna()), axis=1)\n",
        "test = test.drop(['id', 'keyword', 'location', 'text', 'target'], axis=1)\n",
        "test"
      ],
      "metadata": {
        "colab": {
          "base_uri": "https://localhost:8080/",
          "height": 433
        },
        "id": "xkkp5aBKUwp6",
        "outputId": "3cf8ed97-27b9-4e36-82fe-513f40fe4d26"
      },
      "execution_count": 22,
      "outputs": [
        {
          "output_type": "execute_result",
          "data": {
            "text/plain": [
              "                                                   main\n",
              "2644  destruction  So you have a new weapon that can...\n",
              "2227  deluge  The f$&amp;@ing things I do for #GISHW...\n",
              "5448  police UK DT @georgegalloway: RT @Galloway4May...\n",
              "132   aftershock  Aftershock back to school kick off...\n",
              "6845  trauma Montgomery County, MD in response to tr...\n",
              "...                                                 ...\n",
              "4307  hellfire 570 Vanderbilt; Brooklyn, NY New cock...\n",
              "3375  evacuation USA Bend Post Office roofers cut ga...\n",
              "1710  collided  Monsoon flooding - Monsoon rains hav...\n",
              "4898  massacre Ireland Remember this was a massacre ...\n",
              "6753  tornado Asheville, NC I liked a @YouTube video...\n",
              "\n",
              "[2284 rows x 1 columns]"
            ],
            "text/html": [
              "\n",
              "  <div id=\"df-68b1cf4a-70bc-42b3-813d-0088be8d8f5b\">\n",
              "    <div class=\"colab-df-container\">\n",
              "      <div>\n",
              "<style scoped>\n",
              "    .dataframe tbody tr th:only-of-type {\n",
              "        vertical-align: middle;\n",
              "    }\n",
              "\n",
              "    .dataframe tbody tr th {\n",
              "        vertical-align: top;\n",
              "    }\n",
              "\n",
              "    .dataframe thead th {\n",
              "        text-align: right;\n",
              "    }\n",
              "</style>\n",
              "<table border=\"1\" class=\"dataframe\">\n",
              "  <thead>\n",
              "    <tr style=\"text-align: right;\">\n",
              "      <th></th>\n",
              "      <th>main</th>\n",
              "    </tr>\n",
              "  </thead>\n",
              "  <tbody>\n",
              "    <tr>\n",
              "      <th>2644</th>\n",
              "      <td>destruction  So you have a new weapon that can...</td>\n",
              "    </tr>\n",
              "    <tr>\n",
              "      <th>2227</th>\n",
              "      <td>deluge  The f$&amp;amp;@ing things I do for #GISHW...</td>\n",
              "    </tr>\n",
              "    <tr>\n",
              "      <th>5448</th>\n",
              "      <td>police UK DT @georgegalloway: RT @Galloway4May...</td>\n",
              "    </tr>\n",
              "    <tr>\n",
              "      <th>132</th>\n",
              "      <td>aftershock  Aftershock back to school kick off...</td>\n",
              "    </tr>\n",
              "    <tr>\n",
              "      <th>6845</th>\n",
              "      <td>trauma Montgomery County, MD in response to tr...</td>\n",
              "    </tr>\n",
              "    <tr>\n",
              "      <th>...</th>\n",
              "      <td>...</td>\n",
              "    </tr>\n",
              "    <tr>\n",
              "      <th>4307</th>\n",
              "      <td>hellfire 570 Vanderbilt; Brooklyn, NY New cock...</td>\n",
              "    </tr>\n",
              "    <tr>\n",
              "      <th>3375</th>\n",
              "      <td>evacuation USA Bend Post Office roofers cut ga...</td>\n",
              "    </tr>\n",
              "    <tr>\n",
              "      <th>1710</th>\n",
              "      <td>collided  Monsoon flooding - Monsoon rains hav...</td>\n",
              "    </tr>\n",
              "    <tr>\n",
              "      <th>4898</th>\n",
              "      <td>massacre Ireland Remember this was a massacre ...</td>\n",
              "    </tr>\n",
              "    <tr>\n",
              "      <th>6753</th>\n",
              "      <td>tornado Asheville, NC I liked a @YouTube video...</td>\n",
              "    </tr>\n",
              "  </tbody>\n",
              "</table>\n",
              "<p>2284 rows × 1 columns</p>\n",
              "</div>\n",
              "      <button class=\"colab-df-convert\" onclick=\"convertToInteractive('df-68b1cf4a-70bc-42b3-813d-0088be8d8f5b')\"\n",
              "              title=\"Convert this dataframe to an interactive table.\"\n",
              "              style=\"display:none;\">\n",
              "        \n",
              "  <svg xmlns=\"http://www.w3.org/2000/svg\" height=\"24px\"viewBox=\"0 0 24 24\"\n",
              "       width=\"24px\">\n",
              "    <path d=\"M0 0h24v24H0V0z\" fill=\"none\"/>\n",
              "    <path d=\"M18.56 5.44l.94 2.06.94-2.06 2.06-.94-2.06-.94-.94-2.06-.94 2.06-2.06.94zm-11 1L8.5 8.5l.94-2.06 2.06-.94-2.06-.94L8.5 2.5l-.94 2.06-2.06.94zm10 10l.94 2.06.94-2.06 2.06-.94-2.06-.94-.94-2.06-.94 2.06-2.06.94z\"/><path d=\"M17.41 7.96l-1.37-1.37c-.4-.4-.92-.59-1.43-.59-.52 0-1.04.2-1.43.59L10.3 9.45l-7.72 7.72c-.78.78-.78 2.05 0 2.83L4 21.41c.39.39.9.59 1.41.59.51 0 1.02-.2 1.41-.59l7.78-7.78 2.81-2.81c.8-.78.8-2.07 0-2.86zM5.41 20L4 18.59l7.72-7.72 1.47 1.35L5.41 20z\"/>\n",
              "  </svg>\n",
              "      </button>\n",
              "      \n",
              "  <style>\n",
              "    .colab-df-container {\n",
              "      display:flex;\n",
              "      flex-wrap:wrap;\n",
              "      gap: 12px;\n",
              "    }\n",
              "\n",
              "    .colab-df-convert {\n",
              "      background-color: #E8F0FE;\n",
              "      border: none;\n",
              "      border-radius: 50%;\n",
              "      cursor: pointer;\n",
              "      display: none;\n",
              "      fill: #1967D2;\n",
              "      height: 32px;\n",
              "      padding: 0 0 0 0;\n",
              "      width: 32px;\n",
              "    }\n",
              "\n",
              "    .colab-df-convert:hover {\n",
              "      background-color: #E2EBFA;\n",
              "      box-shadow: 0px 1px 2px rgba(60, 64, 67, 0.3), 0px 1px 3px 1px rgba(60, 64, 67, 0.15);\n",
              "      fill: #174EA6;\n",
              "    }\n",
              "\n",
              "    [theme=dark] .colab-df-convert {\n",
              "      background-color: #3B4455;\n",
              "      fill: #D2E3FC;\n",
              "    }\n",
              "\n",
              "    [theme=dark] .colab-df-convert:hover {\n",
              "      background-color: #434B5C;\n",
              "      box-shadow: 0px 1px 3px 1px rgba(0, 0, 0, 0.15);\n",
              "      filter: drop-shadow(0px 1px 2px rgba(0, 0, 0, 0.3));\n",
              "      fill: #FFFFFF;\n",
              "    }\n",
              "  </style>\n",
              "\n",
              "      <script>\n",
              "        const buttonEl =\n",
              "          document.querySelector('#df-68b1cf4a-70bc-42b3-813d-0088be8d8f5b button.colab-df-convert');\n",
              "        buttonEl.style.display =\n",
              "          google.colab.kernel.accessAllowed ? 'block' : 'none';\n",
              "\n",
              "        async function convertToInteractive(key) {\n",
              "          const element = document.querySelector('#df-68b1cf4a-70bc-42b3-813d-0088be8d8f5b');\n",
              "          const dataTable =\n",
              "            await google.colab.kernel.invokeFunction('convertToInteractive',\n",
              "                                                     [key], {});\n",
              "          if (!dataTable) return;\n",
              "\n",
              "          const docLinkHtml = 'Like what you see? Visit the ' +\n",
              "            '<a target=\"_blank\" href=https://colab.research.google.com/notebooks/data_table.ipynb>data table notebook</a>'\n",
              "            + ' to learn more about interactive tables.';\n",
              "          element.innerHTML = '';\n",
              "          dataTable['output_type'] = 'display_data';\n",
              "          await google.colab.output.renderOutput(dataTable, element);\n",
              "          const docLink = document.createElement('div');\n",
              "          docLink.innerHTML = docLinkHtml;\n",
              "          element.appendChild(docLink);\n",
              "        }\n",
              "      </script>\n",
              "    </div>\n",
              "  </div>\n",
              "  "
            ]
          },
          "metadata": {},
          "execution_count": 22
        }
      ]
    },
    {
      "cell_type": "markdown",
      "metadata": {
        "id": "eEFji97F5O3t"
      },
      "source": [
        "## Задание 4 (0.5 балла)\n",
        "\n",
        "Далее мы будем пока работать только с train частью.\n",
        "\n",
        "1. Предобработайте данные (train часть) с помощью CountVectorizer.\n",
        "2. Какого размера получилась матрица?\n"
      ]
    },
    {
      "cell_type": "code",
      "source": [
        "import nltk\n",
        "nltk.download('punkt')\n",
        "from nltk.tokenize import word_tokenize"
      ],
      "metadata": {
        "colab": {
          "base_uri": "https://localhost:8080/"
        },
        "id": "PzrGQm9w8ZAC",
        "outputId": "1e666ee7-8b07-49e4-f2af-60a6de7ef3cc"
      },
      "execution_count": 23,
      "outputs": [
        {
          "output_type": "stream",
          "name": "stdout",
          "text": [
            "[nltk_data] Downloading package punkt to /root/nltk_data...\n",
            "[nltk_data]   Unzipping tokenizers/punkt.zip.\n"
          ]
        }
      ]
    },
    {
      "cell_type": "code",
      "source": [
        "from sklearn.feature_extraction.text import CountVectorizer\n",
        "vec = CountVectorizer(tokenizer = word_tokenize)\n",
        "bow = vec.fit_transform(train.main)\n",
        "bow.shape"
      ],
      "metadata": {
        "colab": {
          "base_uri": "https://localhost:8080/"
        },
        "id": "gIuVf50vhNpP",
        "outputId": "bb990971-9a89-4341-a015-6a1acbdeaa32"
      },
      "execution_count": 24,
      "outputs": [
        {
          "output_type": "execute_result",
          "data": {
            "text/plain": [
              "(5329, 19676)"
            ]
          },
          "metadata": {},
          "execution_count": 24
        }
      ]
    },
    {
      "cell_type": "markdown",
      "metadata": {
        "id": "GKrKPJxg5O3u"
      },
      "source": [
        "## Задание 5 (1 балл)\n",
        "\n",
        "В предыдущем пункте у вас должна была получиться достаточно большая матрица.\n",
        "Если вы взгляните на текст, то увидете, что там есть множество специальных символов, ссылок и прочего мусора.\n",
        "\n",
        "Давайте также посмотрим на словарь, который получился в результате построения CountVectorizer, его можно найти в поле vocabulary_ инстанса этого класса. Давайте напишем функцию, которая печает ответы на следующие вопросы:\n",
        "\n",
        "1. Найдите в этом словаре все слова, которые содержат цифры. Сколько таких слов нашлось?\n",
        "\n",
        "2. Найдите все слова, которые содержат символы пунктуации. Сколько таких слов нашлось? \n",
        "\n",
        "3. Сколько хэштегов (токен начинается на #) и упоминаний (токен начинается на @) осталось в словаре?"
      ]
    },
    {
      "cell_type": "code",
      "source": [
        "list(vec.vocabulary_.items())"
      ],
      "metadata": {
        "colab": {
          "base_uri": "https://localhost:8080/"
        },
        "id": "fS6SivDNosSK",
        "outputId": "3444b18d-f48f-41ab-a102-10baea658930"
      },
      "execution_count": 25,
      "outputs": [
        {
          "output_type": "execute_result",
          "data": {
            "text/plain": [
              "[('bridge', 6150),\n",
              " ('%', 3),\n",
              " ('20collapse', 4000),\n",
              " ('ashes', 5215),\n",
              " ('2015', 3971),\n",
              " (':', 4442),\n",
              " ('australia\\x89ûªs', 5350),\n",
              " ('collapse', 7043),\n",
              " ('at', 5264),\n",
              " ('trent', 18184),\n",
              " ('among', 4929),\n",
              " ('worst', 19287),\n",
              " ('in', 10951),\n",
              " ('history', 10516),\n",
              " ('england', 8685),\n",
              " ('bundled', 6277),\n",
              " ('out', 14076),\n",
              " ('australia', 5346),\n",
              " ('for', 9398),\n",
              " ('60', 4276),\n",
              " ('...', 389),\n",
              " ('http', 10686),\n",
              " ('//t.co/t5trhjuau0', 2999),\n",
              " ('hail', 10164),\n",
              " ('carol', 6530),\n",
              " ('stream', 17162),\n",
              " (',', 336),\n",
              " ('illinois', 10894),\n",
              " ('great', 9999),\n",
              " ('michigan', 12895),\n",
              " ('technique', 17605),\n",
              " ('camp', 6431),\n",
              " ('b1g', 5424),\n",
              " ('thanks', 17722),\n",
              " ('to', 17977),\n",
              " ('@', 4453),\n",
              " ('bmurph1019', 5967),\n",
              " ('hail_youtsey', 10165),\n",
              " ('.', 386),\n",
              " ('termn8r13', 17667),\n",
              " ('#', 1),\n",
              " ('goblue', 9887),\n",
              " ('wrestleon', 19313),\n",
              " ('//t.co/oaskgki6qj', 2480),\n",
              " ('police', 14637),\n",
              " ('houston', 10664),\n",
              " ('cnn', 6983),\n",
              " ('tennessee', 17650),\n",
              " ('movie', 13222),\n",
              " ('theater', 17739),\n",
              " ('shooting', 16419),\n",
              " ('suspect', 17382),\n",
              " ('killed', 11709),\n",
              " ('by', 6336),\n",
              " ('//t.co/di8elzswnr', 1294),\n",
              " ('rioting', 15638),\n",
              " ('still', 17101),\n",
              " ('a', 4487),\n",
              " ('couple', 7338),\n",
              " ('of', 13828),\n",
              " ('hours', 10656),\n",
              " ('left', 12024),\n",
              " ('until', 18499),\n",
              " ('i', 10782),\n",
              " ('have', 10298),\n",
              " ('be', 5628),\n",
              " ('up', 18505),\n",
              " ('class', 6909),\n",
              " ('wounds', 19297),\n",
              " ('lake', 11881),\n",
              " ('highlands', 10464),\n",
              " ('crack', 7372),\n",
              " ('the', 17735),\n",
              " ('path', 14275),\n",
              " ('where', 19067),\n",
              " ('wiped', 19172),\n",
              " ('this', 17826),\n",
              " ('morning', 13168),\n",
              " ('during', 8388),\n",
              " ('beach', 5631),\n",
              " ('run', 15850),\n",
              " ('surface', 17356),\n",
              " ('on', 13928),\n",
              " ('elbow', 8542),\n",
              " ('and', 4950),\n",
              " ('right', 15621),\n",
              " ('knee', 11764),\n",
              " ('//t.co/yaqrsximph', 3507),\n",
              " ('airplane', 4763),\n",
              " ('20accident', 3990),\n",
              " ('somewhere', 16781),\n",
              " ('there', 17785),\n",
              " ('experts', 8918),\n",
              " ('france', 9481),\n",
              " ('begin', 5684),\n",
              " ('examining', 8868),\n",
              " ('debris', 7742),\n",
              " ('found', 9453),\n",
              " ('reunion', 15558),\n",
              " ('island', 11227),\n",
              " ('french', 9528),\n",
              " ('air', 4757),\n",
              " ('accident', 4565),\n",
              " ('//t.co/tagzbcxfj0', 3007),\n",
              " ('mlb', 13058),\n",
              " ('bloody', 5935),\n",
              " ('isolated', 11235),\n",
              " ('city', 6883),\n",
              " ('world', 19267),\n",
              " ('perth', 14406),\n",
              " (\"'i\", 134),\n",
              " ('came', 6421),\n",
              " ('kill', 11706),\n",
              " ('indians', 10996),\n",
              " ('fun', 9602),\n",
              " (\"'\", 5),\n",
              " ('video', 18700),\n",
              " ('smirking', 16680),\n",
              " ('remorseless', 15427),\n",
              " ('pakistani', 14170),\n",
              " ('killer', 11711),\n",
              " ('shows', 16451),\n",
              " ('him', 10487),\n",
              " ('boasting', 5974),\n",
              " ('//t.co/fpjlwoxklg', 1531),\n",
              " ('burning', 6294),\n",
              " ('johnsontionne', 11453),\n",
              " ('except', 8873),\n",
              " ('idk', 10853),\n",
              " ('them', 17769),\n",
              " ('?', 4452),\n",
              " ('it', 11245),\n",
              " (\"'s\", 227),\n",
              " ('really', 15272),\n",
              " ('destroy', 7925),\n",
              " ('he/him', 10324),\n",
              " ('or', 14005),\n",
              " ('she/her', 16362),\n",
              " ('(', 290),\n",
              " ('ask', 5230),\n",
              " (')', 291),\n",
              " ('house', 10657),\n",
              " ('wounded', 19296),\n",
              " ('maracay', 12591),\n",
              " ('y', 19391),\n",
              " ('nirgua', 13587),\n",
              " ('venezuela', 18651),\n",
              " ('officer', 13844),\n",
              " ('dead', 7714),\n",
              " ('after', 4705),\n",
              " ('exchanging', 8876),\n",
              " ('shots', 16434),\n",
              " ('//t.co/xxfk4khbiw', 3472),\n",
              " ('wreck', 19310),\n",
              " ('currently', 7539),\n",
              " ('writing', 19323),\n",
              " ('book', 6015),\n",
              " (\"'m\", 164),\n",
              " ('friggin', 9553),\n",
              " ('destiel', 7919),\n",
              " ('sucks', 17258),\n",
              " ('read', 15250),\n",
              " ('vine', 18718),\n",
              " ('description', 7899),\n",
              " ('https', 10687),\n",
              " ('//t.co/mkx6ux4ozt', 2287),\n",
              " ('mudslide', 13264),\n",
              " ('malibu/santafe/winning', 12545),\n",
              " ('!', 0),\n",
              " ('sterling-scott', 17084),\n",
              " ('red', 15324),\n",
              " ('carpet', 6535),\n",
              " ('fundraiser', 9605),\n",
              " (\"'oso\", 192),\n",
              " ('//t.co/ma4ra7atql', 2252),\n",
              " ('//t.co/cg579wldne', 1184),\n",
              " ('casualties', 6573),\n",
              " ('canadian', 6452),\n",
              " ('bread', 6116),\n",
              " ('libertarianluke', 12102),\n",
              " ('all', 4839),\n",
              " ('that', 17725),\n",
              " ('honest', 10591),\n",
              " ('if', 10860),\n",
              " ('people', 14365),\n",
              " ('want', 18876),\n",
              " ('go', 9880),\n",
              " ('rampage', 15173),\n",
              " ('let', 12077),\n",
              " ('use', 18559),\n",
              " ('their', 17764),\n",
              " ('own', 14127),\n",
              " ('hands', 10213),\n",
              " ('feet', 9131),\n",
              " ('no', 13605),\n",
              " ('ambulance', 4909),\n",
              " ('amsterdam', 4935),\n",
              " ('//t.co/7xglah10zl', 821),\n",
              " ('twelve', 18333),\n",
              " ('feared', 9108),\n",
              " ('helicopter', 10391),\n",
              " ('crash', 7387),\n",
              " ('//t.co/thmblaatzp', 3039),\n",
              " ('electrocuted', 8556),\n",
              " ('got', 9937),\n",
              " ('last', 11937),\n",
              " ('night', 13572),\n",
              " ('work', 19257),\n",
              " ('first', 9257),\n",
              " ('time', 17924),\n",
              " ('my', 13322),\n",
              " ('life', 12116),\n",
              " ('shit', 16403),\n",
              " ('was', 18908),\n",
              " ('weird', 19009),\n",
              " ('drown', 8325),\n",
              " ('some', 16769),\n",
              " ('older', 13909),\n",
              " ('native', 13403),\n",
              " ('australians', 5349),\n",
              " ('believe', 5709),\n",
              " ('oceans', 13816),\n",
              " ('were', 19027),\n",
              " ('created', 7408),\n",
              " ('from', 9559),\n",
              " ('urine', 18536),\n",
              " ('an', 4938),\n",
              " ('angry', 4977),\n",
              " ('god', 9889),\n",
              " ('who', 19091),\n",
              " ('tried', 18204),\n",
              " ('volcano', 18773),\n",
              " ('west', 19031),\n",
              " ('coast', 6999),\n",
              " ('cali', 6396),\n",
              " ('usa', 18546),\n",
              " ('architect', 5118),\n",
              " ('behind', 5696),\n",
              " ('kanye', 11578),\n",
              " ('west\\x89ûªs', 19044),\n",
              " ('//t.co/musbik7ejf', 2324),\n",
              " ('attack', 5288),\n",
              " ('mumbai', 13283),\n",
              " ('india', 10987),\n",
              " ('shud', 16456),\n",
              " ('not', 13675),\n",
              " ('give', 9830),\n",
              " ('any', 5035),\n",
              " ('evidence', 8855),\n",
              " ('2', 3938),\n",
              " ('pak.they', 14168),\n",
              " ('will', 19127),\n",
              " ('share', 16344),\n",
              " ('with', 19187),\n",
              " ('terrorists', 17682),\n",
              " ('&', 4),\n",
              " ('amp', 4931),\n",
              " (';', 4445),\n",
              " ('next', 13529),\n",
              " ('attack.share', 5290),\n",
              " ('oth', 14057),\n",
              " ('contries', 7244),\n",
              " ('//t.co/qiopbtiuvu', 2726),\n",
              " ('body', 5983),\n",
              " ('20bag', 3991),\n",
              " ('new', 13496),\n",
              " ('york', 19462),\n",
              " ('auth', 5352),\n",
              " ('louis', 12360),\n",
              " ('vuitton', 18798),\n",
              " ('brown', 6205),\n",
              " ('saumur', 16030),\n",
              " ('35', 4121),\n",
              " ('cross', 7456),\n",
              " ('shoulder', 16436),\n",
              " ('bag', 5464),\n",
              " ('monogram', 13124),\n",
              " ('7.23', 4317),\n",
              " ('419-3', 4188),\n",
              " ('-', 338),\n",
              " ('full', 9596),\n",
              " ('read\\x89û_', 15254),\n",
              " ('//t.co/hcdiwe5flc', 1720),\n",
              " ('//t.co/zlvebeoavg', 3634),\n",
              " ('annihilated', 4996),\n",
              " ('higher', 10460),\n",
              " ('places', 14546),\n",
              " ('episode', 8740),\n",
              " ('trunks', 18258),\n",
              " ('freiza', 9526),\n",
              " ('is', 11211),\n",
              " ('cleanest', 6917),\n",
              " ('ever', 8837),\n",
              " ('he', 10322),\n",
              " ('showed', 16447),\n",
              " ('nigga', 13570),\n",
              " ('mercy', 12828),\n",
              " ('cyclone', 7562),\n",
              " ('hyderabad', 10771),\n",
              " ('roughdeal1', 15790),\n",
              " ('ante', 5014),\n",
              " ('hudhud', 10692),\n",
              " ('chandrababu', 6688),\n",
              " ('valle', 18608),\n",
              " ('ne', 13438),\n",
              " ('ga', 9643),\n",
              " ('65', 4296),\n",
              " ('zhenghxn', 19539),\n",
              " ('11', 3793),\n",
              " ('eyes', 8964),\n",
              " ('akame', 4777),\n",
              " ('tokyo', 17999),\n",
              " ('ghoul', 9799),\n",
              " ('damn', 7616),\n",
              " ('dont', 8211),\n",
              " ('dare', 7653),\n",
              " ('watch', 18925),\n",
              " ('suicide', 17274),\n",
              " ('20bombing', 3997),\n",
              " ('principality', 14840),\n",
              " ('zeron', 19537),\n",
              " ('rayquazaerk', 15224),\n",
              " ('are', 5120),\n",
              " ('christian', 6834),\n",
              " ('sure', 17348),\n",
              " ('but', 6319),\n",
              " ('do', 8163),\n",
              " (\"n't\", 13346),\n",
              " ('bombing', 6004),\n",
              " ('employed', 8636),\n",
              " ('often', 13866),\n",
              " ('as', 5199),\n",
              " ('islamic', 11224),\n",
              " ('groups', 10051),\n",
              " ('demolished', 7841),\n",
              " ('jackmulholland1', 11292),\n",
              " ('think', 17818),\n",
              " ('also', 4883),\n",
              " ('became', 5654),\n",
              " ('marquis', 12635),\n",
              " ('then', 17776),\n",
              " ('carlos', 6523),\n",
              " ('charlie', 6713),\n",
              " ('finally', 9213),\n",
              " ('dublin', 8351),\n",
              " ('sadly', 15922),\n",
              " ('inundated', 11151),\n",
              " ('surf', 17353),\n",
              " ('hi', 10448),\n",
              " ('waimea', 18840),\n",
              " ('bay', 5601),\n",
              " ('like', 12141),\n",
              " ('surfers', 17357),\n",
              " ('//t.co/czdw8oowa2', 1249),\n",
              " ('collision', 7058),\n",
              " ('denver', 7865),\n",
              " ('colorado', 7072),\n",
              " ('motorcyclist', 13201),\n",
              " ('bicyclist', 5796),\n",
              " ('injured', 11050),\n",
              " ('broadway', 6185),\n",
              " ('//t.co/zl7ojdaj3u', 3630),\n",
              " ('flames', 9286),\n",
              " ('around', 5168),\n",
              " ('you', 19467),\n",
              " ('maryland', 12647),\n",
              " ('mansion', 12580),\n",
              " ('fire', 9237),\n",
              " ('6', 4272),\n",
              " ('caused', 6602),\n",
              " ('damaged', 7606),\n",
              " ('plug', 14602),\n",
              " ('under', 18429),\n",
              " ('christmas', 6841),\n",
              " ('tree', 18170),\n",
              " ('report', 15465),\n",
              " ('says', 16049),\n",
              " ('into', 11146),\n",
              " ('//t.co/lkjfabqzb3', 2177),\n",
              " ('demolish', 7839),\n",
              " ('nyhc', 13769),\n",
              " ('going', 9897),\n",
              " ('drake', 8265),\n",
              " ('over', 14102),\n",
              " ('ghostwriting', 9798),\n",
              " ('should', 16435),\n",
              " ('know', 11778),\n",
              " ('rihanna', 15626),\n",
              " ('lives', 12223),\n",
              " ('door', 8216),\n",
              " ('buildings', 6259),\n",
              " ('20burning', 3999),\n",
              " ('blue', 5953),\n",
              " ('yes', 19437),\n",
              " ('1acd4900c1424d1', 3933),\n",
              " ('foxnews', 9466),\n",
              " ('one', 13933),\n",
              " ('down', 8240),\n",
              " ('looting', 12329),\n",
              " ('forest', 9413),\n",
              " ('20fires', 4006),\n",
              " ('nicola', 13558),\n",
              " ('valley', 18609),\n",
              " ('fires', 9250),\n",
              " ('dying', 8414),\n",
              " ('salmon', 15952),\n",
              " ('act', 4602),\n",
              " ('deny', 7866),\n",
              " ('climate', 6939),\n",
              " ('change', 6689),\n",
              " ('nightmares', 13575),\n",
              " ('here', 10420),\n",
              " ('//t.co/rbzomwgjee', 2806),\n",
              " ('bcpoli', 5623),\n",
              " ('canpoli', 6468),\n",
              " ('vanpoli', 18624),\n",
              " ('//t.co/ns1aggfnxz', 2428),\n",
              " ('shoes', 16414),\n",
              " ('asics', 5227),\n",
              " ('gt-ii', 10069),\n",
              " ('super', 17320),\n",
              " ('2.0', 3943),\n",
              " ('ronnie', 15758),\n",
              " ('fieg', 9180),\n",
              " ('kith', 11752),\n",
              " ('white', 19085),\n",
              " ('3m', 4152),\n",
              " ('x', 19363),\n",
              " ('gel', 9742),\n",
              " ('grey', 10026),\n",
              " ('//t.co/od250zshfy', 2488),\n",
              " ('sandstorm', 15988),\n",
              " ('airport', 4765),\n",
              " ('get', 9782),\n",
              " ('swallowed', 17395),\n",
              " ('minute', 13003),\n",
              " ('//t.co/wd9odwjj9l', 3320),\n",
              " ('20on', 4010),\n",
              " ('20fire', 4005),\n",
              " ('uk', 18399),\n",
              " ('tweetlikeitsseptember11th2001', 18330),\n",
              " ('those', 17844),\n",
              " ('two', 18345),\n",
              " ('oil', 13881),\n",
              " ('20spill', 4017),\n",
              " ('ny', 13757),\n",
              " ('california', 6400),\n",
              " ('spill', 16904),\n",
              " ('might', 12925),\n",
              " ('larger', 11929),\n",
              " ('than', 17714),\n",
              " ('projected', 14887),\n",
              " ('//t.co/xwxbyhtuzc', 3471),\n",
              " ('//t.co/wzedxefblg', 3388),\n",
              " ('cartoon', 6548),\n",
              " ('bears', 5637),\n",
              " ('without', 19192),\n",
              " ('we', 18964),\n",
              " ('would', 19291),\n",
              " ('qave', 15053),\n",
              " ('knowlddge', 11780),\n",
              " ('toilet', 17996),\n",
              " ('paper', 14210),\n",
              " ('drought', 8319),\n",
              " ('miami', 12886),\n",
              " ('_gaabyx', 4477),\n",
              " ('purple', 15022),\n",
              " ('activist', 4614),\n",
              " ('thought', 17847),\n",
              " ('injuries', 11052),\n",
              " ('madison', 12487),\n",
              " ('wi', 19107),\n",
              " ('st.', 16980),\n",
              " ('mo', 13069),\n",
              " ('buffoonmike', 6253),\n",
              " ('knew', 11767),\n",
              " ('doing', 8184),\n",
              " ('much', 13262),\n",
              " ('bite', 5856),\n",
              " ('us', 18542),\n",
              " ('influenced', 11035),\n",
              " ('shitty', 16407),\n",
              " ('staff', 16989),\n",
              " ('acquisitions', 4597),\n",
              " ('landslide', 11905),\n",
              " ('austin', 5344),\n",
              " ('texas', 17697),\n",
              " ('toddstarnes', 17988),\n",
              " ('enjoy', 8692),\n",
              " ('impending', 10929),\n",
              " ('todd', 17986),\n",
              " ('hehe', 10379),\n",
              " ('apocalypse', 5063),\n",
              " ('oregon', 14022),\n",
              " ('look', 12314),\n",
              " ('grizzly', 10038),\n",
              " ('peak', 14333),\n",
              " ('now', 13706),\n",
              " ('looks', 12318),\n",
              " ('beginning', 5686),\n",
              " ('dystopian', 8418),\n",
              " ('detonation', 7943),\n",
              " ('ignition', 10869),\n",
              " ('knock', 11773),\n",
              " ('sensor-senso', 16247),\n",
              " ('standard', 17004),\n",
              " ('ks100', 11817),\n",
              " ('//t.co/7o4lnfbe7k', 814),\n",
              " ('//t.co/fvzsgjtbew', 1556),\n",
              " ('20responders', 4013),\n",
              " ('week', 18999),\n",
              " ('responders', 15517),\n",
              " ('dart', 7667),\n",
              " ('members', 12803),\n",
              " ('participating', 14249),\n",
              " ('four', 9458),\n",
              " ('day', 7697),\n",
              " ('intensive', 11116),\n",
              " ('technical', 17603),\n",
              " ('large', 11928),\n",
              " ('animal', 4979),\n",
              " ('//t.co/tl93aod3er', 3051),\n",
              " ('military', 12945),\n",
              " ('lot', 12352),\n",
              " ('20', 3955),\n",
              " ('tom', 18005),\n",
              " ('clancy', 6905),\n",
              " ('mystery', 13334),\n",
              " ('novels', 13704),\n",
              " ('paperback', 14211),\n",
              " ('//t.co/obix79ncxn', 2483),\n",
              " ('tomclancy', 18009),\n",
              " ('drowning', 8327),\n",
              " ('coventry', 7351),\n",
              " ('why', 19105),\n",
              " ('low', 12377),\n",
              " ('self-image', 16214),\n",
              " ('take', 17497),\n",
              " ('quiz', 15096),\n",
              " ('//t.co/z8r6r3nbtb', 3597),\n",
              " ('//t.co/namffldh5h', 2365),\n",
              " ('gon', 9906),\n",
              " ('na', 13350),\n",
              " ('fight', 9190),\n",
              " ('taylor', 17565),\n",
              " ('soon', 16800),\n",
              " ('danger', 7629),\n",
              " ('hailing', 10168),\n",
              " ('dayton', 7702),\n",
              " ('wish', 19182),\n",
              " ('could', 7325),\n",
              " ('victoria', 18691),\n",
              " ('secret', 16172),\n",
              " ('front', 9560),\n",
              " ('good', 9909),\n",
              " ('flood', 9326),\n",
              " ('spot', 16935),\n",
              " ('combo', 7083),\n",
              " ('53inch', 4246),\n",
              " ('300w', 4102),\n",
              " ('curved', 7543),\n",
              " ('cree', 7419),\n",
              " ('led', 12015),\n",
              " ('light', 12128),\n",
              " ('bar', 5527),\n",
              " ('4x4', 4221),\n",
              " ('offroad', 13860),\n",
              " ('fog', 9362),\n",
              " ('lamp', 11889),\n",
              " ('re\\x89û_', 15583),\n",
              " ('//t.co/o097vsotxk', 2456),\n",
              " ('//t.co/i23xy7iejj', 1798),\n",
              " ('severe', 16299),\n",
              " ('weather', 18978),\n",
              " ('bulletin', 6266),\n",
              " ('5', 4223),\n",
              " ('typhoon', 18360),\n",
              " ('\\x89ûï', 19594),\n",
              " ('hannaph\\x89û\\x9d', 10220),\n",
              " ('soudelor', 16820),\n",
              " ('tropical', 18233),\n",
              " ('warning', 18893),\n",
              " ('issued', 11241),\n",
              " ('5:00', 4259),\n",
              " ('pm', 14610),\n",
              " ('06', 3719),\n",
              " ('//t.co/thhjjw51pe', 3038),\n",
              " ('\\x89û_', 19579),\n",
              " ('fits', 9267),\n",
              " ('01-06', 3702),\n",
              " ('bmw', 5968),\n",
              " ('325ci', 4115),\n",
              " ('2.5l-l6', 3949),\n",
              " ('//t.co/gbvdnczjou', 1603),\n",
              " ('//t.co/c211hise0r', 1148),\n",
              " ('explosion', 8933),\n",
              " ('london', 12290),\n",
              " ('united', 18468),\n",
              " ('kingdom', 11732),\n",
              " ('10', 3758),\n",
              " ('chemical', 6748),\n",
              " ('park', 14233),\n",
              " ('western', 19035),\n",
              " ('germany', 9777),\n",
              " ('//t.co/xbznu0qkvs', 3411),\n",
              " ('bomb', 5999),\n",
              " ('soul', 16822),\n",
              " ('food', 9383),\n",
              " ('sound', 16826),\n",
              " ('so', 16726),\n",
              " ('terrorism', 17678),\n",
              " ('truth', 18262),\n",
              " ('//t.co/bejftygjil', 1067),\n",
              " ('news', 13509),\n",
              " ('bbc', 5609),\n",
              " ('islam', 11221),\n",
              " ('isis', 11217),\n",
              " ('quran', 15104),\n",
              " ('lies', 12115),\n",
              " ('//t.co/jlczidz7vu', 1960),\n",
              " ('sinking', 16536),\n",
              " ('\\x89û¢\\x89û¢if', 19589),\n",
              " ('your', 19478),\n",
              " ('lost', 12351),\n",
              " ('alone', 4871),\n",
              " ('stone', 17116),\n",
              " ('carry', 6541),\n",
              " ('onå¡å¡', 13958),\n",
              " ('hostage', 10642),\n",
              " ('chicago', 6768),\n",
              " ('mylittlepwnies3', 13329),\n",
              " ('early__may', 8434),\n",
              " ('anathemazhiv', 4944),\n",
              " ('tonysandos', 18025),\n",
              " ('which', 19073),\n",
              " ('has', 10273),\n",
              " ('lebanon', 12014),\n",
              " ('80s', 4367),\n",
              " ('attack/', 5291),\n",
              " ('iran', 11187),\n",
              " ('crisis/', 7445),\n",
              " ('libya', 12109),\n",
              " ('pan', 14188),\n",
              " ('am', 4896),\n",
              " ('pa', 14139),\n",
              " ('pulls', 14991),\n",
              " ('gun', 10099),\n",
              " ('man', 12556),\n",
              " ('apparent', 5073),\n",
              " ('provocation', 14947),\n",
              " ('//t.co/lhw4vtbhzg', 2170),\n",
              " ('via', 18678),\n",
              " ('dailykos', 7592),\n",
              " ('derailment', 7886),\n",
              " ('minneapolis', 12991),\n",
              " ('mn', 13066),\n",
              " ('train', 18125),\n",
              " ('patna', 14284),\n",
              " ('casualty', 6575),\n",
              " ('far', 9054),\n",
              " ('indian', 10992),\n",
              " ('express', 8942),\n",
              " ('//t.co/yh5vetm0yz', 3527),\n",
              " ('//t.co/17wgug8z0m', 483),\n",
              " ('panic', 14200),\n",
              " ('dream', 8278),\n",
              " ('magic', 12497),\n",
              " ('linden', 12162),\n",
              " ('method', 12855),\n",
              " ('lite', 12193),\n",
              " ('version', 18666),\n",
              " ('1', 3739),\n",
              " ('anxiety', 5034),\n",
              " ('cure', 7532),\n",
              " ('program', 14879),\n",
              " ('//t.co/073izwx0lb', 425),\n",
              " ('lind', 12160),\n",
              " ('//t.co/okmlagvkjv', 2515),\n",
              " ('rescued', 15487),\n",
              " ('jammu', 11323),\n",
              " ('|', 19563),\n",
              " ('kashmir', 11590),\n",
              " ('delhi', 7813),\n",
              " ('18', 3884),\n",
              " ('bovines', 6062),\n",
              " ('3', 4084),\n",
              " ('smugglersåênabbed', 16695),\n",
              " ('//t.co/e7fn5g5ruu', 1374),\n",
              " ('fredericksburg', 9501),\n",
              " ('virginia', 18735),\n",
              " ('wwp', 19350),\n",
              " ('serving', 16282),\n",
              " ('more', 13155),\n",
              " ('75k', 4334),\n",
              " ('veterans', 18673),\n",
              " ('52k', 4242),\n",
              " ('oif/oef', 13880),\n",
              " ('vets', 18674),\n",
              " ('physical', 14465),\n",
              " ('many', 12583),\n",
              " ('invisible', 11167),\n",
              " ('ones', 13940),\n",
              " ('//t.co/shhlv4dplz', 2924),\n",
              " ('client', 6935),\n",
              " ('dust', 8391),\n",
              " ('20storm', 4018),\n",
              " ('learned', 12005),\n",
              " ('about', 4536),\n",
              " ('economics', 8479),\n",
              " ('south', 16836),\n",
              " ('dakota', 7596),\n",
              " ('storm', 17130),\n",
              " ('did', 7994),\n",
              " ('years', 19422),\n",
              " ('college', 7052),\n",
              " ('-hubert', 371),\n",
              " ('humphrey', 10724),\n",
              " ('wrecked', 19312),\n",
              " ('cramer', 7380),\n",
              " ('iger', 10865),\n",
              " ('words', 19256),\n",
              " ('disney', 8091),\n",
              " ('stock', 17107),\n",
              " ('//t.co/sf5jdnvdw9', 2918),\n",
              " ('til_now', 17919),\n",
              " ('cnbc', 6979),\n",
              " ('tring', 18211),\n",
              " ('marc_holl', 12594),\n",
              " ('nennicook', 13475),\n",
              " ('aitchkaycee', 4770),\n",
              " ('vixstuart', 18760),\n",
              " ('benjbeckwith', 5738),\n",
              " ('pretty', 14815),\n",
              " ('disaster', 8059),\n",
              " ('gbbo', 9732),\n",
              " ('obliteration', 13797),\n",
              " ('canada', 6450),\n",
              " ('need', 13456),\n",
              " ('arcade', 5116),\n",
              " ('shooter', 16418),\n",
              " ('fix', 9272),\n",
              " ('cte', 7503),\n",
              " ('empty', 8640),\n",
              " ('only', 13948),\n",
              " ('running', 15859),\n",
              " (\"'d\", 66),\n",
              " ('even', 8831),\n",
              " ('buy', 6331),\n",
              " ('cod', 7014),\n",
              " ('title', 17956),\n",
              " ('they', 17805),\n",
              " ('overpriced', 14112),\n",
              " ('steam', 17066),\n",
              " ('bioterrorism', 5837),\n",
              " ('firepower', 9249),\n",
              " ('lab', 11860),\n",
              " ('[', 4454),\n",
              " ('electronic', 8558),\n",
              " ('resource', 15509),\n",
              " (']', 4458),\n",
              " ('automation', 5365),\n",
              " ('against', 4716),\n",
              " ('infectious', 11024),\n",
              " ('diseases', 8081),\n",
              " ('/\\x89û_', 3694),\n",
              " ('//t.co/kvpbybglsr', 2106),\n",
              " ('graysondolan', 9994),\n",
              " ('u', 18370),\n",
              " ('me', 12736),\n",
              " ('explode', 8925),\n",
              " ('washington', 18915),\n",
              " ('d.c.', 7575),\n",
              " ('kendall', 11640),\n",
              " ('jenner', 11382),\n",
              " ('nick', 13552),\n",
              " ('jonas', 11465),\n",
              " ('dating', 7676),\n",
              " ('quite', 15094),\n",
              " ('literally', 12194),\n",
              " ('//t.co/pfvzvpxqgr', 2606),\n",
              " ('always', 4895),\n",
              " ('tell', 17629),\n",
              " ('mom', 13105),\n",
              " ('bring', 6165),\n",
              " ('hold', 10546),\n",
              " ('her', 10418),\n",
              " ('cat', 6576),\n",
              " ('heat', 10362),\n",
              " ('20wave', 4021),\n",
              " ('fort', 9436),\n",
              " ('worth', 19290),\n",
              " ('rt', 15822),\n",
              " ('startelegram', 17030),\n",
              " ('homeless', 10575),\n",
              " ('vulnerable', 18801),\n",
              " ('north', 13658),\n",
              " ('wave', 18942),\n",
              " ('//t.co/k9airfq3ql', 2029),\n",
              " ('//t.co/jdbtlymehy', 1940),\n",
              " ('nuclear', 13726),\n",
              " ('20reactor', 4012),\n",
              " ('co', 6987),\n",
              " ('solar', 16752),\n",
              " ('power', 14723),\n",
              " ('japanese', 11340),\n",
              " ('fukushima', 9595),\n",
              " ('reactor', 15246),\n",
              " ('energy', 8674),\n",
              " ('japan', 11339),\n",
              " ('temperature', 17640),\n",
              " ('fuel', 9588),\n",
              " ('pool', 14660),\n",
              " ('//t.co/ys3nmwwyvc', 3566),\n",
              " ('//t.co/alpotnb7q3', 986),\n",
              " ('arvada', 5197),\n",
              " ('least', 12009),\n",
              " ('taken', 17501),\n",
              " ('local\\x89û_', 12264),\n",
              " ('//t.co/wlmsq3mtho', 3345),\n",
              " ('trauma', 18152),\n",
              " ('nashville', 13391),\n",
              " ('tn', 17971),\n",
              " ('esteemed', 8797),\n",
              " ('journalist', 11486),\n",
              " ('recalls', 15295),\n",
              " ('tragic', 18121),\n",
              " ('effects', 8517),\n",
              " ('unaddressed', 18414),\n",
              " ('childhood', 6781),\n",
              " ('keithboykin', 11629),\n",
              " ('randallpinkston', 15177),\n",
              " ('pozarmy', 14728),\n",
              " ('//t.co/gxq1auzb18', 1683),\n",
              " ('panicking', 14201),\n",
              " ('feel', 9122),\n",
              " ('results', 15540),\n",
              " ('back', 5444),\n",
              " ('alarmingly', 4797),\n",
              " ('calm', 6406),\n",
              " ('lightning', 12134),\n",
              " ('thunder', 17885),\n",
              " ('possible', 14692),\n",
              " ('pinpoint', 14503),\n",
              " ('foothill', 9397),\n",
              " ('forecast', 9406),\n",
              " ('//t.co/ctijdpxabk', 1224),\n",
              " ('displaced', 8101),\n",
              " ('40', 4171),\n",
              " ('ocean', 13815),\n",
              " ('township', 18094),\n",
              " ('apartment', 5052),\n",
              " ('newyork', 13522),\n",
              " ('//t.co/uelz59wvom', 3144),\n",
              " ('massacre', 12658),\n",
              " ('stay', 17057),\n",
              " ('tuned', 18294),\n",
              " ('freddiedeboer', 9498),\n",
              " ('thucydiplease', 17883),\n",
              " ('rise', 15649),\n",
              " ('coates', 7004),\n",
              " ('charleston', 6712),\n",
              " ('walter', 18866),\n",
              " ('scott', 16103),\n",
              " ('black', 5870),\n",
              " ('twitter', 18343),\n",
              " ('broadly', 6183),\n",
              " ('well', 19014),\n",
              " ('deaths', 7736),\n",
              " ('tennessee/gallifrey', 17651),\n",
              " ('mathew_is_angry', 12678),\n",
              " ('z3ke_sk1', 19515),\n",
              " ('saladinahmed', 15942),\n",
              " ('died', 8001),\n",
              " ('horrible', 10629),\n",
              " ('trapped', 18149),\n",
              " ('ships', 16397),\n",
              " ('risk', 15652),\n",
              " ('20buildings', 3998),\n",
              " ('whiterun', 19087),\n",
              " ('skyrim', 16600),\n",
              " ('destruction', 7931),\n",
              " ('fine', 9221),\n",
              " ('just', 11532),\n",
              " ('windstorm', 19153),\n",
              " ('palm', 14180),\n",
              " ('county', 7336),\n",
              " ('fl', 9280),\n",
              " ('reality', 15267),\n",
              " ('training', 18127),\n",
              " ('falls', 9026),\n",
              " ('off', 13833),\n",
              " ('elevated', 8569),\n",
              " ('tracks', 18107),\n",
              " ('//t.co/jiomnrcygt', 1954),\n",
              " ('paramedic', 14220),\n",
              " ('ems', 8642),\n",
              " ('rescuers', 15489),\n",
              " ('fears', 9109),\n",
              " ('missing', 13028),\n",
              " ('migrants', 12928),\n",
              " ('med', 12755),\n",
              " ('search', 16150),\n",
              " ('survivors', 17376),\n",
              " ('boat', 5975),\n",
              " ('carrying', 6543),\n",
              " ('//t.co/6ds67xai5e', 742),\n",
              " ('derailed', 7884),\n",
              " ('toronto', 18053),\n",
              " ('derailed_benchmark', 7885),\n",
              " ('cool', 7257),\n",
              " ('paths', 14279),\n",
              " ('wonder', 19235),\n",
              " ('can', 6447),\n",
              " ('find', 9218),\n",
              " ('leaks', 12003),\n",
              " ('jobs', 11436),\n",
              " ('given', 9833),\n",
              " ('resque', 15524),\n",
              " ('too', 18026),\n",
              " ('ladies', 11871),\n",
              " ('tote', 18070),\n",
              " ('handbag', 10207),\n",
              " ('women', 19229),\n",
              " ('faux', 9088),\n",
              " ('leather', 12010),\n",
              " ('fashion', 9068),\n",
              " ('purse', 15027),\n",
              " ('//t.co/y87gi3brlv', 3501),\n",
              " ('//t.co/1zbhvdcxzs', 527),\n",
              " ('raishimi33', 15163),\n",
              " ('sounds', 16830),\n",
              " ('plan', 14551),\n",
              " ('little', 12200),\n",
              " ('applaud', 5079),\n",
              " ('catastrophic', 6582),\n",
              " ('buxton', 6330),\n",
              " ('venice', 18652),\n",
              " ('nottingham', 13695),\n",
              " (\"'invading\", 141),\n",
              " ('iraq', 11193),\n",
              " ('mistake', 13037),\n",
              " ('diplomacy', 8031),\n",
              " ('needs', 13460),\n",
              " ('replace', 15460),\n",
              " ('constant', 7214),\n",
              " ('threat', 17854),\n",
              " ('war', 18880),\n",
              " ('israel', 11237),\n",
              " ('//t.co/yqjpn3quux', 3558),\n",
              " ('related', 15391),\n",
              " (\"'isis\", 145),\n",
              " ('threatens', 17857),\n",
              " ('europe', 8816),\n",
              " ('//t.co/wk6b5z803o', 3341),\n",
              " ('livingston', 12228),\n",
              " ('mt', 13255),\n",
              " ('marynmck', 12648),\n",
              " ('beyond', 5777),\n",
              " ('adorable', 4653),\n",
              " ('hope', 10613),\n",
              " ('wo', 19212),\n",
              " ('been', 5673),\n",
              " ('noticed', 13684),\n",
              " ('devastation', 7951),\n",
              " ('mount', 13204),\n",
              " ('vernon', 18662),\n",
              " ('coming', 7095),\n",
              " ('target', 17536),\n",
              " ('starbucks', 17020),\n",
              " ('closed', 6951),\n",
              " ('momneedscoffee', 13110),\n",
              " ('asap', 5202),\n",
              " ('iwontmakeit', 11273),\n",
              " ('bombed', 6001),\n",
              " ('screwston', 16131),\n",
              " ('tx', 18351),\n",
              " (\"'redskins\", 217),\n",
              " ('wr', 19304),\n",
              " ('roberts', 15692),\n",
              " ('belly-bombed', 5719),\n",
              " ('teamstream', 17594),\n",
              " ('//t.co/gbcvvevdty', 1598),\n",
              " ('hellfire', 10395),\n",
              " ('allah', 4843),\n",
              " ('describes', 7897),\n",
              " ('piling', 14493),\n",
              " ('wealth', 18970),\n",
              " ('thinking', 17819),\n",
              " ('forever', 9415),\n",
              " ('surah', 17347),\n",
              " ('humaza', 10715),\n",
              " ('reflect', 15352),\n",
              " ('worldwide', 19276),\n",
              " ('loved', 12365),\n",
              " ('way', 18947),\n",
              " ('written', 19326),\n",
              " ('include', 10964),\n",
              " ('vantage', 18625),\n",
              " ('points', 14628),\n",
              " ('detkenlang', 7940),\n",
              " ...]"
            ]
          },
          "metadata": {},
          "execution_count": 25
        }
      ]
    },
    {
      "cell_type": "code",
      "source": [
        "from string import punctuation"
      ],
      "metadata": {
        "id": "jcctnM6arnxW"
      },
      "execution_count": 26,
      "outputs": []
    },
    {
      "cell_type": "code",
      "source": [
        "def my_vectorizer(slovar):\n",
        "  summa_1 = summa_2 = summa_3 = 0\n",
        "  for i in slovar:\n",
        "    if [s for s in i[0] if s in '1234567890']:\n",
        "      summa_1 += 1\n",
        "    for l in i[0]:\n",
        "      if l in punctuation:\n",
        "        summa_2 += 1\n",
        "        break\n",
        "    if i[0][0] == '#' or i[0][0] == '@':\n",
        "      summa_3 += 1\n",
        "  return summa_1, summa_2, summa_3"
      ],
      "metadata": {
        "id": "8mlg295Ap13j"
      },
      "execution_count": 27,
      "outputs": []
    },
    {
      "cell_type": "code",
      "source": [
        "my_vectorizer(list(vec.vocabulary_.items()))"
      ],
      "metadata": {
        "colab": {
          "base_uri": "https://localhost:8080/"
        },
        "id": "1uuFNqJ5BC6M",
        "outputId": "4ef25715-b844-49f9-b0cd-bfa7102cf368"
      },
      "execution_count": 28,
      "outputs": [
        {
          "output_type": "execute_result",
          "data": {
            "text/plain": [
              "(4045, 5250, 2)"
            ]
          },
          "metadata": {},
          "execution_count": 28
        }
      ]
    },
    {
      "cell_type": "code",
      "source": [
        "print(f'Все слова, которые содержат цифры: {my_vectorizer(list(vec.vocabulary_.items()))[0]}.')\n",
        "print(f'Все слова, которые содержат символы пунктуации: {my_vectorizer(list(vec.vocabulary_.items()))[1]}.')\n",
        "print(f'Количество хэштегов и упоминаний, которые остались в словаре: {my_vectorizer(list(vec.vocabulary_.items()))[2]}.')"
      ],
      "metadata": {
        "colab": {
          "base_uri": "https://localhost:8080/"
        },
        "id": "nkpwz3MP91vv",
        "outputId": "26eec95b-a2a4-4b12-c512-6723dc156804"
      },
      "execution_count": 29,
      "outputs": [
        {
          "output_type": "stream",
          "name": "stdout",
          "text": [
            "Все слова, которые содержат цифры: 4045.\n",
            "Все слова, которые содержат символы пунктуации: 5250.\n",
            "Количество хэштегов и упоминаний, которые остались в словаре: 2.\n"
          ]
        }
      ]
    },
    {
      "cell_type": "markdown",
      "metadata": {
        "id": "oVcfAj3u5O3v"
      },
      "source": [
        "## Задание 6 (0.5 балла)\n",
        "\n",
        "Вспомним, что на семинаре по текстам мы узнали, что в nltk есть специальный токенизатор для текстов - TweetTokenizer. Попробуем применить CountVectorizer с этим токенизатором. Ответьте на все вопросы из предыдущего пункта для TweetTokenizer и сравните результаты."
      ]
    },
    {
      "cell_type": "code",
      "execution_count": 30,
      "metadata": {
        "id": "wMzvgYYv5O3w",
        "colab": {
          "base_uri": "https://localhost:8080/"
        },
        "outputId": "39df2558-4a73-4e60-be2e-4931e644af5a"
      },
      "outputs": [
        {
          "output_type": "execute_result",
          "data": {
            "text/plain": [
              "(5329, 19668)"
            ]
          },
          "metadata": {},
          "execution_count": 30
        }
      ],
      "source": [
        "from nltk.tokenize import TweetTokenizer\n",
        "from nltk import tokenize\n",
        "tweet = TweetTokenizer()\n",
        "\n",
        "vec_2 = CountVectorizer(tokenizer=tweet.tokenize)\n",
        "bow_2 = vec_2.fit_transform(train.main) \n",
        "bow_2.shape"
      ]
    },
    {
      "cell_type": "code",
      "source": [
        "def my_vectorizer(slovar):\n",
        "  summa_1 = summa_2 = summa_3 = 0\n",
        "  for i in slovar:\n",
        "    if [s for s in i[0] if s in '1234567890']:\n",
        "      summa_1 += 1\n",
        "    for l in i[0]:\n",
        "      if l in punctuation:\n",
        "        summa_2 += 1\n",
        "        break\n",
        "    if i[0][0] == '#' or i[0][0] == '@':\n",
        "      summa_3 += 1\n",
        "  return summa_1, summa_2, summa_3"
      ],
      "metadata": {
        "id": "JcooEc_zRw27"
      },
      "execution_count": 31,
      "outputs": []
    },
    {
      "cell_type": "code",
      "source": [
        "my_vectorizer(list(vec_2.vocabulary_.items()))"
      ],
      "metadata": {
        "colab": {
          "base_uri": "https://localhost:8080/"
        },
        "id": "ct7LfftvR6-y",
        "outputId": "baf88a7b-f2c8-46a3-e5ed-05611a3c72b6"
      },
      "execution_count": null,
      "outputs": [
        {
          "output_type": "execute_result",
          "data": {
            "text/plain": [
              "(3940, 7338, 3149)"
            ]
          },
          "metadata": {},
          "execution_count": 32
        }
      ]
    },
    {
      "cell_type": "code",
      "source": [
        "print(f'Все слова, которые содержат цифры: {my_vectorizer(list(vec_2.vocabulary_.items()))[0]}.')\n",
        "print(f'Все слова, которые содержат символы пунктуации: {my_vectorizer(list(vec_2.vocabulary_.items()))[1]}.')\n",
        "print(f'Количество хэштегов и упоминаний, которые остались в словаре: {my_vectorizer(list(vec_2.vocabulary_.items()))[2]}.')"
      ],
      "metadata": {
        "colab": {
          "base_uri": "https://localhost:8080/"
        },
        "id": "a04BHJgo-kCX",
        "outputId": "df6bc177-2167-4599-a5cb-ce623d560783"
      },
      "execution_count": 32,
      "outputs": [
        {
          "output_type": "stream",
          "name": "stdout",
          "text": [
            "Все слова, которые содержат цифры: 3940.\n",
            "Все слова, которые содержат символы пунктуации: 7338.\n",
            "Количество хэштегов и упоминаний, которые остались в словаре: 3149.\n"
          ]
        }
      ]
    },
    {
      "cell_type": "markdown",
      "source": [
        "Заметно увеличилось количество слов, содержащих символы пунктуации и хэштеги/упоминания, что неудивительно, так как tweet_tokenizer специально адаптирован под обработку твитов (сохраняет смайлики, хэштеги и т.д.)"
      ],
      "metadata": {
        "id": "1jvjL_R3_BLC"
      }
    },
    {
      "cell_type": "markdown",
      "metadata": {
        "id": "4J-I8pHt5O3x"
      },
      "source": [
        "## Задание 7 (2 балла)\n",
        "\n",
        "В scikit-learn мы можем оценивать процесс подсчета матрицы через CountVectorizer. У CountVectorizer, как и у других наследников \\_VectorizerMixin, есть аргумент tokenizer и preprocessor. preprocessor применится в самом начале к каждой строке вашего датасета, tokenizer же должен принять строку и вернуть токены.\n",
        "Давайте напишем кастомный токенайзер, которые сделает все, что нам нужно: \n",
        "\n",
        "0. Приведет все буквы к нижнему регистру\n",
        "1. Разобьет текст на токены с помощью TweetTokenizer из пакета nltk\n",
        "2. Удалит все токены содержащие не латинские буквы, кроме смайликов (будем считать ими токены содержащие только пунктуацию и, как минимум, одну скобочку) и хэштегов, которые после начальной # содержат только латинские буквы.\n",
        "3. Удалит все токены, которые перечислены в nltk.corpus.stopwords.words('english')\n",
        "4. Проведет стемминг с помощью SnowballStemmer\n",
        "\n",
        "Продемонстрируйте работу вашей функции на первых десяти текстах в обучающей выборке."
      ]
    },
    {
      "cell_type": "code",
      "source": [
        "from nltk.tokenize import TweetTokenizer\n",
        "from nltk import tokenize\n",
        "tweet = TweetTokenizer()"
      ],
      "metadata": {
        "id": "LUi_zHbk02tA"
      },
      "execution_count": 33,
      "outputs": []
    },
    {
      "cell_type": "code",
      "source": [
        "import re\n",
        "from nltk.stem.snowball import SnowballStemmer\n",
        "\n",
        "import nltk\n",
        "from nltk.corpus import stopwords\n",
        "nltk.download('stopwords')\n",
        "\n",
        "STOPWORDS = set(stopwords.words('english'))\n",
        "\n",
        "\n",
        "def customized_tokenizer(text):\n",
        "    text = text.lower()\n",
        "    text_stop = ' '.join(word for word in text.split() if word not in STOPWORDS)\n",
        "    text_tags = re.findall(r'([#][a-z]+)', text)\n",
        "    text_copy = text.split()\n",
        "    for i in text_copy:\n",
        "      if i[0] == '#':\n",
        "        text_copy.remove(i)\n",
        "    text_new = \" \".join(text_copy)\n",
        "    text_new_latin_and_smiles = re.findall(r'(\\b[a-z]+)', text_new) + re.findall(r'[:;][-()]+', text_new) + re.findall(r'[-()][:;]+', text_new)\n",
        "    text_final = text_tags + text_new_latin_and_smiles\n",
        "    stemmer = SnowballStemmer('english')\n",
        "    stemmed_example = [stemmer.stem(w) for w in text_final]\n",
        "    text_final_final = ' '.join(stemmed_example)\n",
        "    return text_final_final"
      ],
      "metadata": {
        "id": "wAy8vjI_boV3",
        "colab": {
          "base_uri": "https://localhost:8080/"
        },
        "outputId": "f368d3ad-3ee9-4938-8fc2-795ecf28b7fe"
      },
      "execution_count": 34,
      "outputs": [
        {
          "output_type": "stream",
          "name": "stdout",
          "text": [
            "[nltk_data] Downloading package stopwords to /root/nltk_data...\n",
            "[nltk_data]   Unzipping corpora/stopwords.zip.\n"
          ]
        }
      ]
    },
    {
      "cell_type": "code",
      "source": [
        "mid_train = train[0:10]\n",
        "mid_train['main'] = mid_train['main'].apply(customized_tokenizer)\n",
        "mid_train"
      ],
      "metadata": {
        "colab": {
          "base_uri": "https://localhost:8080/",
          "height": 473
        },
        "id": "_iMDdhd3Gj5w",
        "outputId": "a16ccdb6-6dbf-414a-a488-4b8d616602bc"
      },
      "execution_count": 35,
      "outputs": [
        {
          "output_type": "stream",
          "name": "stderr",
          "text": [
            "/usr/local/lib/python3.7/dist-packages/ipykernel_launcher.py:2: SettingWithCopyWarning: \n",
            "A value is trying to be set on a copy of a slice from a DataFrame.\n",
            "Try using .loc[row_indexer,col_indexer] = value instead\n",
            "\n",
            "See the caveats in the documentation: https://pandas.pydata.org/pandas-docs/stable/user_guide/indexing.html#returning-a-view-versus-a-copy\n",
            "  \n"
          ]
        },
        {
          "output_type": "execute_result",
          "data": {
            "text/plain": [
              "                                                   main\n",
              "1186  bridg ash australia collaps at trent bridg amo...\n",
              "4071  #goblu #wrestleon hail carol stream illinoi gr...\n",
              "5461  polic houston cnn tennesse movi theater shoot ...\n",
              "5787  riot still riot in a coupl of hour left until ...\n",
              "7445  wound lake highland crack in the path where i ...\n",
              "151   #mlb airplan somewher out there expert in fran...\n",
              "915   bloodi isol citi in world perth i came to kill...\n",
              "1305  burn johnsontionn except idk them it s realli ...\n",
              "2570     destroy he him or she her ask destroy the hous\n",
              "7399  wound maracay y nirgua venezuela polic offic w..."
            ],
            "text/html": [
              "\n",
              "  <div id=\"df-37cc55ef-0b28-4a86-bea4-407147bb0d06\">\n",
              "    <div class=\"colab-df-container\">\n",
              "      <div>\n",
              "<style scoped>\n",
              "    .dataframe tbody tr th:only-of-type {\n",
              "        vertical-align: middle;\n",
              "    }\n",
              "\n",
              "    .dataframe tbody tr th {\n",
              "        vertical-align: top;\n",
              "    }\n",
              "\n",
              "    .dataframe thead th {\n",
              "        text-align: right;\n",
              "    }\n",
              "</style>\n",
              "<table border=\"1\" class=\"dataframe\">\n",
              "  <thead>\n",
              "    <tr style=\"text-align: right;\">\n",
              "      <th></th>\n",
              "      <th>main</th>\n",
              "    </tr>\n",
              "  </thead>\n",
              "  <tbody>\n",
              "    <tr>\n",
              "      <th>1186</th>\n",
              "      <td>bridg ash australia collaps at trent bridg amo...</td>\n",
              "    </tr>\n",
              "    <tr>\n",
              "      <th>4071</th>\n",
              "      <td>#goblu #wrestleon hail carol stream illinoi gr...</td>\n",
              "    </tr>\n",
              "    <tr>\n",
              "      <th>5461</th>\n",
              "      <td>polic houston cnn tennesse movi theater shoot ...</td>\n",
              "    </tr>\n",
              "    <tr>\n",
              "      <th>5787</th>\n",
              "      <td>riot still riot in a coupl of hour left until ...</td>\n",
              "    </tr>\n",
              "    <tr>\n",
              "      <th>7445</th>\n",
              "      <td>wound lake highland crack in the path where i ...</td>\n",
              "    </tr>\n",
              "    <tr>\n",
              "      <th>151</th>\n",
              "      <td>#mlb airplan somewher out there expert in fran...</td>\n",
              "    </tr>\n",
              "    <tr>\n",
              "      <th>915</th>\n",
              "      <td>bloodi isol citi in world perth i came to kill...</td>\n",
              "    </tr>\n",
              "    <tr>\n",
              "      <th>1305</th>\n",
              "      <td>burn johnsontionn except idk them it s realli ...</td>\n",
              "    </tr>\n",
              "    <tr>\n",
              "      <th>2570</th>\n",
              "      <td>destroy he him or she her ask destroy the hous</td>\n",
              "    </tr>\n",
              "    <tr>\n",
              "      <th>7399</th>\n",
              "      <td>wound maracay y nirgua venezuela polic offic w...</td>\n",
              "    </tr>\n",
              "  </tbody>\n",
              "</table>\n",
              "</div>\n",
              "      <button class=\"colab-df-convert\" onclick=\"convertToInteractive('df-37cc55ef-0b28-4a86-bea4-407147bb0d06')\"\n",
              "              title=\"Convert this dataframe to an interactive table.\"\n",
              "              style=\"display:none;\">\n",
              "        \n",
              "  <svg xmlns=\"http://www.w3.org/2000/svg\" height=\"24px\"viewBox=\"0 0 24 24\"\n",
              "       width=\"24px\">\n",
              "    <path d=\"M0 0h24v24H0V0z\" fill=\"none\"/>\n",
              "    <path d=\"M18.56 5.44l.94 2.06.94-2.06 2.06-.94-2.06-.94-.94-2.06-.94 2.06-2.06.94zm-11 1L8.5 8.5l.94-2.06 2.06-.94-2.06-.94L8.5 2.5l-.94 2.06-2.06.94zm10 10l.94 2.06.94-2.06 2.06-.94-2.06-.94-.94-2.06-.94 2.06-2.06.94z\"/><path d=\"M17.41 7.96l-1.37-1.37c-.4-.4-.92-.59-1.43-.59-.52 0-1.04.2-1.43.59L10.3 9.45l-7.72 7.72c-.78.78-.78 2.05 0 2.83L4 21.41c.39.39.9.59 1.41.59.51 0 1.02-.2 1.41-.59l7.78-7.78 2.81-2.81c.8-.78.8-2.07 0-2.86zM5.41 20L4 18.59l7.72-7.72 1.47 1.35L5.41 20z\"/>\n",
              "  </svg>\n",
              "      </button>\n",
              "      \n",
              "  <style>\n",
              "    .colab-df-container {\n",
              "      display:flex;\n",
              "      flex-wrap:wrap;\n",
              "      gap: 12px;\n",
              "    }\n",
              "\n",
              "    .colab-df-convert {\n",
              "      background-color: #E8F0FE;\n",
              "      border: none;\n",
              "      border-radius: 50%;\n",
              "      cursor: pointer;\n",
              "      display: none;\n",
              "      fill: #1967D2;\n",
              "      height: 32px;\n",
              "      padding: 0 0 0 0;\n",
              "      width: 32px;\n",
              "    }\n",
              "\n",
              "    .colab-df-convert:hover {\n",
              "      background-color: #E2EBFA;\n",
              "      box-shadow: 0px 1px 2px rgba(60, 64, 67, 0.3), 0px 1px 3px 1px rgba(60, 64, 67, 0.15);\n",
              "      fill: #174EA6;\n",
              "    }\n",
              "\n",
              "    [theme=dark] .colab-df-convert {\n",
              "      background-color: #3B4455;\n",
              "      fill: #D2E3FC;\n",
              "    }\n",
              "\n",
              "    [theme=dark] .colab-df-convert:hover {\n",
              "      background-color: #434B5C;\n",
              "      box-shadow: 0px 1px 3px 1px rgba(0, 0, 0, 0.15);\n",
              "      filter: drop-shadow(0px 1px 2px rgba(0, 0, 0, 0.3));\n",
              "      fill: #FFFFFF;\n",
              "    }\n",
              "  </style>\n",
              "\n",
              "      <script>\n",
              "        const buttonEl =\n",
              "          document.querySelector('#df-37cc55ef-0b28-4a86-bea4-407147bb0d06 button.colab-df-convert');\n",
              "        buttonEl.style.display =\n",
              "          google.colab.kernel.accessAllowed ? 'block' : 'none';\n",
              "\n",
              "        async function convertToInteractive(key) {\n",
              "          const element = document.querySelector('#df-37cc55ef-0b28-4a86-bea4-407147bb0d06');\n",
              "          const dataTable =\n",
              "            await google.colab.kernel.invokeFunction('convertToInteractive',\n",
              "                                                     [key], {});\n",
              "          if (!dataTable) return;\n",
              "\n",
              "          const docLinkHtml = 'Like what you see? Visit the ' +\n",
              "            '<a target=\"_blank\" href=https://colab.research.google.com/notebooks/data_table.ipynb>data table notebook</a>'\n",
              "            + ' to learn more about interactive tables.';\n",
              "          element.innerHTML = '';\n",
              "          dataTable['output_type'] = 'display_data';\n",
              "          await google.colab.output.renderOutput(dataTable, element);\n",
              "          const docLink = document.createElement('div');\n",
              "          docLink.innerHTML = docLinkHtml;\n",
              "          element.appendChild(docLink);\n",
              "        }\n",
              "      </script>\n",
              "    </div>\n",
              "  </div>\n",
              "  "
            ]
          },
          "metadata": {},
          "execution_count": 35
        }
      ]
    },
    {
      "cell_type": "markdown",
      "metadata": {
        "id": "P5rDMgOn5O3y"
      },
      "source": [
        "## Задание 8 (1 балл)\n",
        "\n",
        "1. Примените CountVectorizer с реализованным выше токенизатором к обучающим и тестовым выборкам.\n",
        "2. Обучите LogisticRegression на полученных признаках.\n",
        "3. Посчитайте метрику f1-score на тестовых данных."
      ]
    },
    {
      "cell_type": "code",
      "source": [
        "from sklearn.linear_model import LogisticRegression # можно заменить на любимый классификатор\n",
        "from sklearn.feature_extraction.text import CountVectorizer\n",
        "from sklearn.metrics import classification_report, roc_auc_score"
      ],
      "metadata": {
        "id": "iba35q8lADmD"
      },
      "execution_count": 36,
      "outputs": []
    },
    {
      "cell_type": "code",
      "source": [
        "train['main_1'] = train['main'].apply(customized_tokenizer)\n",
        "test['main_1'] = test['main'].apply(customized_tokenizer)"
      ],
      "metadata": {
        "id": "O_1PBDBoT3jX"
      },
      "execution_count": 37,
      "outputs": []
    },
    {
      "cell_type": "code",
      "source": [
        "cnt_vec_3 = CountVectorizer() \n",
        "train_final = cnt_vec_3.fit_transform(train.main_1) \n",
        "test_final = cnt_vec_3.transform(test.main_1)"
      ],
      "metadata": {
        "id": "2lc2ZGGJBC_v"
      },
      "execution_count": 38,
      "outputs": []
    },
    {
      "cell_type": "code",
      "source": [
        "clf = LogisticRegression(max_iter=200, random_state=42)\n",
        "clf.fit(train_final, y_train)\n",
        "pred = clf.predict(test_final)\n",
        "print(classification_report(y_test, pred))"
      ],
      "metadata": {
        "colab": {
          "base_uri": "https://localhost:8080/"
        },
        "id": "z0Vex-bWCRNP",
        "outputId": "538073fd-3acd-4ef7-d1e4-b937ff8120b0"
      },
      "execution_count": 39,
      "outputs": [
        {
          "output_type": "stream",
          "name": "stdout",
          "text": [
            "              precision    recall  f1-score   support\n",
            "\n",
            "           0       0.81      0.86      0.83      1318\n",
            "           1       0.79      0.73      0.76       966\n",
            "\n",
            "    accuracy                           0.80      2284\n",
            "   macro avg       0.80      0.79      0.80      2284\n",
            "weighted avg       0.80      0.80      0.80      2284\n",
            "\n"
          ]
        }
      ]
    },
    {
      "cell_type": "markdown",
      "metadata": {
        "id": "bKS0WFim5O3z"
      },
      "source": [
        "## Задание 9 (1 балл)\n",
        "\n",
        "1. Повторите 7 задание, но с tf-idf векторизатором. Как изменилось качество?\n",
        "2. Мы можем еще сильнее уменьшить размер нашей матрицы, если отбросим значения df близкие к единице. Скорее всего такие слова не несут много информации о категории, так как встречаются достаточно часто. Ограничьте максимальный df в параметрах TfIdfVectorizer, поставьте верхнюю границу равную 0.9. Как изменился размер матрицы, как изменилось качество?\n",
        "3. Также мы можем уменьшить размер матрицы, удаляя слова со слишком маленьким df. Удалось ли добиться улучшения качества? "
      ]
    },
    {
      "cell_type": "code",
      "source": [
        "from sklearn.feature_extraction.text import TfidfVectorizer\n",
        "from nltk import tokenize\n",
        "tfidf_vec = TfidfVectorizer()"
      ],
      "metadata": {
        "id": "dAJkR_xQNidG"
      },
      "execution_count": 40,
      "outputs": []
    },
    {
      "cell_type": "code",
      "source": [
        "train['main_2'] = train['main'].apply(customized_tokenizer)\n",
        "test['main_2'] = test['main'].apply(customized_tokenizer)"
      ],
      "metadata": {
        "id": "6NMiGrdHNR2k"
      },
      "execution_count": 41,
      "outputs": []
    },
    {
      "cell_type": "code",
      "source": [
        "train_final_2 = tfidf_vec.fit_transform(train.main_2) \n",
        "test_final_2 = tfidf_vec.transform(test.main_2)"
      ],
      "metadata": {
        "id": "qHYMY1XGWtcK"
      },
      "execution_count": 42,
      "outputs": []
    },
    {
      "cell_type": "code",
      "source": [
        "clf_2 = LogisticRegression(max_iter=200, random_state=42)\n",
        "clf_2.fit(train_final_2, y_train)\n",
        "pred_2 = clf_2.predict(test_final_2)\n",
        "print(classification_report(y_test, pred)) # качество не изменилось"
      ],
      "metadata": {
        "colab": {
          "base_uri": "https://localhost:8080/"
        },
        "id": "_rZuXJT3RRfX",
        "outputId": "bd3207b4-8e14-494d-a072-c73d2e16df40"
      },
      "execution_count": 43,
      "outputs": [
        {
          "output_type": "stream",
          "name": "stdout",
          "text": [
            "              precision    recall  f1-score   support\n",
            "\n",
            "           0       0.81      0.86      0.83      1318\n",
            "           1       0.79      0.73      0.76       966\n",
            "\n",
            "    accuracy                           0.80      2284\n",
            "   macro avg       0.80      0.79      0.80      2284\n",
            "weighted avg       0.80      0.80      0.80      2284\n",
            "\n"
          ]
        }
      ]
    },
    {
      "cell_type": "code",
      "source": [
        "tfidf_vec_2 = TfidfVectorizer(max_df = 0.9)\n",
        "train_final_2_0 = tfidf_vec_2.fit_transform(train.main_2) \n",
        "test_final_2_0 = tfidf_vec_2.transform(test.main_2)\n",
        "print(f'Размер предыдущей матрицы: {train_final_2.shape}')\n",
        "print(f'Размер матрицы: {train_final_2_0.shape}')\n",
        "print(f'Размер предыдущей матрицы: {test_final_2.shape}')\n",
        "print(f'Размер матрицы: {test_final_2_0.shape}')\n",
        "\n",
        "clf = LogisticRegression(max_iter=200, random_state=42)\n",
        "clf.fit(train_final_2_0, y_train)\n",
        "pred = clf.predict(test_final_2_0) \n",
        "print(classification_report(y_test, pred)) # качество f1-меры улучшилось на 0 классе и при всзвешенном усреднении, precision стала чуть лучше, незначительно улучшилась усредненная полнота "
      ],
      "metadata": {
        "colab": {
          "base_uri": "https://localhost:8080/"
        },
        "id": "iqOSgWozMJMV",
        "outputId": "b6fd94b4-8ab5-41c4-adc2-89ab06e98935"
      },
      "execution_count": 44,
      "outputs": [
        {
          "output_type": "stream",
          "name": "stdout",
          "text": [
            "Размер предыдущей матрицы: (5329, 13741)\n",
            "Размер матрицы: (5329, 13741)\n",
            "Размер предыдущей матрицы: (2284, 13741)\n",
            "Размер матрицы: (2284, 13741)\n",
            "              precision    recall  f1-score   support\n",
            "\n",
            "           0       0.81      0.87      0.84      1318\n",
            "           1       0.81      0.72      0.76       966\n",
            "\n",
            "    accuracy                           0.81      2284\n",
            "   macro avg       0.81      0.80      0.80      2284\n",
            "weighted avg       0.81      0.81      0.81      2284\n",
            "\n"
          ]
        }
      ]
    },
    {
      "cell_type": "code",
      "source": [
        "def clean_words(text_3):\n",
        "    text_copy = text_3.split()\n",
        "    for i in text_copy:\n",
        "      result = list(filter(lambda x: len(x) > 3 , text_copy)) \n",
        "    text_clean = \" \".join(result)\n",
        "    return text_clean"
      ],
      "metadata": {
        "id": "oUsOXm_q6_tA"
      },
      "execution_count": 45,
      "outputs": []
    },
    {
      "cell_type": "code",
      "source": [
        "# 3 \n",
        "train['main_3'] = train['main'].apply(customized_tokenizer)\n",
        "test['main_3'] = test['main'].apply(customized_tokenizer)\n",
        "train['main_3'] = train['main_3'].apply(clean_words)\n",
        "test['main_3'] = test['main_3'].apply(clean_words)"
      ],
      "metadata": {
        "id": "ke8dFDE9PMh1"
      },
      "execution_count": 46,
      "outputs": []
    },
    {
      "cell_type": "code",
      "source": [
        "train_final_3 = tfidf_vec.fit_transform(train.main_3) \n",
        "test_final_3 = tfidf_vec.transform(test.main_3)"
      ],
      "metadata": {
        "id": "H7snigCD8Nw3"
      },
      "execution_count": 47,
      "outputs": []
    },
    {
      "cell_type": "code",
      "source": [
        "clf_3 = LogisticRegression(max_iter=200, random_state=42)\n",
        "clf_3.fit(train_final_3, y_train)\n",
        "pred_3 = clf_3.predict(test_final_3)\n",
        "print(classification_report(y_test, pred)) #качество не изменилось по сравнению с предыдущим случаем"
      ],
      "metadata": {
        "colab": {
          "base_uri": "https://localhost:8080/"
        },
        "id": "S5MnYkc28Wwt",
        "outputId": "3d9d1b98-4c3d-47c7-e005-9c05d796a0d3"
      },
      "execution_count": 48,
      "outputs": [
        {
          "output_type": "stream",
          "name": "stdout",
          "text": [
            "              precision    recall  f1-score   support\n",
            "\n",
            "           0       0.81      0.87      0.84      1318\n",
            "           1       0.81      0.72      0.76       966\n",
            "\n",
            "    accuracy                           0.81      2284\n",
            "   macro avg       0.81      0.80      0.80      2284\n",
            "weighted avg       0.81      0.81      0.81      2284\n",
            "\n"
          ]
        }
      ]
    },
    {
      "cell_type": "code",
      "source": [
        "print(f'Размер предыдущей матрицы: {train_final_2.shape}')\n",
        "print(f'Размер матрицы: {train_final_3.shape}')\n",
        "print(f'Размер предыдущей матрицы: {test_final_2.shape}')\n",
        "print(f'Размер матрицы: {test_final_3.shape}') #видим, что новая матрица значительно уменьшилась"
      ],
      "metadata": {
        "colab": {
          "base_uri": "https://localhost:8080/"
        },
        "id": "LIAEQMTg9v0X",
        "outputId": "d4d0ece9-78e4-443b-c86d-ee3e3a729c5f"
      },
      "execution_count": null,
      "outputs": [
        {
          "output_type": "stream",
          "name": "stdout",
          "text": [
            "Размер предыдущей матрицы: (5329, 13741)\n",
            "Размер матрицы: (5329, 12137)\n",
            "Размер предыдущей матрицы: (2284, 13741)\n",
            "Размер матрицы: (2284, 12137)\n"
          ]
        }
      ]
    },
    {
      "cell_type": "markdown",
      "metadata": {
        "id": "wt_a9caM5O30"
      },
      "source": [
        "## Задание 10 (1 балл)\n",
        "\n",
        "Еще один популяпный трюк, который позволит уменьшить количество признаков называется hashing trick. Его суть в том, то мы случайно группируем признаки ииии  ..... складываем их! А потом удаляем исходные признаки. В итоге все наши признаки это просто суммы исходных. Звучит странно, но это отлично работает. Давайте проверим этот трюк в нашем сеттинге.\n",
        "Также при таком подходе вам не нужно хранить словарь token->index, что тоже иногда полезно.\n",
        "\n",
        "1. Повторите задание 7 с HashingVectorizer, укажите количество фичей равное 5000.\n",
        "2. Какой из подходов показал самый высокий результат?"
      ]
    },
    {
      "cell_type": "code",
      "source": [
        "from sklearn.feature_extraction.text import HashingVectorizer\n",
        "from nltk import tokenize\n",
        "hash_vec = HashingVectorizer(n_features = 5000)"
      ],
      "metadata": {
        "id": "Oiq7TWzqfYVP"
      },
      "execution_count": 49,
      "outputs": []
    },
    {
      "cell_type": "code",
      "source": [
        "train['main'] = train['main'].apply(customized_tokenizer)\n",
        "test['main'] = test['main'].apply(customized_tokenizer)"
      ],
      "metadata": {
        "id": "Oy4Urodsfjvi"
      },
      "execution_count": 50,
      "outputs": []
    },
    {
      "cell_type": "code",
      "source": [
        "train_final_3 = hash_vec.fit_transform(train.main) \n",
        "test_final_3 = hash_vec.transform(test.main)"
      ],
      "metadata": {
        "id": "iR601uXWfmqH"
      },
      "execution_count": 51,
      "outputs": []
    },
    {
      "cell_type": "code",
      "source": [
        "clf_3 = LogisticRegression(max_iter=200, random_state=42)\n",
        "clf_3.fit(train_final_3, y_train)\n",
        "pred_3 = clf_3.predict(test_final_3)\n",
        "print(classification_report(y_test, pred))"
      ],
      "metadata": {
        "id": "KI6Dx55ffuE6",
        "outputId": "dcdcbe9f-a1d1-40a7-d6de-67bf58dc0d08",
        "colab": {
          "base_uri": "https://localhost:8080/"
        }
      },
      "execution_count": 52,
      "outputs": [
        {
          "output_type": "stream",
          "name": "stdout",
          "text": [
            "              precision    recall  f1-score   support\n",
            "\n",
            "           0       0.81      0.87      0.84      1318\n",
            "           1       0.81      0.72      0.76       966\n",
            "\n",
            "    accuracy                           0.81      2284\n",
            "   macro avg       0.81      0.80      0.80      2284\n",
            "weighted avg       0.81      0.81      0.81      2284\n",
            "\n"
          ]
        }
      ]
    },
    {
      "cell_type": "markdown",
      "source": [
        "Лучшее качество получилось при использовании таких векторайзеров, как HashingVectorizer и TfidfVectorizer с ограничениями по df.\n"
      ],
      "metadata": {
        "id": "3LZGXqjXALp1"
      }
    },
    {
      "cell_type": "markdown",
      "metadata": {
        "id": "V10q7o915O30"
      },
      "source": [
        "## Задание 11 (1 балл)\n",
        "\n",
        "В этом задании нужно добиться f1 меры хотя в 0.75 на тестовых данных."
      ]
    }
  ],
  "metadata": {
    "kernelspec": {
      "display_name": "Python 3 (ipykernel)",
      "language": "python",
      "name": "python3"
    },
    "language_info": {
      "codemirror_mode": {
        "name": "ipython",
        "version": 3
      },
      "file_extension": ".py",
      "mimetype": "text/x-python",
      "name": "python",
      "nbconvert_exporter": "python",
      "pygments_lexer": "ipython3",
      "version": "3.8.5"
    },
    "colab": {
      "name": "Simonova_hw06.ipynb",
      "provenance": [],
      "collapsed_sections": [
        "V10q7o915O30"
      ]
    }
  },
  "nbformat": 4,
  "nbformat_minor": 0
}